{
 "cells": [
  {
   "cell_type": "markdown",
   "metadata": {
    "Collapsed": "false"
   },
   "source": [
    "<img src=\"https://numpy.org/_static/numpy_logo.png\" width=50%>"
   ]
  },
  {
   "cell_type": "markdown",
   "metadata": {
    "Collapsed": "false"
   },
   "source": [
    "- 本笔记参考[菜鸟教程-NumPy](https://www.runoob.com/numpy/numpy-tutorial.html)和[Quickstart tutorial](https://numpy.org/devdocs/user/quickstart.html)"
   ]
  },
  {
   "cell_type": "markdown",
   "metadata": {
    "Collapsed": "false"
   },
   "source": [
    "----"
   ]
  },
  {
   "cell_type": "markdown",
   "metadata": {
    "Collapsed": "false",
    "toc-hr-collapsed": false
   },
   "source": [
    "# Ndarray对象"
   ]
  },
  {
   "cell_type": "markdown",
   "metadata": {
    "Collapsed": "false"
   },
   "source": [
    "NumPy最重要的⼀个特点就是其**N维数组对象（即ndarray）**，该对象是⼀个快速⽽灵活的⼤数据（同种类型）集容器"
   ]
  },
  {
   "cell_type": "markdown",
   "metadata": {
    "Collapsed": "false",
    "toc-hr-collapsed": true
   },
   "source": [
    "## ndarray基本属性"
   ]
  },
  {
   "cell_type": "markdown",
   "metadata": {
    "Collapsed": "false"
   },
   "source": [
    "比如以下数组a（实际上是一个**嵌套序列（nested sequence）**，但假设它是NumPy构造的array），我们要找到最大数10，用下标表示就是`a[1][1][0]`；于是我们说这是一个三维数组，有三个**轴(axes)**，三轴长度依次为：2，2，4"
   ]
  },
  {
   "cell_type": "markdown",
   "metadata": {
    "Collapsed": "false"
   },
   "source": [
    "NumPy 数组的维数称为**秩（rank）**，一维数组的秩为 1，二维数组的秩为 2，以此类推"
   ]
  },
  {
   "cell_type": "code",
   "execution_count": 22,
   "metadata": {
    "Collapsed": "false"
   },
   "outputs": [],
   "source": [
    "a=[[[1,2,3,4],[7,8,9,2]],[[4,5,6,7],[10,1,2,3]]]"
   ]
  },
  {
   "cell_type": "code",
   "execution_count": 23,
   "metadata": {
    "Collapsed": "false",
    "slideshow": {
     "slide_type": "slide"
    },
    "tags": [
     "1.1"
    ]
   },
   "outputs": [
    {
     "data": {
      "text/plain": [
       "10"
      ]
     },
     "execution_count": 23,
     "metadata": {},
     "output_type": "execute_result"
    }
   ],
   "source": [
    "a[1][1][0]"
   ]
  },
  {
   "cell_type": "markdown",
   "metadata": {
    "Collapsed": "false"
   },
   "source": [
    "要构造一个ndarray类对象，需要了解它最基本的属性:"
   ]
  },
  {
   "cell_type": "markdown",
   "metadata": {
    "Collapsed": "false"
   },
   "source": [
    "|Attribute|Description|\n",
    "|:----:|:--------------:|\n",
    "|ndim|轴数，即维度，a.ndim=3|\n",
    "|shape|一个表示数组形状的元组，其元素为各轴长度，a.shape=(2,2,4)\n",
    "|size|表述数组内元素总个数，a.size=2*2*4=16|\n",
    "|dtype|元素类型,包括一些特有类型，如numpy.int32\\int64\\float64|\n",
    "|itemsize|单个元素的字节，如int32为4字节|\n",
    "|data|储存实际元素的缓冲器(buffer)，非常用属性|\n",
    "|real|ndarray实部|\n",
    "|imag|ndarray虚部|"
   ]
  },
  {
   "cell_type": "code",
   "execution_count": 24,
   "metadata": {
    "Collapsed": "false",
    "tags": [
     "1.1"
    ]
   },
   "outputs": [
    {
     "name": "stdout",
     "output_type": "stream",
     "text": [
      "[[[ 1  2  3  4]\n",
      "  [ 7  8  9  2]]\n",
      "\n",
      " [[ 4  5  6  7]\n",
      "  [10  1  2  3]]]\n",
      "<class 'numpy.ndarray'>\n",
      "[[[ 1  2  3  4]\n",
      "  [ 7  8  9  2]]\n",
      "\n",
      " [[ 4  5  6  7]\n",
      "  [10  1  2  3]]]\n",
      "[[[0 0 0 0]\n",
      "  [0 0 0 0]]\n",
      "\n",
      " [[0 0 0 0]\n",
      "  [0 0 0 0]]]\n"
     ]
    }
   ],
   "source": [
    "import numpy as np\n",
    "b=np.array(a)# 有嵌套序列a创建一个ndarray b\n",
    "# 下面看看b的各个属性\n",
    "print(b,type(b),b.real,b.imag,sep='\\n')"
   ]
  },
  {
   "cell_type": "code",
   "execution_count": 25,
   "metadata": {
    "Collapsed": "false",
    "tags": [
     "1.1"
    ]
   },
   "outputs": [
    {
     "name": "stdout",
     "output_type": "stream",
     "text": [
      "3\n",
      "(2, 2, 4)\n",
      "16\n",
      "int32\n",
      "4\n",
      "<memory at 0x000001CB46B6CE58>\n"
     ]
    }
   ],
   "source": [
    "print(b.ndim,b.shape,b.size,b.dtype,b.itemsize,b.data,sep='\\n')"
   ]
  },
  {
   "cell_type": "markdown",
   "metadata": {
    "Collapsed": "false",
    "toc-hr-collapsed": true
   },
   "source": [
    "## **array**函数"
   ]
  },
  {
   "cell_type": "markdown",
   "metadata": {
    "Collapsed": "false"
   },
   "source": [
    "创建一个 ndarray 只需调用 NumPy 的 array 函数即可，语法如下："
   ]
  },
  {
   "cell_type": "markdown",
   "metadata": {
    "Collapsed": "false"
   },
   "source": [
    "```Python\n",
    "numpy.array(object, dtype = None, copy = True, order = None, subok = False, ndmin = 0)\n",
    "```"
   ]
  },
  {
   "cell_type": "markdown",
   "metadata": {
    "Collapsed": "false"
   },
   "source": [
    "参数说明如下："
   ]
  },
  {
   "cell_type": "markdown",
   "metadata": {
    "Collapsed": "false"
   },
   "source": [
    "|argument|Description|\n",
    "|:----:|:--------------:|\n",
    "|object|数组或嵌套的序列|\n",
    "|dtype|同属性，可选|\n",
    "|copy|对象是否需要复制，可选|\n",
    "|order|创建数组的样式，C为行方向，F为列方向，A为任意方向（默认）|\n",
    "|subok|默认返回一个与基类类型一致的数组|\n",
    "|ndmin|指定生成数组的最小维度|"
   ]
  },
  {
   "cell_type": "code",
   "execution_count": 66,
   "metadata": {
    "Collapsed": "false"
   },
   "outputs": [
    {
     "name": "stdout",
     "output_type": "stream",
     "text": [
      "[[1 2 3 4 5]]\n",
      "[1.+0.j 2.+0.j 3.+0.j]\n"
     ]
    }
   ],
   "source": [
    "import numpy as np \n",
    "a = np.array([1,2,3,4,5], ndmin =  2) \n",
    "b = np.array([1,2,3], dtype = complex)\n",
    "print(a,b,sep='\\n')"
   ]
  },
  {
   "cell_type": "markdown",
   "metadata": {
    "Collapsed": "false"
   },
   "source": [
    "此外，`array`还有一个“简易版”`asarray`，其参数减少到3个：\n",
    "```Python\n",
    "np.asarray(a, dtype=None, order=None)\n",
    "```"
   ]
  },
  {
   "cell_type": "code",
   "execution_count": 67,
   "metadata": {
    "Collapsed": "false",
    "tags": [
     "1.2"
    ]
   },
   "outputs": [
    {
     "name": "stdout",
     "output_type": "stream",
     "text": [
      "[1 2 3 4 5]\n",
      "[1.+0.j 2.+0.j 3.+0.j]\n"
     ]
    }
   ],
   "source": [
    "a1 = np.asarray([1,2,3,4,5]) \n",
    "b1 = np.asarray([1,2,3], dtype = complex)\n",
    "print(a1,b1,sep='\\n')"
   ]
  },
  {
   "cell_type": "markdown",
   "metadata": {
    "Collapsed": "false"
   },
   "source": [
    "----"
   ]
  },
  {
   "cell_type": "markdown",
   "metadata": {
    "Collapsed": "false"
   },
   "source": [
    "# 数组类型 "
   ]
  },
  {
   "cell_type": "markdown",
   "metadata": {
    "Collapsed": "false"
   },
   "source": [
    "numpy 支持的数据类型比 Python 内置的类型要多很多，基本上可以和 C 语言的数据类型对应上，其中部分类型对应为 Python 内置的类型。下表列举了常用 NumPy 基本类型："
   ]
  },
  {
   "cell_type": "markdown",
   "metadata": {
    "Collapsed": "false"
   },
   "source": [
    "|dtype|Description|\n",
    "|:----:|:--------------:|\n",
    "|bool|布尔型，True/False|\n",
    "|int*|有符号整型：8/16/32/64|\n",
    "|uint*|无符号整型：8/16/32/64|\n",
    "|float16|半精度浮点数，包括：1 个符号位，5 个指数位，10 个尾数位|\n",
    "|float32|半精度浮点数，包括：1 个符号位，8 个指数位，23 个尾数位|\n",
    "|float64|半精度浮点数，包括：1 个符号位，11 个指数位，52 个尾数位|\n",
    "|complex64|复数，表示双 32 位浮点数（实数部分和虚数部分）|\n",
    "|complex128|复数，表示双 64 位浮点数（实数部分和虚数部分）|"
   ]
  },
  {
   "cell_type": "markdown",
   "metadata": {
    "Collapsed": "false"
   },
   "source": [
    "numpy 的数值类型实际上是 dtype 对象的实例，并对应唯一的字符，包括 np.bool_，np.int32，np.float32，等等"
   ]
  },
  {
   "cell_type": "markdown",
   "metadata": {
    "Collapsed": "false"
   },
   "source": [
    "----"
   ]
  },
  {
   "cell_type": "markdown",
   "metadata": {
    "Collapsed": "false",
    "toc-hr-collapsed": false
   },
   "source": [
    "# 创建数组"
   ]
  },
  {
   "cell_type": "markdown",
   "metadata": {
    "Collapsed": "false"
   },
   "source": [
    "前面我们介绍了**array**函数，除此之外，再介绍一些创建方法"
   ]
  },
  {
   "cell_type": "markdown",
   "metadata": {
    "Collapsed": "false",
    "toc-hr-collapsed": false
   },
   "source": [
    "## 特殊数组"
   ]
  },
  {
   "cell_type": "markdown",
   "metadata": {
    "Collapsed": "false",
    "toc-hr-collapsed": true
   },
   "source": [
    "### numpy.empty "
   ]
  },
  {
   "cell_type": "markdown",
   "metadata": {
    "Collapsed": "false"
   },
   "source": [
    "**numpy.empty** 方法用来创建一个指定形状（shape）、数据类型（dtype）且未初始化(数组元素将为**随机值**)的数组:"
   ]
  },
  {
   "cell_type": "markdown",
   "metadata": {
    "Collapsed": "false"
   },
   "source": [
    "```Python\n",
    "numpy.empty(shape, dtype = float, order = 'C')\n",
    "```"
   ]
  },
  {
   "cell_type": "markdown",
   "metadata": {
    "Collapsed": "false"
   },
   "source": [
    "***order***有\"C\"和\"F\"两个选项,分别代表，行优先和列优先，在计算机内存中的存储元素的顺序"
   ]
  },
  {
   "cell_type": "code",
   "execution_count": 51,
   "metadata": {
    "Collapsed": "false",
    "tags": [
     "3.1"
    ]
   },
   "outputs": [
    {
     "data": {
      "text/plain": [
       "array([[    0,     0,     0, 16368],\n",
       "       [    0,     0,     0, 16384],\n",
       "       [    0,     0,     0, 16392]], dtype=int16)"
      ]
     },
     "execution_count": 51,
     "metadata": {},
     "output_type": "execute_result"
    }
   ],
   "source": [
    "import numpy as np \n",
    "E = np.empty((3,4), dtype =np.int16 ) \n",
    "E"
   ]
  },
  {
   "cell_type": "markdown",
   "metadata": {
    "Collapsed": "false",
    "toc-hr-collapsed": true
   },
   "source": [
    "### numpy.zeros "
   ]
  },
  {
   "cell_type": "markdown",
   "metadata": {
    "Collapsed": "false"
   },
   "source": [
    "创建指定大小的数组，数组元素以 0 /False来填充："
   ]
  },
  {
   "cell_type": "code",
   "execution_count": 52,
   "metadata": {
    "Collapsed": "false",
    "tags": [
     "3.1"
    ]
   },
   "outputs": [
    {
     "data": {
      "text/plain": [
       "array([[False, False, False, False],\n",
       "       [False, False, False, False],\n",
       "       [False, False, False, False]])"
      ]
     },
     "execution_count": 52,
     "metadata": {},
     "output_type": "execute_result"
    }
   ],
   "source": [
    "Z=np.zeros((3,4), dtype =np.bool_ )\n",
    "Z"
   ]
  },
  {
   "cell_type": "markdown",
   "metadata": {
    "Collapsed": "false",
    "toc-hr-collapsed": true
   },
   "source": [
    "### numpy.ones "
   ]
  },
  {
   "cell_type": "markdown",
   "metadata": {
    "Collapsed": "false"
   },
   "source": [
    "创建指定形状的数组，数组元素以 1 来填充："
   ]
  },
  {
   "cell_type": "code",
   "execution_count": 53,
   "metadata": {
    "Collapsed": "false",
    "tags": [
     "3.1"
    ]
   },
   "outputs": [
    {
     "data": {
      "text/plain": [
       "array([[1., 1., 1., 1.],\n",
       "       [1., 1., 1., 1.],\n",
       "       [1., 1., 1., 1.]])"
      ]
     },
     "execution_count": 53,
     "metadata": {},
     "output_type": "execute_result"
    }
   ],
   "source": [
    "O=np.ones((3,4), dtype =np.float64)\n",
    "O"
   ]
  },
  {
   "cell_type": "markdown",
   "metadata": {
    "Collapsed": "false",
    "toc-hr-collapsed": true
   },
   "source": [
    "### numpy.eye"
   ]
  },
  {
   "cell_type": "markdown",
   "metadata": {
    "Collapsed": "false"
   },
   "source": [
    "创建指定形状的**对角(diagonal)数组**，为什么用eye表示？因为通常我们用`I`表示单位阵，与eye谐音"
   ]
  },
  {
   "cell_type": "markdown",
   "metadata": {
    "Collapsed": "false"
   },
   "source": [
    "```Python\n",
    "np.eye(N, M=None, k=0, dtype=<class 'float'>, order='C')\n",
    "```"
   ]
  },
  {
   "cell_type": "markdown",
   "metadata": {
    "Collapsed": "false"
   },
   "source": [
    "这里的参数与前不同，N表示行；M表示列，默认为N，可选；k指的是对角线偏位值，如k=1,对角线右移1单位："
   ]
  },
  {
   "cell_type": "code",
   "execution_count": 62,
   "metadata": {
    "Collapsed": "false",
    "tags": [
     "3.1"
    ]
   },
   "outputs": [
    {
     "data": {
      "text/plain": [
       "array([[0, 1, 0, 0, 0],\n",
       "       [0, 0, 1, 0, 0],\n",
       "       [0, 0, 0, 1, 0]])"
      ]
     },
     "execution_count": 62,
     "metadata": {},
     "output_type": "execute_result"
    }
   ],
   "source": [
    "I=np.eye(3,5,1, dtype =int)\n",
    "I"
   ]
  },
  {
   "cell_type": "markdown",
   "metadata": {
    "Collapsed": "false",
    "toc-hr-collapsed": false
   },
   "source": [
    "## 从已有的数组创建数组 "
   ]
  },
  {
   "cell_type": "markdown",
   "metadata": {
    "Collapsed": "false"
   },
   "source": [
    "除了上文提到的**array**函数和**asarray**函数，我们还有别的选择"
   ]
  },
  {
   "cell_type": "markdown",
   "metadata": {
    "Collapsed": "false",
    "toc-hr-collapsed": true
   },
   "source": [
    "###  numpy.fromiter"
   ]
  },
  {
   "cell_type": "markdown",
   "metadata": {
    "Collapsed": "false"
   },
   "source": [
    "numpy.fromiter 方法从可迭代对象(不仅限于**迭代器**)中建立 ndarray 对象，返回一维数组:\n",
    "```Python\n",
    "numpy.fromiter(iterable, dtype, count=-1)\n",
    "```"
   ]
  },
  {
   "cell_type": "markdown",
   "metadata": {
    "Collapsed": "false"
   },
   "source": [
    "***count***：读取的数据数量，默认为-1，读取所有数据"
   ]
  },
  {
   "cell_type": "code",
   "execution_count": 71,
   "metadata": {
    "Collapsed": "false",
    "tags": [
     "3.2.1"
    ]
   },
   "outputs": [
    {
     "data": {
      "text/plain": [
       "array([5, 4, 0, 8, 7])"
      ]
     },
     "execution_count": 71,
     "metadata": {},
     "output_type": "execute_result"
    }
   ],
   "source": [
    "import numpy as np\n",
    "# 利用iter函数创建一个itrator\n",
    "it=iter([5,4,0,8,7])\n",
    "x=np.fromiter(it, dtype=float)\n",
    "x"
   ]
  },
  {
   "cell_type": "code",
   "execution_count": 72,
   "metadata": {
    "Collapsed": "false",
    "tags": [
     "3.2.1"
    ]
   },
   "outputs": [
    {
     "data": {
      "text/plain": [
       "array([5, 4, 0, 8, 7])"
      ]
     },
     "execution_count": 72,
     "metadata": {},
     "output_type": "execute_result"
    }
   ],
   "source": [
    "y=np.fromiter([5,4,0,8,7],dtype=int)\n",
    "y"
   ]
  },
  {
   "cell_type": "markdown",
   "metadata": {
    "Collapsed": "false",
    "toc-hr-collapsed": false
   },
   "source": [
    "## 从数值范围创建数组 "
   ]
  },
  {
   "cell_type": "markdown",
   "metadata": {
    "Collapsed": "false"
   },
   "source": [
    "### numpy.arange "
   ]
  },
  {
   "cell_type": "markdown",
   "metadata": {
    "Collapsed": "false"
   },
   "source": [
    "创建一维数组，函数语法如下，类似于普通的`range`函数，start默认为0，stop不含自身：\n",
    "```Python\n",
    "numpy.arange(start, stop, step, dtype)\n",
    "```"
   ]
  },
  {
   "cell_type": "code",
   "execution_count": 74,
   "metadata": {
    "Collapsed": "false",
    "tags": [
     "3.3"
    ]
   },
   "outputs": [
    {
     "data": {
      "text/plain": [
       "array([10, 12, 14, 16, 18])"
      ]
     },
     "execution_count": 74,
     "metadata": {},
     "output_type": "execute_result"
    }
   ],
   "source": [
    "import numpy as np\n",
    "x = np.arange(10,20,2)  \n",
    "x"
   ]
  },
  {
   "cell_type": "markdown",
   "metadata": {
    "Collapsed": "false"
   },
   "source": [
    "### numpy.linspace"
   ]
  },
  {
   "cell_type": "markdown",
   "metadata": {
    "Collapsed": "false"
   },
   "source": [
    "`arrange`是以**步长step**限定输出，而`linspace`以**个数num**规定输出：\n",
    "```Python\n",
    "np.linspace(start, stop, num=50, endpoint=True, retstep=False, dtype=None)\n",
    "```\n",
    "`endpoint`：该值为 ture 时，数列中中包含stop值，反之不包含\n",
    "\n",
    "`restype`：如果为 True 时，将生成一个tuple，包含ndarray和step"
   ]
  },
  {
   "cell_type": "code",
   "execution_count": 87,
   "metadata": {
    "Collapsed": "false",
    "tags": [
     "3.3"
    ]
   },
   "outputs": [
    {
     "name": "stdout",
     "output_type": "stream",
     "text": [
      "(array([10. , 12.5, 15. , 17.5, 20. ]), 2.5)\n",
      "<class 'tuple'>\n",
      "[10. 12. 14. 16. 18.]\n",
      "<class 'numpy.ndarray'>\n"
     ]
    }
   ],
   "source": [
    "x1 = np.linspace(10,20,5,endpoint=True,retstep=True)\n",
    "x2 = np.linspace(10,20,5,endpoint=False)\n",
    "print(x1,type(x1),sep='\\n')\n",
    "print(x2,type(x2),sep='\\n')"
   ]
  },
  {
   "cell_type": "markdown",
   "metadata": {
    "Collapsed": "false"
   },
   "source": [
    "### numpy.logspace "
   ]
  },
  {
   "cell_type": "markdown",
   "metadata": {
    "Collapsed": "false"
   },
   "source": [
    "创建一个等比数列，并以`底数base`求真值数组\n",
    "```Python\n",
    "np.logspace(start, stop, num=50, endpoint=True, base=10.0, dtype=None)\n",
    "```\n",
    "`start`与`stop`：一维数组的起点/终点为：base<sup>start/stop</sup>"
   ]
  },
  {
   "cell_type": "code",
   "execution_count": 88,
   "metadata": {
    "Collapsed": "false",
    "tags": [
     "3.3"
    ]
   },
   "outputs": [
    {
     "data": {
      "text/plain": [
       "array([  1.,   2.,   4.,   8.,  16.,  32.,  64., 128., 256., 512.])"
      ]
     },
     "execution_count": 88,
     "metadata": {},
     "output_type": "execute_result"
    }
   ],
   "source": [
    "a = np.logspace(0,9,10,base=2)\n",
    "a"
   ]
  },
  {
   "cell_type": "markdown",
   "metadata": {
    "Collapsed": "false"
   },
   "source": [
    "----"
   ]
  },
  {
   "cell_type": "markdown",
   "metadata": {
    "Collapsed": "false"
   },
   "source": [
    "# 切片和索引 "
   ]
  },
  {
   "cell_type": "markdown",
   "metadata": {
    "Collapsed": "false"
   },
   "source": [
    "## 普通切片与slice函数"
   ]
  },
  {
   "cell_type": "markdown",
   "metadata": {
    "Collapsed": "false"
   },
   "source": [
    "ndarray对象的内容可以通过索引或切片来访问和修改，与 Python 中 list 的切片操作一样"
   ]
  },
  {
   "cell_type": "code",
   "execution_count": 91,
   "metadata": {
    "Collapsed": "false",
    "tags": [
     "4"
    ]
   },
   "outputs": [
    {
     "data": {
      "text/plain": [
       "(5, array([2, 5]))"
      ]
     },
     "execution_count": 91,
     "metadata": {},
     "output_type": "execute_result"
    }
   ],
   "source": [
    "import numpy as np\n",
    "a = np.arange(10)\n",
    "s1= a[5] #索引\n",
    "s2= a[2:8:3] #切片\n",
    "s1,s2"
   ]
  },
  {
   "cell_type": "markdown",
   "metadata": {
    "Collapsed": "false"
   },
   "source": [
    "另外，**`slice`**函数可以将切片过程分别进行："
   ]
  },
  {
   "cell_type": "code",
   "execution_count": 97,
   "metadata": {
    "Collapsed": "false",
    "tags": [
     "4"
    ]
   },
   "outputs": [
    {
     "data": {
      "text/plain": [
       "(array([0, 1, 2, 3, 4]), array([2, 5]))"
      ]
     },
     "execution_count": 97,
     "metadata": {},
     "output_type": "execute_result"
    }
   ],
   "source": [
    "s3 = slice(5)#stop=5\n",
    "s4 = slice(2,8,3) \n",
    "a[s3],a[s4]"
   ]
  },
  {
   "cell_type": "markdown",
   "metadata": {
    "Collapsed": "false"
   },
   "source": [
    "## 多维数组切片 "
   ]
  },
  {
   "cell_type": "markdown",
   "metadata": {
    "Collapsed": "false"
   },
   "source": [
    "多维数组同样适用上述索引提取方法："
   ]
  },
  {
   "cell_type": "code",
   "execution_count": 131,
   "metadata": {
    "Collapsed": "false",
    "tags": [
     "4"
    ]
   },
   "outputs": [
    {
     "data": {
      "text/plain": [
       "array([[[     0,      0,      0,  16420],\n",
       "        [-29789, -17874, -23832,  16423]],\n",
       "\n",
       "       [[  5958,  29789,  17873,  16427],\n",
       "        [-23832,  11915,  -5958,  16430]],\n",
       "\n",
       "       [[  5958,  29789,  17873,  16433],\n",
       "        [ 23831, -11916,   5957,  16435]]], dtype=int16)"
      ]
     },
     "execution_count": 131,
     "metadata": {},
     "output_type": "execute_result"
    }
   ],
   "source": [
    "b=np.empty(shape=(3,2,4),dtype=np.int16)\n",
    "b"
   ]
  },
  {
   "cell_type": "code",
   "execution_count": 132,
   "metadata": {
    "Collapsed": "false",
    "tags": [
     "4"
    ]
   },
   "outputs": [
    {
     "data": {
      "text/plain": [
       "array([[  5958,  29789,  17873,  16433],\n",
       "       [ 23831, -11916,   5957,  16435]], dtype=int16)"
      ]
     },
     "execution_count": 132,
     "metadata": {},
     "output_type": "execute_result"
    }
   ],
   "source": [
    "b[2] #在0轴上索引,此时shape=(2,4),降一维"
   ]
  },
  {
   "cell_type": "code",
   "execution_count": 133,
   "metadata": {
    "Collapsed": "false",
    "tags": [
     "4"
    ]
   },
   "outputs": [
    {
     "data": {
      "text/plain": [
       "array([ 23831, -11916,   5957,  16435], dtype=int16)"
      ]
     },
     "execution_count": 133,
     "metadata": {},
     "output_type": "execute_result"
    }
   ],
   "source": [
    "b[2,1] #继续在第1轴上索引,shape=(4,)，再降一维"
   ]
  },
  {
   "cell_type": "markdown",
   "metadata": {
    "Collapsed": "false"
   },
   "source": [
    "加上**`...`**可以表示在该轴上遍取，该轴的维度保留"
   ]
  },
  {
   "cell_type": "code",
   "execution_count": 141,
   "metadata": {
    "Collapsed": "false",
    "tags": [
     "4"
    ]
   },
   "outputs": [
    {
     "data": {
      "text/plain": [
       "array([[16420, 16423],\n",
       "       [16427, 16430],\n",
       "       [16433, 16435]], dtype=int16)"
      ]
     },
     "execution_count": 141,
     "metadata": {},
     "output_type": "execute_result"
    }
   ],
   "source": [
    "b[...,3] #shape=(3,2)，保留前两轴，去掉2轴所在的维度"
   ]
  },
  {
   "cell_type": "code",
   "execution_count": 135,
   "metadata": {
    "Collapsed": "false",
    "tags": [
     "4"
    ]
   },
   "outputs": [
    {
     "data": {
      "text/plain": [
       "array([29789, 11915], dtype=int16)"
      ]
     },
     "execution_count": 135,
     "metadata": {},
     "output_type": "execute_result"
    }
   ],
   "source": [
    "b[1,...,1] #shape=(2,),只保留第1轴所在的维度"
   ]
  },
  {
   "cell_type": "markdown",
   "metadata": {
    "Collapsed": "false"
   },
   "source": [
    "----"
   ]
  },
  {
   "cell_type": "markdown",
   "metadata": {
    "Collapsed": "false"
   },
   "source": [
    "# 高级索引 "
   ]
  },
  {
   "cell_type": "markdown",
   "metadata": {
    "Collapsed": "false"
   },
   "source": [
    "## 整数数组索引"
   ]
  },
  {
   "cell_type": "markdown",
   "metadata": {
    "Collapsed": "false"
   },
   "source": [
    "从下列可以看出，数组作为索引，相当于对每一个轴上的元素进行**压缩**，即：X\\[ax1,ax2,ax3,\\...]"
   ]
  },
  {
   "cell_type": "code",
   "execution_count": 208,
   "metadata": {
    "Collapsed": "false",
    "tags": [
     "5.1"
    ]
   },
   "outputs": [
    {
     "data": {
      "text/plain": [
       "array([[ 0,  1,  2],\n",
       "       [ 3,  4,  5],\n",
       "       [ 6,  7,  8],\n",
       "       [ 9, 10, 11]])"
      ]
     },
     "execution_count": 208,
     "metadata": {},
     "output_type": "execute_result"
    }
   ],
   "source": [
    "import numpy as np\n",
    "x = np.array([[  0,  1,  2],[  3,  4,  5],[  6,  7,  8],[  9,  10,  11]]) \n",
    "x"
   ]
  },
  {
   "cell_type": "code",
   "execution_count": 145,
   "metadata": {
    "Collapsed": "false",
    "tags": [
     "5.1"
    ]
   },
   "outputs": [
    {
     "data": {
      "text/plain": [
       "array([ 0,  2,  9, 11])"
      ]
     },
     "execution_count": 145,
     "metadata": {},
     "output_type": "execute_result"
    }
   ],
   "source": [
    "# 找到四个角点的两轴坐标，进行压缩：\n",
    "x[[0,0,3,3],[0,2,0,2]]"
   ]
  },
  {
   "cell_type": "code",
   "execution_count": 150,
   "metadata": {
    "Collapsed": "false",
    "tags": [
     "5.1"
    ]
   },
   "outputs": [
    {
     "data": {
      "text/plain": [
       "array([[ 0,  2],\n",
       "       [ 9, 11]])"
      ]
     },
     "execution_count": 150,
     "metadata": {},
     "output_type": "execute_result"
    }
   ],
   "source": [
    "# 还可以改变轴的shape,输出对应shape的索引值\n",
    "axis0=np.array([[0,0],[3,3]])\n",
    "axis1=[[0,2],[0,2]]\n",
    "x[axis0,axis1]"
   ]
  },
  {
   "cell_type": "markdown",
   "metadata": {
    "Collapsed": "false"
   },
   "source": [
    "同样，可以借助切片**`:`**或**`…`**与索引数组组合："
   ]
  },
  {
   "cell_type": "code",
   "execution_count": 151,
   "metadata": {
    "Collapsed": "false",
    "tags": [
     "5.1"
    ]
   },
   "outputs": [
    {
     "data": {
      "text/plain": [
       "array([[ 1,  2],\n",
       "       [ 4,  5],\n",
       "       [ 7,  8],\n",
       "       [10, 11]])"
      ]
     },
     "execution_count": 151,
     "metadata": {},
     "output_type": "execute_result"
    }
   ],
   "source": [
    "x[...,1:]"
   ]
  },
  {
   "cell_type": "markdown",
   "metadata": {
    "Collapsed": "false"
   },
   "source": [
    "此外，还可以改变**索引顺序**或**倒序**："
   ]
  },
  {
   "cell_type": "code",
   "execution_count": 215,
   "metadata": {
    "Collapsed": "false"
   },
   "outputs": [
    {
     "name": "stdout",
     "output_type": "stream",
     "text": [
      "[[ 9 10 11]\n",
      " [ 0  1  2]\n",
      " [ 3  4  5]\n",
      " [ 6  7  8]]\n",
      "[[ 9 10 11]\n",
      " [ 6  7  8]\n",
      " [ 3  4  5]\n",
      " [ 0  1  2]]\n"
     ]
    }
   ],
   "source": [
    "print(x[[3,0,1,2]],x[[-1,-2,-3,-4]],sep='\\n')"
   ]
  },
  {
   "cell_type": "markdown",
   "metadata": {
    "Collapsed": "false"
   },
   "source": [
    "## 布尔索引 "
   ]
  },
  {
   "cell_type": "markdown",
   "metadata": {
    "Collapsed": "false"
   },
   "source": [
    "布尔索引通过布尔运算（**如：比较运算符**）来获取符合指定条件的元素的数组。如下例展示了一个构造**Boolean array**的方法："
   ]
  },
  {
   "cell_type": "markdown",
   "metadata": {
    "Collapsed": "false"
   },
   "source": [
    "```Ipython\n",
    ">>>import numpy as np \n",
    ">>>x = np.arange(6).reshape(2,3)\n",
    ">>>x\n",
    "array([[0, 1, 2],\n",
    "       [3, 4, 5]])\n",
    ">>>y=x>3\n",
    ">>>y #y是一个Boolean array\n",
    "array([[False, False, False],\n",
    "       [False,  True,  True]])\n",
    ">>>x[y]\n",
    "array([ 4,  5])\n",
    "```"
   ]
  },
  {
   "cell_type": "code",
   "execution_count": 204,
   "metadata": {
    "Collapsed": "false"
   },
   "outputs": [
    {
     "data": {
      "text/plain": [
       "array([nan+0.j,  1.+0.j,  2.+0.j, nan+0.j,  3.+0.j,  4.+0.j,  3.+5.j])"
      ]
     },
     "execution_count": 204,
     "metadata": {},
     "output_type": "execute_result"
    }
   ],
   "source": [
    "#构造一个包含NaN(not a number)的数组a，层层筛分出奇数元素\n",
    "a = np.array([np.nan,1,2,np.nan,3,4,3+5j])\n",
    "a"
   ]
  },
  {
   "cell_type": "code",
   "execution_count": 205,
   "metadata": {
    "Collapsed": "false",
    "tags": [
     "5.2"
    ]
   },
   "outputs": [
    {
     "name": "stdout",
     "output_type": "stream",
     "text": [
      "[False  True  True False  True  True  True]\n",
      "[1.+0.j 2.+0.j 3.+0.j 4.+0.j 3.+5.j]\n"
     ]
    }
   ],
   "source": [
    "#第一步。过滤掉NaN\n",
    "b=~np.isnan(a)\n",
    "a=a[b]\n",
    "print(b,a,sep='\\n')"
   ]
  },
  {
   "cell_type": "code",
   "execution_count": 206,
   "metadata": {
    "Collapsed": "false",
    "tags": [
     "5.2"
    ]
   },
   "outputs": [
    {
     "data": {
      "text/plain": [
       "array([1.+0.j, 2.+0.j, 3.+0.j, 4.+0.j])"
      ]
     },
     "execution_count": 206,
     "metadata": {},
     "output_type": "execute_result"
    }
   ],
   "source": [
    "#第二步，过滤掉虚部不为0的复数\n",
    "a=a[~np.iscomplex(a)]\n",
    "a"
   ]
  },
  {
   "cell_type": "code",
   "execution_count": 207,
   "metadata": {
    "Collapsed": "false",
    "tags": [
     "5.2"
    ]
   },
   "outputs": [
    {
     "data": {
      "text/plain": [
       "array([1.+0.j, 3.+0.j])"
      ]
     },
     "execution_count": 207,
     "metadata": {},
     "output_type": "execute_result"
    }
   ],
   "source": [
    "#第三步，过滤掉实部为偶数的复数\n",
    "a=a[a.real%2!=0]\n",
    "a"
   ]
  },
  {
   "cell_type": "markdown",
   "metadata": {
    "Collapsed": "false"
   },
   "source": [
    "## **ix_()**函数"
   ]
  },
  {
   "cell_type": "markdown",
   "metadata": {
    "Collapsed": "false"
   },
   "source": [
    "例如我们对一个矩阵进行**行列交换**运算，可以用到**`ix()_`**函数"
   ]
  },
  {
   "cell_type": "code",
   "execution_count": 2,
   "metadata": {
    "Collapsed": "false",
    "tags": [
     "5.3"
    ]
   },
   "outputs": [
    {
     "data": {
      "text/plain": [
       "array([[ 0,  1,  2,  3],\n",
       "       [ 4,  5,  6,  7],\n",
       "       [ 8,  9, 10, 11],\n",
       "       [12, 13, 14, 15]])"
      ]
     },
     "execution_count": 2,
     "metadata": {},
     "output_type": "execute_result"
    }
   ],
   "source": [
    "import numpy as np \n",
    "x=np.arange(16).reshape((4,4))\n",
    "x"
   ]
  },
  {
   "cell_type": "code",
   "execution_count": 3,
   "metadata": {
    "Collapsed": "false",
    "tags": [
     "5.3"
    ]
   },
   "outputs": [
    {
     "data": {
      "text/plain": [
       "array([[ 1,  0,  3,  2],\n",
       "       [ 9,  8, 11, 10],\n",
       "       [13, 12, 15, 14],\n",
       "       [ 5,  4,  7,  6]])"
      ]
     },
     "execution_count": 3,
     "metadata": {},
     "output_type": "execute_result"
    }
   ],
   "source": [
    "# 对上面的矩阵先做行变换，再做列变换\n",
    "x[np.ix_([0,2,3,1],[1,0,3,2])]"
   ]
  },
  {
   "cell_type": "code",
   "execution_count": 4,
   "metadata": {
    "Collapsed": "false",
    "tags": [
     "5.3"
    ]
   },
   "outputs": [
    {
     "data": {
      "text/plain": [
       "array([[ 1,  3],\n",
       "       [ 9, 11]])"
      ]
     },
     "execution_count": 4,
     "metadata": {},
     "output_type": "execute_result"
    }
   ],
   "source": [
    "x[np.ix_([0,2],[1,3])]"
   ]
  },
  {
   "cell_type": "markdown",
   "metadata": {
    "Collapsed": "false"
   },
   "source": [
    "我们来看看`ix_`函数究竟做了哪些事情？如下所示，`ix_`函数其实是将整数数组索引方法拆分成了**N个一维向量**，每个向量占据不同的维度："
   ]
  },
  {
   "cell_type": "code",
   "execution_count": 6,
   "metadata": {
    "Collapsed": "false",
    "tags": [
     "5.3"
    ]
   },
   "outputs": [
    {
     "data": {
      "text/plain": [
       "(array([[0],\n",
       "        [2]]), array([[1, 3]]))"
      ]
     },
     "execution_count": 6,
     "metadata": {},
     "output_type": "execute_result"
    }
   ],
   "source": [
    "y=np.ix_([0,2],[1,3])\n",
    "y"
   ]
  },
  {
   "cell_type": "code",
   "execution_count": 7,
   "metadata": {
    "Collapsed": "false",
    "tags": [
     "5.3"
    ]
   },
   "outputs": [
    {
     "data": {
      "text/plain": [
       "((2, 1), (1, 2))"
      ]
     },
     "execution_count": 7,
     "metadata": {},
     "output_type": "execute_result"
    }
   ],
   "source": [
    "y[0].shape,y[1].shape"
   ]
  },
  {
   "cell_type": "markdown",
   "metadata": {
    "Collapsed": "false"
   },
   "source": [
    "----"
   ]
  },
  {
   "cell_type": "markdown",
   "metadata": {
    "Collapsed": "false"
   },
   "source": [
    "# 广播(Broadcast) "
   ]
  },
  {
   "cell_type": "markdown",
   "metadata": {
    "Collapsed": "false"
   },
   "source": [
    "广播(Broadcast)是 numpy 对不同形状(shape)的数组进行数值计算的方式， 对数组的算术运算通常在相应的元素上进行"
   ]
  },
  {
   "cell_type": "markdown",
   "metadata": {
    "Collapsed": "false"
   },
   "source": [
    "如果两个数组 a 和 b 形状相同，即满足 a.shape == b.shape，那么 a*b 的结果就是 a 与 b 数组对应位相乘。这要求维数相同，且各维度的长度相同。"
   ]
  },
  {
   "cell_type": "code",
   "execution_count": 11,
   "metadata": {
    "Collapsed": "false",
    "tags": [
     "6"
    ]
   },
   "outputs": [
    {
     "data": {
      "text/plain": [
       "array([ 10,  40,  90, 160])"
      ]
     },
     "execution_count": 11,
     "metadata": {},
     "output_type": "execute_result"
    }
   ],
   "source": [
    "import numpy as np \n",
    "a = np.array([1,2,3,4]) \n",
    "b = np.array([10,20,30,40]) \n",
    "c = a * b \n",
    "c"
   ]
  },
  {
   "cell_type": "markdown",
   "metadata": {
    "Collapsed": "false"
   },
   "source": [
    "若 2 个数组的形状不同时，numpy 将自动触发广播机制。如下例即时将b沿0轴扩展4倍："
   ]
  },
  {
   "cell_type": "code",
   "execution_count": 12,
   "metadata": {
    "Collapsed": "false",
    "tags": [
     "6"
    ]
   },
   "outputs": [
    {
     "data": {
      "text/plain": [
       "array([[ 1,  2,  3],\n",
       "       [11, 12, 13],\n",
       "       [21, 22, 23],\n",
       "       [31, 32, 33]])"
      ]
     },
     "execution_count": 12,
     "metadata": {},
     "output_type": "execute_result"
    }
   ],
   "source": [
    "a = np.array([[ 0, 0, 0],\n",
    "           [10,10,10],\n",
    "           [20,20,20],\n",
    "           [30,30,30]])\n",
    "b = np.array([1,2,3])\n",
    "c = a+b\n",
    "c"
   ]
  },
  {
   "cell_type": "markdown",
   "metadata": {
    "Collapsed": "false"
   },
   "source": [
    ">***广播的规则:***\n",
    ">- 让所有输入数组都向其中形状最长的数组看齐，形状中不足的部分都通过在前面加 1 补齐。\n",
    ">- 输出数组的形状是输入数组形状的各个维度上的最大值。\n",
    ">- 如果输入数组的某个维度和输出数组的对应维度的长度相同或者其长度为 1 时，这个数组能够用来计算，否则出错。\n",
    ">- 当输入数组的某个维度的长度为 1 时，沿着此维度运算时都用此维度上的第一组值。"
   ]
  },
  {
   "cell_type": "markdown",
   "metadata": {
    "Collapsed": "false"
   },
   "source": [
    "再举一个复杂的例子："
   ]
  },
  {
   "cell_type": "code",
   "execution_count": 13,
   "metadata": {
    "Collapsed": "false",
    "tags": [
     "6"
    ]
   },
   "outputs": [
    {
     "data": {
      "text/plain": [
       "((2, 1, 1), (1, 3, 1), (1, 1, 4))"
      ]
     },
     "execution_count": 13,
     "metadata": {},
     "output_type": "execute_result"
    }
   ],
   "source": [
    "a = np.array([0,1])\n",
    "b = np.array([0,1,2])\n",
    "c = np.array([0,1,2,3])\n",
    "ax,bx,cx = np.ix_(a,b,c)\n",
    "ax.shape,bx.shape,cx.shape"
   ]
  },
  {
   "cell_type": "code",
   "execution_count": 18,
   "metadata": {
    "Collapsed": "false",
    "tags": [
     "6"
    ]
   },
   "outputs": [
    {
     "data": {
      "text/plain": [
       "(array([[[0, 0, 0, 0],\n",
       "         [0, 0, 0, 0],\n",
       "         [0, 0, 0, 0]],\n",
       " \n",
       "        [[0, 0, 0, 0],\n",
       "         [0, 1, 2, 3],\n",
       "         [0, 2, 4, 6]]]), (2, 3, 4))"
      ]
     },
     "execution_count": 18,
     "metadata": {},
     "output_type": "execute_result"
    }
   ],
   "source": [
    "abc_product=ax*bx*cx\n",
    "abc_product,abc_product.shape"
   ]
  },
  {
   "cell_type": "code",
   "execution_count": 21,
   "metadata": {
    "Collapsed": "false",
    "tags": [
     "6"
    ]
   },
   "outputs": [
    {
     "data": {
      "text/plain": [
       "(array([[[0, 1, 2, 3],\n",
       "         [1, 2, 3, 4],\n",
       "         [2, 3, 4, 5]],\n",
       " \n",
       "        [[1, 2, 3, 4],\n",
       "         [2, 3, 4, 5],\n",
       "         [3, 4, 5, 6]]]), (2, 3, 4))"
      ]
     },
     "execution_count": 21,
     "metadata": {},
     "output_type": "execute_result"
    }
   ],
   "source": [
    "abc_sum=ax+bx+cx\n",
    "abc_sum,abc_sum.shape"
   ]
  },
  {
   "cell_type": "markdown",
   "metadata": {
    "Collapsed": "false"
   },
   "source": [
    "----"
   ]
  },
  {
   "cell_type": "markdown",
   "metadata": {
    "Collapsed": "false"
   },
   "source": [
    "# 迭代数组 "
   ]
  },
  {
   "cell_type": "markdown",
   "metadata": {
    "Collapsed": "false"
   },
   "source": [
    "## 迭代器numpy.nditer "
   ]
  },
  {
   "cell_type": "markdown",
   "metadata": {
    "Collapsed": "false"
   },
   "source": [
    "**`numpy.nditer`**提供了一种灵活访问一个或者多个数组元素的方式，如下例："
   ]
  },
  {
   "cell_type": "code",
   "execution_count": 46,
   "metadata": {
    "Collapsed": "false",
    "tags": [
     "7.1-2"
    ]
   },
   "outputs": [
    {
     "name": "stdout",
     "output_type": "stream",
     "text": [
      "0, 1, 2, 3, 4, 5, "
     ]
    }
   ],
   "source": [
    "import numpy as np\n",
    "a = np.arange(6).reshape(2,3)\n",
    "for x in np.nditer(a):\n",
    "    print (x, end=\", \" )"
   ]
  },
  {
   "cell_type": "markdown",
   "metadata": {
    "Collapsed": "false"
   },
   "source": [
    "输出顺序是和数组内存布局一致的，这样做是为了提升访问的效率，默认是**行序优先**（row-major order，或者说是**C-order**）"
   ]
  },
  {
   "cell_type": "markdown",
   "metadata": {
    "Collapsed": "false"
   },
   "source": [
    "此外，转置矩阵自动调整***order***为***F-order***"
   ]
  },
  {
   "cell_type": "code",
   "execution_count": 30,
   "metadata": {
    "Collapsed": "false",
    "tags": [
     "7.1-2"
    ]
   },
   "outputs": [
    {
     "data": {
      "text/plain": [
       "array([[0, 3],\n",
       "       [1, 4],\n",
       "       [2, 5]])"
      ]
     },
     "execution_count": 30,
     "metadata": {},
     "output_type": "execute_result"
    }
   ],
   "source": [
    "a.T "
   ]
  },
  {
   "cell_type": "code",
   "execution_count": 31,
   "metadata": {
    "Collapsed": "false",
    "tags": [
     "7.1-2"
    ]
   },
   "outputs": [
    {
     "name": "stdout",
     "output_type": "stream",
     "text": [
      "0, 1, 2, 3, 4, 5, "
     ]
    }
   ],
   "source": [
    "for x in np.nditer(a):\n",
    "    print (x, end=\", \" )"
   ]
  },
  {
   "cell_type": "code",
   "execution_count": 32,
   "metadata": {
    "Collapsed": "false",
    "tags": [
     "7.1-2"
    ]
   },
   "outputs": [
    {
     "name": "stdout",
     "output_type": "stream",
     "text": [
      "0, 3, 1, 4, 2, 5, "
     ]
    }
   ],
   "source": [
    "b=np.array([[0, 3],\n",
    "       [1, 4],\n",
    "       [2, 5]])\n",
    "for x in np.nditer(b):\n",
    "    print (x, end=\", \" )"
   ]
  },
  {
   "cell_type": "markdown",
   "metadata": {
    "Collapsed": "false"
   },
   "source": [
    "我们也可以以**F-order**的方式**复制a**，在以列序优先方式输出："
   ]
  },
  {
   "cell_type": "code",
   "execution_count": 33,
   "metadata": {
    "Collapsed": "false",
    "tags": [
     "7.1-2"
    ]
   },
   "outputs": [
    {
     "name": "stdout",
     "output_type": "stream",
     "text": [
      "0, 3, 1, 4, 2, 5, "
     ]
    }
   ],
   "source": [
    "for x in np.nditer(a.copy(order='F')):\n",
    "    print (x, end=\", \" )"
   ]
  },
  {
   "cell_type": "markdown",
   "metadata": {
    "Collapsed": "false"
   },
   "source": [
    "##  控制遍历顺序-order参数"
   ]
  },
  {
   "cell_type": "markdown",
   "metadata": {
    "Collapsed": "false"
   },
   "source": [
    "除了复制数组a，并改变排序方式之外，我们也可以直接在`nditer`迭代器里添加`order`参数"
   ]
  },
  {
   "cell_type": "code",
   "execution_count": 34,
   "metadata": {
    "Collapsed": "false",
    "tags": [
     "7.1-2"
    ]
   },
   "outputs": [
    {
     "name": "stdout",
     "output_type": "stream",
     "text": [
      "0, 3, 1, 4, 2, 5, "
     ]
    }
   ],
   "source": [
    "for x in np.nditer(a,order='F'):\n",
    "    print (x, end=\", \" )"
   ]
  },
  {
   "cell_type": "markdown",
   "metadata": {
    "Collapsed": "false"
   },
   "source": [
    "##  修改数组中的元素-op_flags参数"
   ]
  },
  {
   "cell_type": "markdown",
   "metadata": {
    "Collapsed": "false"
   },
   "source": [
    "`nditer` 对象有另一个可选参数 **`op_flags`**。 默认情况下，nditer 将视待迭代遍历的数组为**只读对象（read-only）**，为了在遍历数组的同时，实现对数组元素值得修改，必须指定**read-write  或者write-only** 的模式"
   ]
  },
  {
   "cell_type": "code",
   "execution_count": 49,
   "metadata": {
    "Collapsed": "false",
    "tags": [
     "7.3"
    ]
   },
   "outputs": [
    {
     "name": "stdout",
     "output_type": "stream",
     "text": [
      "0, 1, 2, 3, 4, 5, "
     ]
    },
    {
     "data": {
      "text/plain": [
       "array([[ 0,  2,  4],\n",
       "       [ 6,  8, 10]])"
      ]
     },
     "execution_count": 49,
     "metadata": {},
     "output_type": "execute_result"
    }
   ],
   "source": [
    "a = np.arange(6).reshape(2,3)\n",
    "for x in np.nditer(a,op_flags=('readwrite',)):\n",
    "    #注意，op_flags参数很多，一般用元组表示\n",
    "    print (x, end=\", \" )\n",
    "    x*=2\n",
    "a"
   ]
  },
  {
   "cell_type": "markdown",
   "metadata": {
    "Collapsed": "false"
   },
   "source": [
    "## 使用外部循环-flags参数"
   ]
  },
  {
   "cell_type": "markdown",
   "metadata": {
    "Collapsed": "false"
   },
   "source": [
    "nditer类的构造器拥有`flags`参数，包括`external_loop`子参数：给出的值是具有多个值的一维数组，而不是零维数组"
   ]
  },
  {
   "cell_type": "code",
   "execution_count": 62,
   "metadata": {
    "Collapsed": "false",
    "tags": [
     "7.4"
    ]
   },
   "outputs": [
    {
     "name": "stdout",
     "output_type": "stream",
     "text": [
      "[ 0  1  2  3  4  5  6  7  8  9 10 11 12 13 14 15 16 17 18 19 20 21 22 23]\n"
     ]
    }
   ],
   "source": [
    "a = np.arange(24).reshape(2,3,4)\n",
    "for x in np.nditer(a,flags =('external_loop',)):  \n",
    "   print(x)"
   ]
  },
  {
   "cell_type": "markdown",
   "metadata": {
    "Collapsed": "false"
   },
   "source": [
    "## 广播迭代"
   ]
  },
  {
   "cell_type": "markdown",
   "metadata": {
    "Collapsed": "false"
   },
   "source": [
    "如果两个数组是可广播的，`nditer`能够同时迭代它们"
   ]
  },
  {
   "cell_type": "code",
   "execution_count": 67,
   "metadata": {
    "Collapsed": "false",
    "tags": [
     "7.5"
    ]
   },
   "outputs": [
    {
     "name": "stdout",
     "output_type": "stream",
     "text": [
      "0:0 , 0:1 , 0:2 , 0:3 , 1:0 , 1:1 , 1:2 , 1:3 , "
     ]
    }
   ],
   "source": [
    "a = np.array([0,1])\n",
    "c = np.array([0,1,2,3])\n",
    "ax,cx = np.ix_(a,c)\n",
    "for i,j in np.nditer([ax,cx]):  \n",
    "    print('{}:{}'.format(i,j),end=' , ')"
   ]
  },
  {
   "cell_type": "markdown",
   "metadata": {
    "Collapsed": "false"
   },
   "source": [
    "----"
   ]
  },
  {
   "cell_type": "markdown",
   "metadata": {
    "Collapsed": "false"
   },
   "source": [
    "# 数组操作 "
   ]
  },
  {
   "cell_type": "markdown",
   "metadata": {
    "Collapsed": "false"
   },
   "source": [
    "## 修改数组形状 "
   ]
  },
  {
   "cell_type": "markdown",
   "metadata": {
    "Collapsed": "false"
   },
   "source": [
    "|函数/方法|描述|\n",
    "|:----|:----|\n",
    "|reshape|不改变数据的条件下修改形状|\n",
    "|ndarray.flat|数组元素迭代器|\n",
    "|ndarray.flatten|返回一份数组拷贝，对拷贝所做的修改不会影响原始数组|\n",
    "|ravel|返回展开数组|"
   ]
  },
  {
   "cell_type": "markdown",
   "metadata": {
    "Collapsed": "false"
   },
   "source": [
    "### numpy.reshape "
   ]
  },
  {
   "cell_type": "markdown",
   "metadata": {
    "Collapsed": "false"
   },
   "source": [
    "```Python\n",
    "numpy.reshape(ndarray, newshape, order='C')\n",
    "```"
   ]
  },
  {
   "cell_type": "markdown",
   "metadata": {
    "Collapsed": "false"
   },
   "source": [
    "### numpy.ndarray.flat"
   ]
  },
  {
   "cell_type": "markdown",
   "metadata": {
    "Collapsed": "false"
   },
   "source": [
    "前述介绍过迭代器`numpy.nditer`，与此类似，`flat`也是对元素迭代，当然，由于它**not callable**，作用远不及前者："
   ]
  },
  {
   "cell_type": "code",
   "execution_count": 71,
   "metadata": {
    "Collapsed": "false",
    "tags": [
     "8.1"
    ]
   },
   "outputs": [
    {
     "name": "stdout",
     "output_type": "stream",
     "text": [
      "0,1,2,3,4,5,"
     ]
    }
   ],
   "source": [
    "a = np.arange(6).reshape(2,3)\n",
    "for x in a.flat:\n",
    "    print(x,end=',')"
   ]
  },
  {
   "cell_type": "markdown",
   "metadata": {
    "Collapsed": "false"
   },
   "source": [
    "### numpy.ndarray.flatten"
   ]
  },
  {
   "cell_type": "markdown",
   "metadata": {
    "Collapsed": "false"
   },
   "source": [
    "`flatten`将多维数组**展平**为一维向量，不过仅是生成一份拷贝，不会对原数组影响："
   ]
  },
  {
   "cell_type": "code",
   "execution_count": 87,
   "metadata": {
    "Collapsed": "false",
    "tags": [
     "8.1"
    ]
   },
   "outputs": [
    {
     "data": {
      "text/plain": [
       "array([0, 3, 1, 4, 2, 5])"
      ]
     },
     "execution_count": 87,
     "metadata": {},
     "output_type": "execute_result"
    }
   ],
   "source": [
    "a.flatten(order='F')"
   ]
  },
  {
   "cell_type": "markdown",
   "metadata": {
    "Collapsed": "false"
   },
   "source": [
    "### numpy.ravel"
   ]
  },
  {
   "cell_type": "markdown",
   "metadata": {
    "Collapsed": "false"
   },
   "source": [
    "同样是展平成一维向量："
   ]
  },
  {
   "cell_type": "code",
   "execution_count": 89,
   "metadata": {
    "Collapsed": "false",
    "tags": [
     "8.1"
    ]
   },
   "outputs": [
    {
     "data": {
      "text/plain": [
       "array([0, 3, 1, 4, 2, 5])"
      ]
     },
     "execution_count": 89,
     "metadata": {},
     "output_type": "execute_result"
    }
   ],
   "source": [
    "np.ravel(a,order='F')"
   ]
  },
  {
   "cell_type": "markdown",
   "metadata": {
    "Collapsed": "false"
   },
   "source": [
    "## 翻转数组"
   ]
  },
  {
   "cell_type": "markdown",
   "metadata": {
    "Collapsed": "false"
   },
   "source": [
    "|函数/方法|描述|\n",
    "|:----:|:----:|\n",
    "|transpose|对调维度，即转置|\n",
    "|ndarray.T|同上，转置矩阵|\n",
    "|rollaxis|向后滚动指定的轴|\n",
    "|swapaxes|对换数组的两个轴|"
   ]
  },
  {
   "cell_type": "markdown",
   "metadata": {
    "Collapsed": "false"
   },
   "source": [
    "### numpy.transpose "
   ]
  },
  {
   "cell_type": "code",
   "execution_count": 97,
   "metadata": {
    "Collapsed": "false",
    "tags": [
     "8.2"
    ]
   },
   "outputs": [
    {
     "data": {
      "text/plain": [
       "(4, 3, 2, 1)"
      ]
     },
     "execution_count": 97,
     "metadata": {},
     "output_type": "execute_result"
    }
   ],
   "source": [
    "a=np.arange(24).reshape(1,2,3,4)\n",
    "np.transpose(a).shape"
   ]
  },
  {
   "cell_type": "code",
   "execution_count": 98,
   "metadata": {
    "Collapsed": "false",
    "tags": [
     "8.2"
    ]
   },
   "outputs": [
    {
     "data": {
      "text/plain": [
       "(4, 3, 2, 1)"
      ]
     },
     "execution_count": 98,
     "metadata": {},
     "output_type": "execute_result"
    }
   ],
   "source": [
    "a.T.shape"
   ]
  },
  {
   "cell_type": "markdown",
   "metadata": {
    "Collapsed": "false"
   },
   "source": [
    "### numpy.rollaxis"
   ]
  },
  {
   "cell_type": "markdown",
   "metadata": {
    "Collapsed": "false"
   },
   "source": [
    "`numpy.rollaxis`函数向后滚动特定的轴到一个特定位置，格式如下：\n",
    "```Python\n",
    "numpy.rollaxis(arr, axis, start)\n",
    "```\n",
    "`start`：默认为零，表示完整的滚动。会滚动到特定位置"
   ]
  },
  {
   "cell_type": "code",
   "execution_count": 100,
   "metadata": {
    "Collapsed": "false",
    "tags": [
     "8.2"
    ]
   },
   "outputs": [
    {
     "data": {
      "text/plain": [
       "array([[[0, 1],\n",
       "        [2, 3]],\n",
       "\n",
       "       [[4, 5],\n",
       "        [6, 7]]])"
      ]
     },
     "execution_count": 100,
     "metadata": {},
     "output_type": "execute_result"
    }
   ],
   "source": [
    "a = np.arange(8).reshape(2,2,2)\n",
    "a"
   ]
  },
  {
   "cell_type": "markdown",
   "metadata": {
    "Collapsed": "false"
   },
   "source": [
    "将2轴移到0轴，原0轴、1轴依次后退："
   ]
  },
  {
   "cell_type": "code",
   "execution_count": 101,
   "metadata": {
    "Collapsed": "false",
    "tags": [
     "8.2"
    ]
   },
   "outputs": [
    {
     "data": {
      "text/plain": [
       "array([[[0, 2],\n",
       "        [4, 6]],\n",
       "\n",
       "       [[1, 3],\n",
       "        [5, 7]]])"
      ]
     },
     "execution_count": 101,
     "metadata": {},
     "output_type": "execute_result"
    }
   ],
   "source": [
    "np.rollaxis(a,2)"
   ]
  },
  {
   "cell_type": "markdown",
   "metadata": {
    "Collapsed": "false"
   },
   "source": [
    "移轴是如何完成的呢？默认C-order下,原数组中“3”的坐标为:(0,1,1),移轴后坐标为：(1,0,1)，即换到了原来的“5”位置"
   ]
  },
  {
   "cell_type": "markdown",
   "metadata": {
    "Collapsed": "false"
   },
   "source": [
    "### numpy.swapaxis"
   ]
  },
  {
   "cell_type": "markdown",
   "metadata": {
    "Collapsed": "false"
   },
   "source": [
    "`numpy.swapaxes `函数用于交换数组的两个轴，格式如下：\n",
    "```Python\n",
    "numpy.swapaxes(arr, axis1, axis2)\n",
    "```"
   ]
  },
  {
   "cell_type": "code",
   "execution_count": 102,
   "metadata": {
    "Collapsed": "false",
    "tags": [
     "8.2"
    ]
   },
   "outputs": [
    {
     "data": {
      "text/plain": [
       "array([[[0, 2],\n",
       "        [4, 6]],\n",
       "\n",
       "       [[1, 3],\n",
       "        [5, 7]]])"
      ]
     },
     "execution_count": 102,
     "metadata": {},
     "output_type": "execute_result"
    }
   ],
   "source": [
    "np.rollaxis(a,2,0)"
   ]
  },
  {
   "cell_type": "markdown",
   "metadata": {
    "Collapsed": "false"
   },
   "source": [
    "## 修改数组维度"
   ]
  },
  {
   "cell_type": "markdown",
   "metadata": {
    "Collapsed": "false"
   },
   "source": [
    "|函数/方法|描述|\n",
    "|:----:|:----:|\n",
    "|broadcast|产生模仿广播的对象|\n",
    "|broadcast_to|将数组广播到新形状|\n",
    "|expand_dims|\t扩展数组的形状|\n",
    "|squeeze|从数组的形状中删除一维条目|"
   ]
  },
  {
   "cell_type": "markdown",
   "metadata": {
    "Collapsed": "false"
   },
   "source": [
    "### numpy.broadcast "
   ]
  },
  {
   "cell_type": "markdown",
   "metadata": {
    "Collapsed": "false"
   },
   "source": [
    " 用于模仿广播的对象，它返回一个对象，该对象封装了将一个数组广播到另一个数组的结果，该函数使用两个数组作为输入参数"
   ]
  },
  {
   "cell_type": "code",
   "execution_count": 106,
   "metadata": {
    "Collapsed": "false",
    "tags": [
     "8.3"
    ]
   },
   "outputs": [
    {
     "name": "stdout",
     "output_type": "stream",
     "text": [
      "(3, 3) <class 'numpy.broadcast'>\n",
      "(0, 0),(1, 0),(2, 0),(0, 1),(1, 1),(2, 1),(0, 2),(1, 2),(2, 2),"
     ]
    }
   ],
   "source": [
    "a=np.arange(3).reshape(1,3)\n",
    "b=np.arange(3).reshape(3,1)\n",
    "c=np.broadcast(a,b)\n",
    "print(c.shape,type(c))\n",
    "for x in c:\n",
    "    print(x,end=',')"
   ]
  },
  {
   "cell_type": "markdown",
   "metadata": {
    "Collapsed": "false"
   },
   "source": [
    "### numpy.broadcast_to"
   ]
  },
  {
   "cell_type": "markdown",
   "metadata": {
    "Collapsed": "false"
   },
   "source": [
    "将数组广播到新形状：\n",
    "```Python\n",
    "numpy.broadcast_to(array, shape, subok)\n",
    "```"
   ]
  },
  {
   "cell_type": "code",
   "execution_count": 114,
   "metadata": {
    "Collapsed": "false",
    "tags": [
     "8.3"
    ]
   },
   "outputs": [
    {
     "data": {
      "text/plain": [
       "array([[0, 1, 2],\n",
       "       [0, 1, 2],\n",
       "       [0, 1, 2]])"
      ]
     },
     "execution_count": 114,
     "metadata": {},
     "output_type": "execute_result"
    }
   ],
   "source": [
    "a1=np.broadcast_to(a,(3,3))\n",
    "a1"
   ]
  },
  {
   "cell_type": "markdown",
   "metadata": {
    "Collapsed": "false"
   },
   "source": [
    "### numpy.expand_dims"
   ]
  },
  {
   "cell_type": "markdown",
   "metadata": {
    "Collapsed": "false"
   },
   "source": [
    "通过在指定位置插入新的轴来扩展数组形状，函数格式如下:\n",
    "```Python\n",
    " numpy.expand_dims(arr, axis)\n",
    "```"
   ]
  },
  {
   "cell_type": "code",
   "execution_count": 118,
   "metadata": {
    "Collapsed": "false",
    "tags": [
     "8.3"
    ]
   },
   "outputs": [
    {
     "data": {
      "text/plain": [
       "(3, 3, 1)"
      ]
     },
     "execution_count": 118,
     "metadata": {},
     "output_type": "execute_result"
    }
   ],
   "source": [
    "a2=np.expand_dims(a1, axis = 2)\n",
    "a2.shape"
   ]
  },
  {
   "cell_type": "markdown",
   "metadata": {
    "Collapsed": "false"
   },
   "source": [
    "### numpy.squeeze"
   ]
  },
  {
   "cell_type": "markdown",
   "metadata": {
    "Collapsed": "false"
   },
   "source": [
    "从给定数组的形状中删除一维的条目，函数格式如下：\n",
    "```Python\n",
    "numpy.squeeze(arr, axis)\n",
    "```"
   ]
  },
  {
   "cell_type": "code",
   "execution_count": 120,
   "metadata": {
    "Collapsed": "false",
    "tags": [
     "8.3"
    ]
   },
   "outputs": [
    {
     "data": {
      "text/plain": [
       "(3, 3)"
      ]
     },
     "execution_count": 120,
     "metadata": {},
     "output_type": "execute_result"
    }
   ],
   "source": [
    "a3=np.squeeze(a2,axis=2)\n",
    "a3.shape"
   ]
  },
  {
   "cell_type": "markdown",
   "metadata": {
    "Collapsed": "false"
   },
   "source": [
    "## 连接数组"
   ]
  },
  {
   "cell_type": "markdown",
   "metadata": {
    "Collapsed": "false"
   },
   "source": [
    "|函数|描述|\n",
    "|:----:|:----:|\n",
    "|concatenate|连接沿现有轴的数组序列|\n",
    "|stack|沿着新的轴加入一系列数组|\n",
    "|hstack|水平堆叠序列中的数组（列方向）|\n",
    "|vstack|竖直堆叠序列中的数组（行方向）|"
   ]
  },
  {
   "cell_type": "markdown",
   "metadata": {
    "Collapsed": "false"
   },
   "source": [
    "### numpy.concatenate"
   ]
  },
  {
   "cell_type": "markdown",
   "metadata": {
    "Collapsed": "false"
   },
   "source": [
    "用于沿指定轴连接**相同形状**的两个或多个数组，格式如下：\n",
    "```Python\n",
    "numpy.concatenate((a1, a2, ...), axis=0)\n",
    "```"
   ]
  },
  {
   "cell_type": "code",
   "execution_count": 136,
   "metadata": {
    "Collapsed": "false",
    "tags": [
     "8.4"
    ]
   },
   "outputs": [
    {
     "data": {
      "text/plain": [
       "(array([[0, 1, 2],\n",
       "        [3, 4, 5]]), (2, 3))"
      ]
     },
     "execution_count": 136,
     "metadata": {},
     "output_type": "execute_result"
    }
   ],
   "source": [
    "a=np.arange(3).reshape(1,3)\n",
    "b=np.arange(3,6).reshape(1,3)\n",
    "c0=np.concatenate((a,b),0)\n",
    "c0,c0.shape"
   ]
  },
  {
   "cell_type": "code",
   "execution_count": 137,
   "metadata": {
    "Collapsed": "false",
    "tags": [
     "8.4"
    ]
   },
   "outputs": [
    {
     "data": {
      "text/plain": [
       "(array([[0, 1, 2, 3, 4, 5]]), (1, 6))"
      ]
     },
     "execution_count": 137,
     "metadata": {},
     "output_type": "execute_result"
    }
   ],
   "source": [
    "c1=np.concatenate((a,b),1)\n",
    "c1,c1.shape"
   ]
  },
  {
   "cell_type": "markdown",
   "metadata": {
    "Collapsed": "false"
   },
   "source": [
    "### numpy.stack"
   ]
  },
  {
   "cell_type": "markdown",
   "metadata": {
    "Collapsed": "false"
   },
   "source": [
    "用于沿**新轴**连接**相同形状**数组序列，格式如下：\n",
    "```Python\n",
    "numpy.stack(*arrays, axis)\n",
    "```"
   ]
  },
  {
   "cell_type": "code",
   "execution_count": 132,
   "metadata": {
    "Collapsed": "false",
    "tags": [
     "8.4"
    ]
   },
   "outputs": [
    {
     "data": {
      "text/plain": [
       "(array([[[0, 1, 2]],\n",
       " \n",
       "        [[3, 4, 5]]]), (2, 1, 3))"
      ]
     },
     "execution_count": 132,
     "metadata": {},
     "output_type": "execute_result"
    }
   ],
   "source": [
    "s0=np.stack((a,b),0)\n",
    "s0,s0.shape"
   ]
  },
  {
   "cell_type": "code",
   "execution_count": 133,
   "metadata": {
    "Collapsed": "false",
    "tags": [
     "8.4"
    ]
   },
   "outputs": [
    {
     "data": {
      "text/plain": [
       "(array([[[0, 1, 2],\n",
       "         [3, 4, 5]]]), (1, 2, 3))"
      ]
     },
     "execution_count": 133,
     "metadata": {},
     "output_type": "execute_result"
    }
   ],
   "source": [
    "s1=np.stack((a,b),1)\n",
    "s1,s1.shape"
   ]
  },
  {
   "cell_type": "markdown",
   "metadata": {
    "Collapsed": "false"
   },
   "source": [
    "### numpy.hsatck与.vstack"
   ]
  },
  {
   "cell_type": "markdown",
   "metadata": {
    "Collapsed": "false"
   },
   "source": [
    "两者是`concatenate`函数的变体，分别沿水平、竖直方向沿**新轴**堆叠"
   ]
  },
  {
   "cell_type": "code",
   "execution_count": 134,
   "metadata": {
    "Collapsed": "false",
    "tags": [
     "8.4"
    ]
   },
   "outputs": [
    {
     "data": {
      "text/plain": [
       "(array([[0, 1, 2, 3, 4, 5]]), (1, 6))"
      ]
     },
     "execution_count": 134,
     "metadata": {},
     "output_type": "execute_result"
    }
   ],
   "source": [
    "h=np.hstack((a,b))\n",
    "h,h.shape"
   ]
  },
  {
   "cell_type": "code",
   "execution_count": 135,
   "metadata": {
    "Collapsed": "false",
    "tags": [
     "8.4"
    ]
   },
   "outputs": [
    {
     "data": {
      "text/plain": [
       "(array([[0, 1, 2],\n",
       "        [3, 4, 5]]), (2, 3))"
      ]
     },
     "execution_count": 135,
     "metadata": {},
     "output_type": "execute_result"
    }
   ],
   "source": [
    "v=np.vstack((a,b))\n",
    "v,v.shape"
   ]
  },
  {
   "cell_type": "markdown",
   "metadata": {
    "Collapsed": "false"
   },
   "source": [
    "## 分割数组"
   ]
  },
  {
   "cell_type": "markdown",
   "metadata": {
    "Collapsed": "false"
   },
   "source": [
    "|函数|描述|\n",
    "|:----:|:----:|\n",
    "|split|将一个数组分割为多个子数组|\n",
    "|hsplit|将一个数组水平分割为多个子数组（按列）|\n",
    "|vsplit|将一个数组垂直分割为多个子数组（按行）|"
   ]
  },
  {
   "cell_type": "markdown",
   "metadata": {
    "Collapsed": "false"
   },
   "source": [
    "### numpy.split "
   ]
  },
  {
   "cell_type": "markdown",
   "metadata": {
    "Collapsed": "false"
   },
   "source": [
    "沿特定的轴将数组分割为子数组，格式如下：\n",
    "```Python\n",
    "numpy.split(ary, indices_or_sections, axis)\n",
    "```\n",
    "`indices_or_sections`：若为num，则按该数均分；若为数组，则划定了切分位置（左开右闭）\n",
    "\n",
    "`axis`：沿着哪个维度进行切向，默认为0，横向切分。为1时，纵向切分"
   ]
  },
  {
   "cell_type": "code",
   "execution_count": 139,
   "metadata": {
    "Collapsed": "false",
    "tags": [
     "8.5"
    ]
   },
   "outputs": [
    {
     "data": {
      "text/plain": [
       "[array([0, 1, 2]), array([3, 4, 5]), array([6, 7, 8])]"
      ]
     },
     "execution_count": 139,
     "metadata": {},
     "output_type": "execute_result"
    }
   ],
   "source": [
    "a = np.arange(9)\n",
    "s0=np.split(a,3,0)\n",
    "s0"
   ]
  },
  {
   "cell_type": "code",
   "execution_count": 141,
   "metadata": {
    "Collapsed": "false",
    "tags": [
     "8.5"
    ]
   },
   "outputs": [
    {
     "data": {
      "text/plain": [
       "[array([0, 1, 2, 3]), array([4, 5, 6]), array([7, 8])]"
      ]
     },
     "execution_count": 141,
     "metadata": {},
     "output_type": "execute_result"
    }
   ],
   "source": [
    "s1=np.split(a,[4,7],0)\n",
    "s1"
   ]
  },
  {
   "cell_type": "code",
   "execution_count": 157,
   "metadata": {
    "Collapsed": "false",
    "tags": [
     "8.5"
    ]
   },
   "outputs": [
    {
     "data": {
      "text/plain": [
       "[array([[0],\n",
       "        [1],\n",
       "        [2]]), array([[3],\n",
       "        [4],\n",
       "        [5]]), array([[6],\n",
       "        [7],\n",
       "        [8]])]"
      ]
     },
     "execution_count": 157,
     "metadata": {},
     "output_type": "execute_result"
    }
   ],
   "source": [
    "b=a.reshape(9,1)\n",
    "s2=np.split(b,3,0)\n",
    "s2"
   ]
  },
  {
   "cell_type": "markdown",
   "metadata": {
    "Collapsed": "false"
   },
   "source": [
    "### numpy.hsplit/.vsplit "
   ]
  },
  {
   "cell_type": "code",
   "execution_count": 159,
   "metadata": {
    "Collapsed": "false",
    "tags": [
     "8.5"
    ]
   },
   "outputs": [
    {
     "data": {
      "text/plain": [
       "[array([0, 1, 2]), array([3, 4, 5]), array([6, 7, 8])]"
      ]
     },
     "execution_count": 159,
     "metadata": {},
     "output_type": "execute_result"
    }
   ],
   "source": [
    "h=np.hsplit(a,3)\n",
    "h"
   ]
  },
  {
   "cell_type": "code",
   "execution_count": 160,
   "metadata": {
    "Collapsed": "false",
    "tags": [
     "8.5"
    ]
   },
   "outputs": [
    {
     "data": {
      "text/plain": [
       "[array([[0],\n",
       "        [1],\n",
       "        [2]]), array([[3],\n",
       "        [4],\n",
       "        [5]]), array([[6],\n",
       "        [7],\n",
       "        [8]])]"
      ]
     },
     "execution_count": 160,
     "metadata": {},
     "output_type": "execute_result"
    }
   ],
   "source": [
    "v=np.vsplit(b,3)\n",
    "v"
   ]
  },
  {
   "cell_type": "markdown",
   "metadata": {
    "Collapsed": "false"
   },
   "source": [
    "## 添加与删除元素"
   ]
  },
  {
   "cell_type": "markdown",
   "metadata": {
    "Collapsed": "false"
   },
   "source": [
    "|函数|描述|\n",
    "|:----:|:----:|\n",
    "|resize|返回指定形状的新数组|\n",
    "|append|将值添加到数组末尾|\n",
    "|insert|沿指定轴将值插入到指定下标之前|\n",
    "|delete|删掉某个轴的子数组，并返回删除后的新数组|\n",
    "|unique|查找数组内的唯一元素|"
   ]
  },
  {
   "cell_type": "markdown",
   "metadata": {
    "Collapsed": "false"
   },
   "source": [
    "### numpy.resize "
   ]
  },
  {
   "cell_type": "markdown",
   "metadata": {
    "Collapsed": "false"
   },
   "source": [
    "返回指定大小的新数组。如果新数组大小大于原始大小，则包含原始数组中的元素的副本:\n",
    "```Python\n",
    "numpy.resize(arr, shape)\n",
    "```\n",
    "**\\!**注意与reshape的不同之处：**reshape固定了size**"
   ]
  },
  {
   "cell_type": "code",
   "execution_count": 2,
   "metadata": {
    "Collapsed": "false",
    "tags": [
     "8.6"
    ]
   },
   "outputs": [
    {
     "data": {
      "text/plain": [
       "(2, 3)"
      ]
     },
     "execution_count": 2,
     "metadata": {},
     "output_type": "execute_result"
    }
   ],
   "source": [
    "import numpy as np\n",
    "a=np.array([[1,2,3],[4,5,6]])\n",
    "a.shape"
   ]
  },
  {
   "cell_type": "code",
   "execution_count": 165,
   "metadata": {
    "Collapsed": "false",
    "tags": [
     "8.6"
    ]
   },
   "outputs": [
    {
     "data": {
      "text/plain": [
       "array([[1, 2, 3],\n",
       "       [4, 5, 6],\n",
       "       [1, 2, 3]])"
      ]
     },
     "execution_count": 165,
     "metadata": {},
     "output_type": "execute_result"
    }
   ],
   "source": [
    "# 尺寸变大,继续重复\n",
    "np.resize(a,(3,3))"
   ]
  },
  {
   "cell_type": "markdown",
   "metadata": {
    "Collapsed": "false"
   },
   "source": [
    "### numpy.append"
   ]
  },
  {
   "cell_type": "markdown",
   "metadata": {
    "Collapsed": "false"
   },
   "source": [
    "在数组的末尾添加值，输入数组的维度必须匹配否则将生成ValueError\n",
    "```Python\n",
    "numpy.append(arr, values, axis=None)\n",
    "```\n",
    "`axis`：当axis无定义时，是横向加成，返回总是为一维数组；为0，沿0轴添加；为1，沿1轴添加"
   ]
  },
  {
   "cell_type": "code",
   "execution_count": 166,
   "metadata": {
    "Collapsed": "false",
    "tags": [
     "8.6"
    ]
   },
   "outputs": [
    {
     "data": {
      "text/plain": [
       "array([1, 2, 3, 4, 5, 6, 7, 8, 9])"
      ]
     },
     "execution_count": 166,
     "metadata": {},
     "output_type": "execute_result"
    }
   ],
   "source": [
    "np.append(a,[7,8,9])"
   ]
  },
  {
   "cell_type": "code",
   "execution_count": 168,
   "metadata": {
    "Collapsed": "false",
    "tags": [
     "8.6"
    ]
   },
   "outputs": [
    {
     "data": {
      "text/plain": [
       "array([[1, 2, 3],\n",
       "       [4, 5, 6],\n",
       "       [7, 8, 9]])"
      ]
     },
     "execution_count": 168,
     "metadata": {},
     "output_type": "execute_result"
    }
   ],
   "source": [
    "np.append(a,[[7,8,9]],axis=0) #添加（1，3）数组"
   ]
  },
  {
   "cell_type": "code",
   "execution_count": 172,
   "metadata": {
    "Collapsed": "false",
    "tags": [
     "8.6"
    ]
   },
   "outputs": [
    {
     "data": {
      "text/plain": [
       "array([[1, 2, 3, 7],\n",
       "       [4, 5, 6, 8]])"
      ]
     },
     "execution_count": 172,
     "metadata": {},
     "output_type": "execute_result"
    }
   ],
   "source": [
    "np.append(a,[[7],[8]],axis=1) #添加（2，1）数组"
   ]
  },
  {
   "cell_type": "markdown",
   "metadata": {
    "Collapsed": "false"
   },
   "source": [
    "### numpy.insert"
   ]
  },
  {
   "cell_type": "markdown",
   "metadata": {
    "Collapsed": "false"
   },
   "source": [
    "在给定索引之前，沿给定轴在输入数组中插入值:\n",
    "```Python\n",
    "numpy.insert(arr, obj, values, axis)\n",
    "```\n",
    "`obj`：索引值；`valus`：值或数组或嵌套序列；`axis`：沿着它插入的轴，如果未提供，则输入数组会被展开"
   ]
  },
  {
   "cell_type": "code",
   "execution_count": 3,
   "metadata": {
    "Collapsed": "false",
    "tags": [
     "8.6"
    ]
   },
   "outputs": [
    {
     "data": {
      "text/plain": [
       "array([ 1,  2, 11,  3,  4,  5,  6])"
      ]
     },
     "execution_count": 3,
     "metadata": {},
     "output_type": "execute_result"
    }
   ],
   "source": [
    "np.insert(a,2,11)# 不指定axis"
   ]
  },
  {
   "cell_type": "code",
   "execution_count": 4,
   "metadata": {
    "Collapsed": "false",
    "tags": [
     "8.6"
    ]
   },
   "outputs": [
    {
     "data": {
      "text/plain": [
       "array([[ 1,  2,  3],\n",
       "       [ 4,  5,  6],\n",
       "       [11, 11, 11]])"
      ]
     },
     "execution_count": 4,
     "metadata": {},
     "output_type": "execute_result"
    }
   ],
   "source": [
    "np.insert(a,2,11,0)# 0轴插入"
   ]
  },
  {
   "cell_type": "code",
   "execution_count": 5,
   "metadata": {
    "Collapsed": "false",
    "tags": [
     "8.6"
    ]
   },
   "outputs": [
    {
     "data": {
      "text/plain": [
       "array([[ 1,  2, 11,  3],\n",
       "       [ 4,  5, 11,  6]])"
      ]
     },
     "execution_count": 5,
     "metadata": {},
     "output_type": "execute_result"
    }
   ],
   "source": [
    "np.insert(a,2,11,1)# 1轴插入"
   ]
  },
  {
   "cell_type": "markdown",
   "metadata": {
    "Collapsed": "false"
   },
   "source": [
    "### numpy.delete"
   ]
  },
  {
   "cell_type": "markdown",
   "metadata": {
    "Collapsed": "false"
   },
   "source": [
    "返回从输入数组中删除指定子数组的新数组。 与`insert()` 函数的情况一样，如果未提供轴参数，则输入数组将展开:\n",
    "```Python\n",
    "Numpy.delete(arr, obj, axis)\n",
    "```"
   ]
  },
  {
   "cell_type": "code",
   "execution_count": 6,
   "metadata": {
    "Collapsed": "false",
    "tags": [
     "8.6"
    ]
   },
   "outputs": [
    {
     "data": {
      "text/plain": [
       "array([1, 2, 3, 4, 6])"
      ]
     },
     "execution_count": 6,
     "metadata": {},
     "output_type": "execute_result"
    }
   ],
   "source": [
    "np.delete(a,4)"
   ]
  },
  {
   "cell_type": "code",
   "execution_count": 7,
   "metadata": {
    "Collapsed": "false",
    "tags": [
     "8.6"
    ]
   },
   "outputs": [
    {
     "data": {
      "text/plain": [
       "array([[4, 5, 6]])"
      ]
     },
     "execution_count": 7,
     "metadata": {},
     "output_type": "execute_result"
    }
   ],
   "source": [
    "np.delete(a,0,0)"
   ]
  },
  {
   "cell_type": "code",
   "execution_count": 8,
   "metadata": {
    "Collapsed": "false",
    "tags": [
     "8.6"
    ]
   },
   "outputs": [
    {
     "data": {
      "text/plain": [
       "array([[2, 3],\n",
       "       [5, 6]])"
      ]
     },
     "execution_count": 8,
     "metadata": {},
     "output_type": "execute_result"
    }
   ],
   "source": [
    "np.delete(a,0,1)"
   ]
  },
  {
   "cell_type": "markdown",
   "metadata": {
    "Collapsed": "false"
   },
   "source": [
    "### numpy.unique"
   ]
  },
  {
   "cell_type": "markdown",
   "metadata": {
    "Collapsed": "false"
   },
   "source": [
    "用于去除数组中的重复元素:\n",
    "```Python\n",
    "numpy.unique(arr, return_index, return_inverse, return_counts)\n",
    "```\n",
    "- `arr`：如果不是一维数组则会展开\n",
    "- `return_index`：如果为true，返回新列表元素在旧列表中的位置（下标），并以**tuple**形式储\n",
    "- `return_inverse`：如果为true，返回旧列表元素在新列表中的位置（下标），并以**tuple**形式储\n",
    "- `return_counts`：如果为true，返回去重数组中的元素在原数组中的出现次数"
   ]
  },
  {
   "cell_type": "code",
   "execution_count": 13,
   "metadata": {
    "Collapsed": "false",
    "tags": [
     "8.6"
    ]
   },
   "outputs": [
    {
     "data": {
      "text/plain": [
       "array([2, 5, 6, 7, 8, 9])"
      ]
     },
     "execution_count": 13,
     "metadata": {},
     "output_type": "execute_result"
    }
   ],
   "source": [
    "b = np.array([[5,2,6,2,7],[5,6,8,2,9]])\n",
    "np.unique(b)"
   ]
  },
  {
   "cell_type": "code",
   "execution_count": 14,
   "metadata": {
    "Collapsed": "false",
    "tags": [
     "8.6"
    ]
   },
   "outputs": [
    {
     "data": {
      "text/plain": [
       "(array([2, 5, 6, 7, 8, 9]), array([1, 0, 2, 4, 7, 9], dtype=int64))"
      ]
     },
     "execution_count": 14,
     "metadata": {},
     "output_type": "execute_result"
    }
   ],
   "source": [
    "np.unique(b, return_index = True)"
   ]
  },
  {
   "cell_type": "code",
   "execution_count": 15,
   "metadata": {
    "Collapsed": "false",
    "tags": [
     "8.6"
    ]
   },
   "outputs": [
    {
     "data": {
      "text/plain": [
       "(array([2, 5, 6, 7, 8, 9]), array([3, 2, 2, 1, 1, 1], dtype=int64))"
      ]
     },
     "execution_count": 15,
     "metadata": {},
     "output_type": "execute_result"
    }
   ],
   "source": [
    "np.unique(b, return_counts = True)"
   ]
  },
  {
   "cell_type": "markdown",
   "metadata": {
    "Collapsed": "false"
   },
   "source": [
    "----"
   ]
  },
  {
   "cell_type": "markdown",
   "metadata": {
    "Collapsed": "false"
   },
   "source": [
    "# 位运算 "
   ]
  },
  {
   "cell_type": "markdown",
   "metadata": {
    "Collapsed": "false"
   },
   "source": [
    "NumPy中**`bitwise_`**开头的函数是位运算函数，主要包括以下函数："
   ]
  },
  {
   "cell_type": "markdown",
   "metadata": {
    "Collapsed": "false"
   },
   "source": [
    "|函数|描述|代替符号|\n",
    "|:----|:----|:----:|\n",
    "|base_repr|数字进制转换||\n",
    "|bitwise_and|对数组元素执行**按位与**操作|`&`|\n",
    "|bitwise_or|对数组元素执行**按位或**操作|`\\|`|\n",
    "|bitwise_xor|对数组元素执行**按位异或**操作|`^`|\n",
    "|invert|按位取反|`~`|\n",
    "|left_shift|向左移动二进制表示的位|`<<`|\n",
    "|right_shift|向右移动二进制表示的位|`>>`|"
   ]
  },
  {
   "cell_type": "markdown",
   "metadata": {
    "Collapsed": "false"
   },
   "source": [
    "## base_repr"
   ]
  },
  {
   "cell_type": "markdown",
   "metadata": {
    "Collapsed": "false"
   },
   "source": [
    "学习Python时，我们曾讨论过数字的进制转换，比如`bin()`、`oct()`、`hex()`函数："
   ]
  },
  {
   "cell_type": "code",
   "execution_count": 25,
   "metadata": {
    "Collapsed": "false",
    "tags": [
     "9"
    ]
   },
   "outputs": [
    {
     "data": {
      "text/plain": [
       "('0B1101', '0O15', '0XD')"
      ]
     },
     "execution_count": 25,
     "metadata": {},
     "output_type": "execute_result"
    }
   ],
   "source": [
    "bin(13).upper(),oct(13).upper(),hex(13).upper()"
   ]
  },
  {
   "cell_type": "markdown",
   "metadata": {
    "Collapsed": "false"
   },
   "source": [
    "使用`format()`函数可以直接去除掉进制前缀："
   ]
  },
  {
   "cell_type": "code",
   "execution_count": 27,
   "metadata": {
    "Collapsed": "false",
    "tags": [
     "9"
    ]
   },
   "outputs": [
    {
     "data": {
      "text/plain": [
       "('1101', '15', 'D')"
      ]
     },
     "execution_count": 27,
     "metadata": {},
     "output_type": "execute_result"
    }
   ],
   "source": [
    "format(13,'b'),format(13,'o'),format(13,'x').upper()"
   ]
  },
  {
   "cell_type": "markdown",
   "metadata": {
    "Collapsed": "false"
   },
   "source": [
    "NumPy里也提供了类似的进制转换函数，最通用的就是**`numpy.base_repr`**，结构如下:\n",
    "```Python\n",
    "numpy.base_repr(number, base=2, padding=0)\n",
    "```\n",
    "`padding`：数字前缀，添0数目"
   ]
  },
  {
   "cell_type": "code",
   "execution_count": 33,
   "metadata": {
    "Collapsed": "false",
    "tags": [
     "9"
    ]
   },
   "outputs": [
    {
     "data": {
      "text/plain": [
       "('1101', '0015', 'D')"
      ]
     },
     "execution_count": 33,
     "metadata": {},
     "output_type": "execute_result"
    }
   ],
   "source": [
    "np.base_repr(13,2),np.base_repr(13,8,padding=2),np.base_repr(13,16)"
   ]
  },
  {
   "cell_type": "markdown",
   "metadata": {
    "Collapsed": "false"
   },
   "source": [
    "## bitwise_and/or/xor "
   ]
  },
  {
   "cell_type": "markdown",
   "metadata": {
    "Collapsed": "false"
   },
   "source": [
    "以上函数的语法均类似，主要参数为两个**array_like**，且必须是**integer**或**bollean** type（注意对于代替符号，严格要求是**ndarray**）；若数组形状不同，必须是**broadcastable**\n",
    "```Python\n",
    "numpy.fn(arr1,arr2)\n",
    "```"
   ]
  },
  {
   "cell_type": "code",
   "execution_count": 15,
   "metadata": {
    "Collapsed": "false",
    "tags": [
     "9"
    ]
   },
   "outputs": [
    {
     "data": {
      "text/plain": [
       "(array([ 2,  4, 16], dtype=int32), array([ 2,  4, 16], dtype=int32))"
      ]
     },
     "execution_count": 15,
     "metadata": {},
     "output_type": "execute_result"
    }
   ],
   "source": [
    "np.bitwise_and(np.array([2,5,255]), np.array([3,14,16])),np.array([2,5,255])& np.array([3,14,16])"
   ]
  },
  {
   "cell_type": "code",
   "execution_count": 23,
   "metadata": {
    "Collapsed": "false",
    "tags": [
     "9"
    ]
   },
   "outputs": [
    {
     "data": {
      "text/plain": [
       "(array([33,  5], dtype=int32), array([33,  5], dtype=int32))"
      ]
     },
     "execution_count": 23,
     "metadata": {},
     "output_type": "execute_result"
    }
   ],
   "source": [
    "np.bitwise_or([33, 4], 1),np.array([33, 4])|np.array(1)"
   ]
  },
  {
   "cell_type": "code",
   "execution_count": 22,
   "metadata": {
    "Collapsed": "false",
    "tags": [
     "9"
    ]
   },
   "outputs": [
    {
     "data": {
      "text/plain": [
       "(array([ True, False]), array([ True, False]))"
      ]
     },
     "execution_count": 22,
     "metadata": {},
     "output_type": "execute_result"
    }
   ],
   "source": [
    "np.bitwise_xor([True, True], [False, True]),np.array([True, True])^np.array([False, True])"
   ]
  },
  {
   "cell_type": "markdown",
   "metadata": {
    "Collapsed": "false"
   },
   "source": [
    "## invert "
   ]
  },
  {
   "cell_type": "markdown",
   "metadata": {
    "Collapsed": "false"
   },
   "source": [
    "对x按位取反等价于：-(x+1)。参数只有一个array_like，同样限值dtype："
   ]
  },
  {
   "cell_type": "code",
   "execution_count": 35,
   "metadata": {
    "Collapsed": "false",
    "tags": [
     "9"
    ]
   },
   "outputs": [
    {
     "data": {
      "text/plain": [
       "(array([False,  True]), array([False,  True]))"
      ]
     },
     "execution_count": 35,
     "metadata": {},
     "output_type": "execute_result"
    }
   ],
   "source": [
    "np.invert([True, False]),~np.array([True,False])"
   ]
  },
  {
   "cell_type": "code",
   "execution_count": 36,
   "metadata": {
    "Collapsed": "false",
    "tags": [
     "9"
    ]
   },
   "outputs": [
    {
     "data": {
      "text/plain": [
       "(array([-14,  15], dtype=int32), array([-14,  15], dtype=int32))"
      ]
     },
     "execution_count": 36,
     "metadata": {},
     "output_type": "execute_result"
    }
   ],
   "source": [
    "np.invert([13, -16]),~np.array([13,-16])"
   ]
  },
  {
   "cell_type": "markdown",
   "metadata": {
    "Collapsed": "false"
   },
   "source": [
    "## right/left_shift "
   ]
  },
  {
   "cell_type": "markdown",
   "metadata": {
    "Collapsed": "false"
   },
   "source": [
    "以上函数的语法均类似，主要参数为**array_like**，且必须是**integer** type\n",
    "```Python\n",
    "numpy.left_shift(x1, x2)\n",
    "```\n",
    "- 将x2元素按位左移x1位，等价于：x<sub>2</sub>\\*2<sup>x<sub>1</sub></sup>\n",
    "- 将x2元素按位右移x1位，等价于：x<sub>2</sub>/2<sup>x<sub>1</sub></sup>"
   ]
  },
  {
   "cell_type": "code",
   "execution_count": 42,
   "metadata": {
    "Collapsed": "false",
    "tags": [
     "9"
    ]
   },
   "outputs": [
    {
     "data": {
      "text/plain": [
       "(array([10, 20, 40], dtype=int32), array([2, 1, 0], dtype=int32))"
      ]
     },
     "execution_count": 42,
     "metadata": {},
     "output_type": "execute_result"
    }
   ],
   "source": [
    "np.left_shift(5, [1,2,3]),np.right_shift(5, [1,2,3])"
   ]
  },
  {
   "cell_type": "code",
   "execution_count": 43,
   "metadata": {
    "Collapsed": "false",
    "tags": [
     "9"
    ]
   },
   "outputs": [
    {
     "name": "stdout",
     "output_type": "stream",
     "text": [
      "000101,001010,010100,101000,000010,000001,000000,"
     ]
    }
   ],
   "source": [
    "for i in [5,10,20,40,2,1,0]:\n",
    "    print(np.binary_repr(i,width=6),end=',')"
   ]
  },
  {
   "cell_type": "code",
   "execution_count": 44,
   "metadata": {
    "Collapsed": "false",
    "tags": [
     "9"
    ]
   },
   "outputs": [
    {
     "data": {
      "text/plain": [
       "(array([10, 24, 56], dtype=int32), array([2, 1, 0], dtype=int32))"
      ]
     },
     "execution_count": 44,
     "metadata": {},
     "output_type": "execute_result"
    }
   ],
   "source": [
    "np.left_shift([5,6,7], [1,2,3]),np.right_shift([5,6,7], [1,2,3])"
   ]
  },
  {
   "cell_type": "markdown",
   "metadata": {
    "Collapsed": "false"
   },
   "source": [
    "----"
   ]
  },
  {
   "cell_type": "markdown",
   "metadata": {
    "Collapsed": "false"
   },
   "source": [
    "# 字符串函数 "
   ]
  },
  {
   "cell_type": "markdown",
   "metadata": {
    "Collapsed": "false"
   },
   "source": [
    "- 以下函数用于对 dtype 为**numpy.string_** 或 **numpy.unicode_** 的数组(对于普通的**string**也可以)执行向量化字符串操作;\n",
    "- 它们基于 Python 内置库中的标准字符串函数\n",
    "- 均在字符数组类**numpy.char**中定义"
   ]
  },
  {
   "cell_type": "markdown",
   "metadata": {
    "Collapsed": "false"
   },
   "source": [
    "|char方法|描述|char方法|描述|\n",
    "|:----|:----|:----|:----|\n",
    "|add|对两个数组的元素进行字符串连接|split|指定分隔符对字符串进行分割，并返回数组列表|\n",
    "|multiply|返回按元素多重连接后的字符串|splitlines|返回元素中的行列表，以换行符分割|\n",
    "|center|字符串居中|strip|移除元素开头或者结尾处的特定字符|\n",
    "|capitalize|第一个首字母大写|join|通过指定分隔符来连接数组中的元素|\n",
    "|title|每个单词首字母大写|replace|使用新字符串替换字符串中的所有子字符串|\n",
    "|lower|全小写|decode|数组元素依次调用`str.decode`|\n",
    "|upper|全大写|encode|数组元素依次调用`str.encode`|"
   ]
  },
  {
   "cell_type": "markdown",
   "metadata": {
    "Collapsed": "false"
   },
   "source": [
    "## add/multiply/center"
   ]
  },
  {
   "cell_type": "code",
   "execution_count": 48,
   "metadata": {
    "Collapsed": "false",
    "tags": [
     "10"
    ]
   },
   "outputs": [
    {
     "data": {
      "text/plain": [
       "(array([[['abc'],\n",
       "         ['xyz']],\n",
       " \n",
       "        [['shi'],\n",
       "         ['hao']],\n",
       " \n",
       "        [['Hello'],\n",
       "         ['world']]], dtype='<U5'), (3, 2, 1))"
      ]
     },
     "execution_count": 48,
     "metadata": {},
     "output_type": "execute_result"
    }
   ],
   "source": [
    "import numpy as np\n",
    "a=np.array([[['abc'],['xyz']],[['shi'],['hao']],[['Hello'],['world']]])\n",
    "a,a.shape"
   ]
  },
  {
   "cell_type": "code",
   "execution_count": 52,
   "metadata": {
    "Collapsed": "false",
    "tags": [
     "10"
    ]
   },
   "outputs": [
    {
     "data": {
      "text/plain": [
       "(array([['123'],\n",
       "        ['USA']], dtype='<U3'), (2, 1))"
      ]
     },
     "execution_count": 52,
     "metadata": {},
     "output_type": "execute_result"
    }
   ],
   "source": [
    "b=np.array([['123'],['USA']])\n",
    "b,b.shape"
   ]
  },
  {
   "cell_type": "code",
   "execution_count": 54,
   "metadata": {
    "Collapsed": "false",
    "tags": [
     "10"
    ]
   },
   "outputs": [
    {
     "data": {
      "text/plain": [
       "(array([[['abc123'],\n",
       "         ['xyzUSA']],\n",
       " \n",
       "        [['shi123'],\n",
       "         ['haoUSA']],\n",
       " \n",
       "        [['Hello123'],\n",
       "         ['worldUSA']]], dtype='<U8'), (3, 2, 1))"
      ]
     },
     "execution_count": 54,
     "metadata": {},
     "output_type": "execute_result"
    }
   ],
   "source": [
    "# 数组不等类型，但是遵从广播原则\n",
    "c_add=np.char.add(a,b)\n",
    "c_add,c_add.shape"
   ]
  },
  {
   "cell_type": "markdown",
   "metadata": {
    "Collapsed": "false"
   },
   "source": [
    ">**dtype类型解释：**\n",
    "- 字节顺序是通过对数据类型预先设定\"<\"或\">\"来决定的。\"<\"意味着小端法(最小值存储在最小的地址，即低位组放在最前面)。\">\"意味着大端法(最重要的字节存储在最小的地址，即高位组放在最前面)；\n",
    "- `U`代表`Unicode`类型\n",
    "- 后面的数字即字符元素的最大长度"
   ]
  },
  {
   "cell_type": "code",
   "execution_count": 56,
   "metadata": {
    "Collapsed": "false",
    "tags": [
     "10"
    ]
   },
   "outputs": [
    {
     "data": {
      "text/plain": [
       "(array([['123123123'],\n",
       "        ['USAUSAUSA']], dtype='<U9'), (2, 1))"
      ]
     },
     "execution_count": 56,
     "metadata": {},
     "output_type": "execute_result"
    }
   ],
   "source": [
    "c_multiple=np.char.multiply(b,3)\n",
    "c_multiple,c_multiple.shape"
   ]
  },
  {
   "cell_type": "markdown",
   "metadata": {
    "Collapsed": "false"
   },
   "source": [
    "**center()** 函数用于将字符串居中，并使用指定字符在左侧和右侧进行填充，结构如下：\n",
    "```Python\n",
    "np.char.center(str,width,fillchar) \n",
    "```"
   ]
  },
  {
   "cell_type": "code",
   "execution_count": 58,
   "metadata": {
    "Collapsed": "false",
    "tags": [
     "10"
    ]
   },
   "outputs": [
    {
     "data": {
      "text/plain": [
       "array([['**123**'],\n",
       "       ['**USA**']], dtype='<U7')"
      ]
     },
     "execution_count": 58,
     "metadata": {},
     "output_type": "execute_result"
    }
   ],
   "source": [
    "np.char.center(b,7,'*')"
   ]
  },
  {
   "cell_type": "code",
   "execution_count": 60,
   "metadata": {
    "Collapsed": "false",
    "tags": [
     "10"
    ]
   },
   "outputs": [
    {
     "name": "stdout",
     "output_type": "stream",
     "text": [
      "******shihao******\n"
     ]
    }
   ],
   "source": [
    "print(np.char.center('shihao',18,'*'))"
   ]
  },
  {
   "cell_type": "markdown",
   "metadata": {
    "Collapsed": "false"
   },
   "source": [
    "## capitalize/title/lower/upper"
   ]
  },
  {
   "cell_type": "code",
   "execution_count": 64,
   "metadata": {
    "Collapsed": "false",
    "tags": [
     "10"
    ]
   },
   "outputs": [
    {
     "data": {
      "text/plain": [
       "(array([['sHi', 'iuX'],\n",
       "        ['Pua', 't3IP']], dtype='<U4'), (2, 2))"
      ]
     },
     "execution_count": 64,
     "metadata": {},
     "output_type": "execute_result"
    }
   ],
   "source": [
    "c=np.array([['sHi','iuX'],['Pua','t3IP']])\n",
    "c,c.shape"
   ]
  },
  {
   "cell_type": "code",
   "execution_count": 65,
   "metadata": {
    "Collapsed": "false",
    "tags": [
     "10"
    ]
   },
   "outputs": [
    {
     "data": {
      "text/plain": [
       "array([['Shi', 'Iux'],\n",
       "       ['Pua', 'T3ip']], dtype='<U4')"
      ]
     },
     "execution_count": 65,
     "metadata": {},
     "output_type": "execute_result"
    }
   ],
   "source": [
    "np.char.capitalize(c)"
   ]
  },
  {
   "cell_type": "code",
   "execution_count": 66,
   "metadata": {
    "Collapsed": "false",
    "tags": [
     "10"
    ]
   },
   "outputs": [
    {
     "data": {
      "text/plain": [
       "array([['Shi', 'Iux'],\n",
       "       ['Pua', 'T3Ip']], dtype='<U4')"
      ]
     },
     "execution_count": 66,
     "metadata": {},
     "output_type": "execute_result"
    }
   ],
   "source": [
    "np.char.title(c)\n",
    "# 注意第四项里，title默认数字之后的字母为新单词"
   ]
  },
  {
   "cell_type": "code",
   "execution_count": 68,
   "metadata": {
    "Collapsed": "false",
    "tags": [
     "10"
    ]
   },
   "outputs": [
    {
     "data": {
      "text/plain": [
       "array([['shi', 'iux'],\n",
       "       ['pua', 't3ip']], dtype='<U4')"
      ]
     },
     "execution_count": 68,
     "metadata": {},
     "output_type": "execute_result"
    }
   ],
   "source": [
    "from numpy import char as npc\n",
    "npc.lower(c)"
   ]
  },
  {
   "cell_type": "code",
   "execution_count": 69,
   "metadata": {
    "Collapsed": "false",
    "tags": [
     "10"
    ]
   },
   "outputs": [
    {
     "data": {
      "text/plain": [
       "array([['SHI', 'IUX'],\n",
       "       ['PUA', 'T3IP']], dtype='<U4')"
      ]
     },
     "execution_count": 69,
     "metadata": {},
     "output_type": "execute_result"
    }
   ],
   "source": [
    "npc.upper(c)"
   ]
  },
  {
   "cell_type": "markdown",
   "metadata": {
    "Collapsed": "false"
   },
   "source": [
    "## split/splitlines"
   ]
  },
  {
   "cell_type": "markdown",
   "metadata": {
    "Collapsed": "false"
   },
   "source": [
    "numpy.char.split()通过参数`sep`指定分隔符对字符串进行分割，并返回**Array of list objects**。默认情况下，分隔符为空格。"
   ]
  },
  {
   "cell_type": "code",
   "execution_count": 88,
   "metadata": {
    "Collapsed": "false",
    "tags": [
     "10"
    ]
   },
   "outputs": [
    {
     "name": "stdout",
     "output_type": "stream",
     "text": [
      "['I', 'love', 'China,and,', 'Hongkong'] <class 'numpy.ndarray'>\n"
     ]
    },
    {
     "data": {
      "text/plain": [
       "\"array(list(['I', 'love', 'China,and,', 'Hongkong']), dtype=object)\""
      ]
     },
     "execution_count": 88,
     "metadata": {},
     "output_type": "execute_result"
    }
   ],
   "source": [
    "temp=npc.split('I love China,and, Hongkong')\n",
    "print(temp,temp.__class__)\n",
    "repr(temp)\n",
    "# 注意repr/print间的区别,print实际上是调用了该类中的__str__方法，并非对象本身"
   ]
  },
  {
   "cell_type": "code",
   "execution_count": 80,
   "metadata": {
    "Collapsed": "false",
    "tags": [
     "10"
    ]
   },
   "outputs": [
    {
     "data": {
      "text/plain": [
       "array(list(['I love China', 'and', ' Hongkong']), dtype=object)"
      ]
     },
     "execution_count": 80,
     "metadata": {},
     "output_type": "execute_result"
    }
   ],
   "source": [
    "npc.split('I love China,and, Hongkong',sep=',')"
   ]
  },
  {
   "cell_type": "code",
   "execution_count": 95,
   "metadata": {
    "Collapsed": "false",
    "tags": [
     "10"
    ]
   },
   "outputs": [
    {
     "data": {
      "text/plain": [
       "array(list(['i', 'like runoob?']), dtype=object)"
      ]
     },
     "execution_count": 95,
     "metadata": {},
     "output_type": "execute_result"
    }
   ],
   "source": [
    "npc.splitlines('i\\nlike runoob?')"
   ]
  },
  {
   "cell_type": "markdown",
   "metadata": {
    "Collapsed": "false"
   },
   "source": [
    "## strip/join/replace"
   ]
  },
  {
   "cell_type": "code",
   "execution_count": 93,
   "metadata": {
    "Collapsed": "false",
    "tags": [
     "10"
    ]
   },
   "outputs": [
    {
     "data": {
      "text/plain": [
       "array(['runoob', 'dmin', 'jav'], dtype='<U8')"
      ]
     },
     "execution_count": 93,
     "metadata": {},
     "output_type": "execute_result"
    }
   ],
   "source": [
    "npc.strip(['arunooba','admin','java'],'a')"
   ]
  },
  {
   "cell_type": "code",
   "execution_count": 94,
   "metadata": {
    "Collapsed": "false",
    "tags": [
     "10"
    ]
   },
   "outputs": [
    {
     "data": {
      "text/plain": [
       "array(['r:u:n:o:o:b', 'g-o-o-g-l-e'], dtype='<U11')"
      ]
     },
     "execution_count": 94,
     "metadata": {},
     "output_type": "execute_result"
    }
   ],
   "source": [
    "npc.join([':','-'],['runoob','google'])"
   ]
  },
  {
   "cell_type": "code",
   "execution_count": 103,
   "metadata": {
    "Collapsed": "false",
    "tags": [
     "10"
    ]
   },
   "outputs": [
    {
     "data": {
      "text/plain": [
       "'runoob:google'"
      ]
     },
     "execution_count": 103,
     "metadata": {},
     "output_type": "execute_result"
    }
   ],
   "source": [
    "':'.join(['runoob','google'])"
   ]
  },
  {
   "cell_type": "code",
   "execution_count": 96,
   "metadata": {
    "Collapsed": "false",
    "tags": [
     "10"
    ]
   },
   "outputs": [
    {
     "data": {
      "text/plain": [
       "array('i like runccb', dtype='<U13')"
      ]
     },
     "execution_count": 96,
     "metadata": {},
     "output_type": "execute_result"
    }
   ],
   "source": [
    "npc.replace ('i like runoob', 'oo', 'cc')"
   ]
  },
  {
   "cell_type": "code",
   "execution_count": 101,
   "metadata": {
    "Collapsed": "false",
    "tags": [
     "10"
    ]
   },
   "outputs": [
    {
     "data": {
      "text/plain": [
       "'i like runccb'"
      ]
     },
     "execution_count": 101,
     "metadata": {},
     "output_type": "execute_result"
    }
   ],
   "source": [
    "'i like runoob'.replace('oo', 'cc')"
   ]
  },
  {
   "cell_type": "markdown",
   "metadata": {
    "Collapsed": "false"
   },
   "source": [
    "## encode/decode"
   ]
  },
  {
   "cell_type": "code",
   "execution_count": 105,
   "metadata": {
    "Collapsed": "false",
    "tags": [
     "10"
    ]
   },
   "outputs": [
    {
     "data": {
      "text/plain": [
       "b'\\xca\\xaf\\xea\\xbb'"
      ]
     },
     "execution_count": 105,
     "metadata": {},
     "output_type": "execute_result"
    }
   ],
   "source": [
    "temp='石昊'.encode('GBK','strict')\n",
    "temp"
   ]
  },
  {
   "cell_type": "code",
   "execution_count": 106,
   "metadata": {
    "Collapsed": "false",
    "tags": [
     "10"
    ]
   },
   "outputs": [
    {
     "data": {
      "text/plain": [
       "'石昊'"
      ]
     },
     "execution_count": 106,
     "metadata": {},
     "output_type": "execute_result"
    }
   ],
   "source": [
    "temp.decode('GBK')"
   ]
  },
  {
   "cell_type": "code",
   "execution_count": 109,
   "metadata": {
    "Collapsed": "false",
    "tags": [
     "10"
    ]
   },
   "outputs": [
    {
     "data": {
      "text/plain": [
       "array([b'\\xca\\xaf\\xea\\xbb', b'\\xd6\\xd0\\xb9\\xfa'], dtype='|S4')"
      ]
     },
     "execution_count": 109,
     "metadata": {},
     "output_type": "execute_result"
    }
   ],
   "source": [
    "a=np.array(['石昊','中国'])\n",
    "a_encode=npc.encode(a,'GBK')\n",
    "a_encode"
   ]
  },
  {
   "cell_type": "code",
   "execution_count": 110,
   "metadata": {
    "Collapsed": "false",
    "tags": [
     "10"
    ]
   },
   "outputs": [
    {
     "data": {
      "text/plain": [
       "array(['石昊', '中国'], dtype='<U2')"
      ]
     },
     "execution_count": 110,
     "metadata": {},
     "output_type": "execute_result"
    }
   ],
   "source": [
    "npc.decode(a_encode,'GBK')"
   ]
  },
  {
   "cell_type": "markdown",
   "metadata": {
    "Collapsed": "false"
   },
   "source": [
    "----"
   ]
  },
  {
   "cell_type": "markdown",
   "metadata": {
    "Collapsed": "false"
   },
   "source": [
    "# 数学函数 "
   ]
  },
  {
   "cell_type": "markdown",
   "metadata": {
    "Collapsed": "false"
   },
   "source": [
    "NumPy 包含大量的各种数学运算的函数，包括三角函数，算术运算的函数，复数处理函数等，下面简单介绍一下"
   ]
  },
  {
   "cell_type": "markdown",
   "metadata": {
    "Collapsed": "false"
   },
   "source": [
    "## 三角函数 "
   ]
  },
  {
   "cell_type": "code",
   "execution_count": 124,
   "metadata": {
    "Collapsed": "false",
    "tags": [
     "11"
    ]
   },
   "outputs": [
    {
     "data": {
      "text/plain": [
       "(3.141592653589793, 180.0, 3.141592653589793, 180.0)"
      ]
     },
     "execution_count": 124,
     "metadata": {},
     "output_type": "execute_result"
    }
   ],
   "source": [
    "import numpy as np\n",
    "# 首先介绍几个角度弧度转化公式\n",
    "np.pi,np.degrees(np.pi),np.deg2rad(180),np.rad2deg(np.pi)"
   ]
  },
  {
   "cell_type": "code",
   "execution_count": 125,
   "metadata": {
    "Collapsed": "false",
    "tags": [
     "11"
    ]
   },
   "outputs": [
    {
     "data": {
      "text/plain": [
       "array([0.        , 0.5       , 0.70710678, 0.8660254 , 1.        ])"
      ]
     },
     "execution_count": 125,
     "metadata": {},
     "output_type": "execute_result"
    }
   ],
   "source": [
    "a = np.array([0,30,45,60,90])\n",
    "a_sin=np.sin(np.deg2rad(a)) #弧度转角度\n",
    "a_sin"
   ]
  },
  {
   "cell_type": "code",
   "execution_count": 126,
   "metadata": {
    "Collapsed": "false",
    "tags": [
     "11"
    ]
   },
   "outputs": [
    {
     "data": {
      "text/plain": [
       "(array([0.        , 0.52359878, 0.78539816, 1.04719755, 1.57079633]),\n",
       " array([ 0., 30., 45., 60., 90.]))"
      ]
     },
     "execution_count": 126,
     "metadata": {},
     "output_type": "execute_result"
    }
   ],
   "source": [
    "b=np.arcsin(a_sin)\n",
    "b,np.rad2deg(b)"
   ]
  },
  {
   "cell_type": "markdown",
   "metadata": {
    "Collapsed": "false"
   },
   "source": [
    "## 舍入函数 "
   ]
  },
  {
   "cell_type": "markdown",
   "metadata": {
    "Collapsed": "false"
   },
   "source": [
    "### numpy.around "
   ]
  },
  {
   "cell_type": "markdown",
   "metadata": {
    "Collapsed": "false",
    "tags": [
     "11"
    ]
   },
   "source": [
    "返回指定数字的四舍五入值：\n",
    "```Python\n",
    "numpy.around(a,decimals)\n",
    "```\n",
    "`decimals`: 舍入的小数位数。 默认值为0。 如果为负，整数将四舍五入到小数点左侧的位置"
   ]
  },
  {
   "cell_type": "code",
   "execution_count": 131,
   "metadata": {
    "Collapsed": "false",
    "tags": [
     "11"
    ]
   },
   "outputs": [
    {
     "data": {
      "text/plain": [
       "(26, 25.53, 30.0)"
      ]
     },
     "execution_count": 131,
     "metadata": {},
     "output_type": "execute_result"
    }
   ],
   "source": [
    "round(25.532),round(25.532,ndigits=2),round(25.532,-1),"
   ]
  },
  {
   "cell_type": "code",
   "execution_count": 128,
   "metadata": {
    "Collapsed": "false",
    "tags": [
     "11"
    ]
   },
   "outputs": [
    {
     "data": {
      "text/plain": [
       "(array([  1.,   6., 123.,   1.,  26.]),\n",
       " array([  1.  ,   5.55, 123.  ,   0.57,  25.53]),\n",
       " array([  0.,  10., 120.,   0.,  30.]))"
      ]
     },
     "execution_count": 128,
     "metadata": {},
     "output_type": "execute_result"
    }
   ],
   "source": [
    "a = np.array([1.0,5.55,  123,  0.567,  25.532]) \n",
    "np.around(a),np.around(a,decimals=2),np.around(a,-1)"
   ]
  },
  {
   "cell_type": "markdown",
   "metadata": {
    "Collapsed": "false"
   },
   "source": [
    "### numpy.floor/ceil"
   ]
  },
  {
   "cell_type": "markdown",
   "metadata": {
    "Collapsed": "false"
   },
   "source": [
    "反别返回数字的下舍整数和上如整数，例如2.3对应2和3，相反，-2.3对应-3和-2"
   ]
  },
  {
   "cell_type": "code",
   "execution_count": 134,
   "metadata": {
    "Collapsed": "false",
    "tags": [
     "11"
    ]
   },
   "outputs": [
    {
     "data": {
      "text/plain": [
       "(-2, -1)"
      ]
     },
     "execution_count": 134,
     "metadata": {},
     "output_type": "execute_result"
    }
   ],
   "source": [
    "import math\n",
    "math.floor(-1.7),math.ceil(-1.7)"
   ]
  },
  {
   "cell_type": "code",
   "execution_count": 133,
   "metadata": {
    "Collapsed": "false",
    "tags": [
     "11"
    ]
   },
   "outputs": [
    {
     "data": {
      "text/plain": [
       "(array([-2.,  1., -1.,  0., 10.]), array([-1.,  2., -0.,  1., 10.]))"
      ]
     },
     "execution_count": 133,
     "metadata": {},
     "output_type": "execute_result"
    }
   ],
   "source": [
    "a = np.array([-1.7,  1.5,  -0.2,  0.6,  10])\n",
    "np.floor(a),np.ceil(a)"
   ]
  },
  {
   "cell_type": "markdown",
   "metadata": {
    "Collapsed": "false"
   },
   "source": [
    "## 算术函数 "
   ]
  },
  {
   "cell_type": "markdown",
   "metadata": {
    "Collapsed": "false"
   },
   "source": [
    "包含简单的加减乘除: add()，subtract()，multiply() 和 divide()，当然，他们可以以简单`+` `-` `*` `/`符号替代"
   ]
  },
  {
   "cell_type": "code",
   "execution_count": 147,
   "metadata": {
    "Collapsed": "false",
    "tags": [
     "11"
    ]
   },
   "outputs": [
    {
     "name": "stdout",
     "output_type": "stream",
     "text": [
      "[[10. 11. 12.]\n",
      " [13. 14. 15.]]\n",
      "***************\n",
      "[[10. 11. 12.]\n",
      " [13. 14. 15.]]\n"
     ]
    }
   ],
   "source": [
    "a = np.arange(6, dtype = np.float_).reshape(2,3) \n",
    "b = np.array([10,10,10])\n",
    "print(np.add(a,b),a+b,sep='\\n'+'*'*15+'\\n')"
   ]
  },
  {
   "cell_type": "code",
   "execution_count": 148,
   "metadata": {
    "Collapsed": "false",
    "tags": [
     "11"
    ]
   },
   "outputs": [
    {
     "name": "stdout",
     "output_type": "stream",
     "text": [
      "[[-10.  -9.  -8.]\n",
      " [ -7.  -6.  -5.]]\n",
      "***************\n",
      "[[-10.  -9.  -8.]\n",
      " [ -7.  -6.  -5.]]\n"
     ]
    }
   ],
   "source": [
    "print(np.subtract(a,b),a-b,sep='\\n'+'*'*15+'\\n')"
   ]
  },
  {
   "cell_type": "code",
   "execution_count": 149,
   "metadata": {
    "Collapsed": "false",
    "tags": [
     "11"
    ]
   },
   "outputs": [
    {
     "name": "stdout",
     "output_type": "stream",
     "text": [
      "[[ 0. 10. 20.]\n",
      " [30. 40. 50.]]\n",
      "***************\n",
      "[[ 0. 10. 20.]\n",
      " [30. 40. 50.]]\n"
     ]
    }
   ],
   "source": [
    "print(np.multiply(a,b),a*b,sep='\\n'+'*'*15+'\\n')"
   ]
  },
  {
   "cell_type": "code",
   "execution_count": 152,
   "metadata": {
    "Collapsed": "false",
    "tags": [
     "11"
    ]
   },
   "outputs": [
    {
     "name": "stdout",
     "output_type": "stream",
     "text": [
      "[[0.  0.1 0.2]\n",
      " [0.3 0.4 0.5]]\n",
      "***************\n",
      "[[0.  0.1 0.2]\n",
      " [0.3 0.4 0.5]]\n"
     ]
    }
   ],
   "source": [
    "print(np.divide(a,b),a/b,sep='\\n'+'*'*15+'\\n')"
   ]
  },
  {
   "cell_type": "markdown",
   "metadata": {
    "Collapsed": "false"
   },
   "source": [
    "此外 Numpy 也包含了其他重要的算术函数，如`reciprocal` `power` `mod`或`remainder`,同样的，它们可以被`1/` `**` `%`代替"
   ]
  },
  {
   "cell_type": "code",
   "execution_count": 153,
   "metadata": {
    "Collapsed": "false",
    "tags": [
     "11"
    ]
   },
   "outputs": [
    {
     "data": {
      "text/plain": [
       "(array([4.       , 0.7518797, 1.       , 0.01     ]),\n",
       " array([4.       , 0.7518797, 1.       , 0.01     ]))"
      ]
     },
     "execution_count": 153,
     "metadata": {},
     "output_type": "execute_result"
    }
   ],
   "source": [
    "a = np.array([0.25,  1.33,  1,  100])  \n",
    "np.reciprocal(a), 1/a# 求倒数,相当于除1"
   ]
  },
  {
   "cell_type": "code",
   "execution_count": 155,
   "metadata": {
    "Collapsed": "false",
    "tags": [
     "11"
    ]
   },
   "outputs": [
    {
     "data": {
      "text/plain": [
       "(array([        10,      10000, 1000000000], dtype=int32),\n",
       " array([        10,      10000, 1000000000], dtype=int32))"
      ]
     },
     "execution_count": 155,
     "metadata": {},
     "output_type": "execute_result"
    }
   ],
   "source": [
    "a = np.array([10,100,1000]) \n",
    "b = np.array([1,2,3])  \n",
    "np.power(a,b),a**b"
   ]
  },
  {
   "cell_type": "code",
   "execution_count": 157,
   "metadata": {
    "Collapsed": "false",
    "tags": [
     "11"
    ]
   },
   "outputs": [
    {
     "data": {
      "text/plain": [
       "(array([1, 0, 2], dtype=int32),\n",
       " array([1, 0, 2], dtype=int32),\n",
       " array([1, 0, 2], dtype=int32))"
      ]
     },
     "execution_count": 157,
     "metadata": {},
     "output_type": "execute_result"
    }
   ],
   "source": [
    "a = np.array([10,20,30]) \n",
    "b = np.array([3,5,7])\n",
    "np.mod(a,b),np.remainder(a,b),a%b"
   ]
  },
  {
   "cell_type": "markdown",
   "metadata": {
    "Collapsed": "false"
   },
   "source": [
    "----"
   ]
  },
  {
   "cell_type": "markdown",
   "metadata": {
    "Collapsed": "false"
   },
   "source": [
    "# 统计函数 "
   ]
  },
  {
   "cell_type": "markdown",
   "metadata": {
    "Collapsed": "false"
   },
   "source": [
    "## numpy.amin/amax/ptp"
   ]
  },
  {
   "cell_type": "markdown",
   "metadata": {
    "Collapsed": "false"
   },
   "source": [
    "用于计算数组中的元素**沿指定轴**的最小值/最大值/最大差值，不指定轴则为所有元素的最值。此外，这类函数通常有一个**`keepdims`**参数来保证维度形状满足逻辑而不展平"
   ]
  },
  {
   "cell_type": "code",
   "execution_count": 167,
   "metadata": {
    "Collapsed": "false",
    "tags": [
     "12"
    ]
   },
   "outputs": [
    {
     "data": {
      "text/plain": [
       "array([[3, 7, 5],\n",
       "       [8, 4, 3],\n",
       "       [2, 4, 9]])"
      ]
     },
     "execution_count": 167,
     "metadata": {},
     "output_type": "execute_result"
    }
   ],
   "source": [
    "import numpy as np \n",
    "a = np.array([[3,7,5],[8,4,3],[2,4,9]])  \n",
    "a"
   ]
  },
  {
   "cell_type": "code",
   "execution_count": 171,
   "metadata": {
    "Collapsed": "false",
    "tags": [
     "12"
    ]
   },
   "outputs": [
    {
     "data": {
      "text/plain": [
       "(array([2, 4, 3]), array([7, 8, 9]), 2, 9)"
      ]
     },
     "execution_count": 171,
     "metadata": {},
     "output_type": "execute_result"
    }
   ],
   "source": [
    "np.amin(a,0),np.amax(a,1),np.amin(a),np.amax(a)"
   ]
  },
  {
   "cell_type": "code",
   "execution_count": 172,
   "metadata": {
    "Collapsed": "false",
    "tags": [
     "12"
    ]
   },
   "outputs": [
    {
     "data": {
      "text/plain": [
       "(array([6, 3, 6]), array([4, 5, 7]), 7, array([[4],\n",
       "        [5],\n",
       "        [7]]))"
      ]
     },
     "execution_count": 172,
     "metadata": {},
     "output_type": "execute_result"
    }
   ],
   "source": [
    "np.ptp(a,0),np.ptp(a,1),np.ptp(a),np.ptp(a,1,keepdims=True)"
   ]
  },
  {
   "cell_type": "markdown",
   "metadata": {
    "Collapsed": "false"
   },
   "source": [
    "## numpy.percentile/median"
   ]
  },
  {
   "cell_type": "markdown",
   "metadata": {
    "Collapsed": "false"
   },
   "source": [
    "百分位数是统计中使用的度量，表示小于这个值的观察值的百分比，结构如下：\n",
    "```Python\n",
    "numpy.percentile(arr, q, axis)\n",
    "```\n",
    "`q`：要计算的百分位数，在 0 ~ 100 之间"
   ]
  },
  {
   "cell_type": "markdown",
   "metadata": {
    "Collapsed": "false"
   },
   "source": [
    "> **什么时百分位数**\n",
    "> \n",
    ">第 q 个百分位数是这样一个值，它使得至少有 q% 的数据项小于或等于这个值，且至少有 (100-q)% 的数据项大于或等于这个值\n",
    ">\n",
    ">例如**中位数**，就是第50个百分位数"
   ]
  },
  {
   "cell_type": "code",
   "execution_count": 174,
   "metadata": {
    "Collapsed": "false",
    "tags": [
     "12"
    ]
   },
   "outputs": [
    {
     "data": {
      "text/plain": [
       "(4.0, array([3., 4., 5.]), array([5., 4., 4.]), array([[5.],\n",
       "        [4.],\n",
       "        [4.]]))"
      ]
     },
     "execution_count": 174,
     "metadata": {},
     "output_type": "execute_result"
    }
   ],
   "source": [
    "np.percentile(a,50),np.percentile(a,50,0),np.percentile(a,50,1),np.percentile(a,50,1,keepdims=True)"
   ]
  },
  {
   "cell_type": "markdown",
   "metadata": {
    "Collapsed": "false"
   },
   "source": [
    "`numpy.median`就是直接求中位数"
   ]
  },
  {
   "cell_type": "code",
   "execution_count": 177,
   "metadata": {
    "Collapsed": "false",
    "tags": [
     "12"
    ]
   },
   "outputs": [
    {
     "data": {
      "text/plain": [
       "(4.0, array([3., 4., 5.]), array([5., 4., 4.]))"
      ]
     },
     "execution_count": 177,
     "metadata": {},
     "output_type": "execute_result"
    }
   ],
   "source": [
    "np.median(a),np.median(a,0),np.median(a,1)"
   ]
  },
  {
   "cell_type": "markdown",
   "metadata": {
    "Collapsed": "false"
   },
   "source": [
    "## numpy.mean/average"
   ]
  },
  {
   "cell_type": "markdown",
   "metadata": {
    "Collapsed": "false"
   },
   "source": [
    "`numpy.mean()`函数返回数组中元素的算术平均值。 如果提供了轴，则沿其计算"
   ]
  },
  {
   "cell_type": "code",
   "execution_count": 178,
   "metadata": {
    "Collapsed": "false",
    "tags": [
     "12"
    ]
   },
   "outputs": [
    {
     "data": {
      "text/plain": [
       "(5.0, array([4.33333333, 5.        , 5.66666667]), array([5., 5., 5.]))"
      ]
     },
     "execution_count": 178,
     "metadata": {},
     "output_type": "execute_result"
    }
   ],
   "source": [
    "np.mean(a),np.mean(a,0),np.mean(a,1)"
   ]
  },
  {
   "cell_type": "markdown",
   "metadata": {
    "Collapsed": "false"
   },
   "source": [
    "`numpy.average()`函数根据在另一个数组中给出的各自的权重计算数组中元素的加权平均值。若不给出权重数组，则计算算数平均值。此外，该函数可以接受一个轴参数。 如果没有指定轴，则数组会被展开。"
   ]
  },
  {
   "cell_type": "code",
   "execution_count": 180,
   "metadata": {
    "Collapsed": "false",
    "tags": [
     "12"
    ]
   },
   "outputs": [
    {
     "data": {
      "text/plain": [
       "2.0"
      ]
     },
     "execution_count": 180,
     "metadata": {},
     "output_type": "execute_result"
    }
   ],
   "source": [
    "a = np.array([1,2,3,4]) \n",
    "wts = np.array([4,3,2,1]) \n",
    "np.average(a,weights = wts)"
   ]
  },
  {
   "cell_type": "code",
   "execution_count": 182,
   "metadata": {
    "Collapsed": "false",
    "tags": [
     "12"
    ]
   },
   "outputs": [
    {
     "data": {
      "text/plain": [
       "(2.0, 10.0)"
      ]
     },
     "execution_count": 182,
     "metadata": {},
     "output_type": "execute_result"
    }
   ],
   "source": [
    "np.average([1,2,3,4],weights=[4,3,2,1],returned=True)\n",
    "# returned参数为True则返回权重和"
   ]
  },
  {
   "cell_type": "code",
   "execution_count": 183,
   "metadata": {
    "Collapsed": "false",
    "tags": [
     "12"
    ]
   },
   "outputs": [
    {
     "data": {
      "text/plain": [
       "(array([0.625, 2.625, 4.625]), array([8., 8., 8.]))"
      ]
     },
     "execution_count": 183,
     "metadata": {},
     "output_type": "execute_result"
    }
   ],
   "source": [
    "a = np.arange(6).reshape(3,2)  \n",
    "wt = np.array([3,5]) \n",
    "np.average(a,axis=1,weights=wt,returned=True)"
   ]
  },
  {
   "cell_type": "markdown",
   "metadata": {
    "Collapsed": "false"
   },
   "source": [
    "## numpy.std/var"
   ]
  },
  {
   "cell_type": "code",
   "execution_count": 186,
   "metadata": {
    "Collapsed": "false",
    "tags": [
     "12"
    ]
   },
   "outputs": [
    {
     "data": {
      "text/plain": [
       "(1.118033988749895, 1.118033988749895)"
      ]
     },
     "execution_count": 186,
     "metadata": {},
     "output_type": "execute_result"
    }
   ],
   "source": [
    "def my_std(x):\n",
    "    return math.sqrt(np.mean((x-np.mean(x))**2))\n",
    "np.std([1,2,3,4]),my_std([1,2,4,3])"
   ]
  },
  {
   "cell_type": "code",
   "execution_count": 187,
   "metadata": {
    "Collapsed": "false",
    "tags": [
     "12"
    ]
   },
   "outputs": [
    {
     "data": {
      "text/plain": [
       "(1.25, 1.25)"
      ]
     },
     "execution_count": 187,
     "metadata": {},
     "output_type": "execute_result"
    }
   ],
   "source": [
    "def my_var(x):\n",
    "    return np.mean((x-np.mean(x))**2)\n",
    "np.var([1,2,3,4]),my_var([1,2,3,4])"
   ]
  },
  {
   "cell_type": "markdown",
   "metadata": {
    "Collapsed": "false"
   },
   "source": [
    "----"
   ]
  }
 ],
 "metadata": {
  "kernelspec": {
   "display_name": "Python 3",
   "language": "python",
   "name": "python3"
  },
  "language_info": {
   "codemirror_mode": {
    "name": "ipython",
    "version": 3
   },
   "file_extension": ".py",
   "mimetype": "text/x-python",
   "name": "python",
   "nbconvert_exporter": "python",
   "pygments_lexer": "ipython3",
   "version": "3.7.3"
  },
  "toc-autonumbering": true,
  "toc-showcode": false,
  "toc-showmarkdowntxt": false,
  "toc-showtags": false,
  "varInspector": {
   "cols": {
    "lenName": 16,
    "lenType": 16,
    "lenVar": 40
   },
   "kernels_config": {
    "python": {
     "delete_cmd_postfix": "",
     "delete_cmd_prefix": "del ",
     "library": "var_list.py",
     "varRefreshCmd": "print(var_dic_list())"
    },
    "r": {
     "delete_cmd_postfix": ") ",
     "delete_cmd_prefix": "rm(",
     "library": "var_list.r",
     "varRefreshCmd": "cat(var_dic_list()) "
    }
   },
   "types_to_exclude": [
    "module",
    "function",
    "builtin_function_or_method",
    "instance",
    "_Feature"
   ],
   "window_display": false
  }
 },
 "nbformat": 4,
 "nbformat_minor": 4
}
