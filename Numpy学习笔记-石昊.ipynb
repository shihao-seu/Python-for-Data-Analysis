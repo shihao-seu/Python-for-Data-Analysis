{
 "cells": [
  {
   "cell_type": "markdown",
   "metadata": {
    "Collapsed": "false"
   },
   "source": [
    "<img src=\"https://numpy.org/_static/numpy_logo.png\" width=50%>"
   ]
  },
  {
   "cell_type": "markdown",
   "metadata": {
    "Collapsed": "false",
    "toc-hr-collapsed": false
   },
   "source": [
    "# Ndarray对象"
   ]
  },
  {
   "cell_type": "markdown",
   "metadata": {
    "Collapsed": "false"
   },
   "source": [
    "NumPy最重要的⼀个特点就是其**N维数组对象（即ndarray）**，该对象是⼀个快速⽽灵活的⼤数据（同种类型）集容器"
   ]
  },
  {
   "cell_type": "markdown",
   "metadata": {
    "Collapsed": "false",
    "toc-hr-collapsed": true
   },
   "source": [
    "## ndarray基本属性"
   ]
  },
  {
   "cell_type": "markdown",
   "metadata": {
    "Collapsed": "false"
   },
   "source": [
    "比如以下数组a（实际上是一个**嵌套序列（nested sequence）**，但假设它是NumPy构造的array），我们要找到最大数10，用下标表示就是`a[1][1][0]`；于是我们说这是一个三维数组，有三个**轴(axes)**，三轴长度依次为：2，2，4"
   ]
  },
  {
   "cell_type": "markdown",
   "metadata": {
    "Collapsed": "false"
   },
   "source": [
    "NumPy 数组的维数称为**秩（rank）**，一维数组的秩为 1，二维数组的秩为 2，以此类推"
   ]
  },
  {
   "cell_type": "code",
   "execution_count": 22,
   "metadata": {
    "Collapsed": "false"
   },
   "outputs": [],
   "source": [
    "a=[[[1,2,3,4],[7,8,9,2]],[[4,5,6,7],[10,1,2,3]]]"
   ]
  },
  {
   "cell_type": "code",
   "execution_count": 23,
   "metadata": {
    "Collapsed": "false",
    "slideshow": {
     "slide_type": "slide"
    },
    "tags": [
     "1.1"
    ]
   },
   "outputs": [
    {
     "data": {
      "text/plain": [
       "10"
      ]
     },
     "execution_count": 23,
     "metadata": {},
     "output_type": "execute_result"
    }
   ],
   "source": [
    "a[1][1][0]"
   ]
  },
  {
   "cell_type": "markdown",
   "metadata": {
    "Collapsed": "false"
   },
   "source": [
    "要构造一个ndarray类对象，需要了解它最基本的属性:"
   ]
  },
  {
   "cell_type": "markdown",
   "metadata": {
    "Collapsed": "false"
   },
   "source": [
    "|Attribute|Description|\n",
    "|:----:|:--------------:|\n",
    "|ndim|轴数，即维度，a.ndim=3|\n",
    "|shape|一个表示数组形状的元组，其元素为各轴长度，a.shape=(2,2,4)\n",
    "|size|表述数组内元素总个数，a.size=2*2*4=16|\n",
    "|dtype|元素类型,包括一些特有类型，如numpy.int32\\int64\\float64|\n",
    "|itemsize|单个元素的字节，如int32为4字节|\n",
    "|data|储存实际元素的缓冲器(buffer)，非常用属性|\n",
    "|real|ndarray实部|\n",
    "|imag|ndarray虚部|"
   ]
  },
  {
   "cell_type": "code",
   "execution_count": 24,
   "metadata": {
    "Collapsed": "false",
    "tags": [
     "1.1"
    ]
   },
   "outputs": [
    {
     "name": "stdout",
     "output_type": "stream",
     "text": [
      "[[[ 1  2  3  4]\n",
      "  [ 7  8  9  2]]\n",
      "\n",
      " [[ 4  5  6  7]\n",
      "  [10  1  2  3]]]\n",
      "<class 'numpy.ndarray'>\n",
      "[[[ 1  2  3  4]\n",
      "  [ 7  8  9  2]]\n",
      "\n",
      " [[ 4  5  6  7]\n",
      "  [10  1  2  3]]]\n",
      "[[[0 0 0 0]\n",
      "  [0 0 0 0]]\n",
      "\n",
      " [[0 0 0 0]\n",
      "  [0 0 0 0]]]\n"
     ]
    }
   ],
   "source": [
    "import numpy as np\n",
    "b=np.array(a)# 有嵌套序列a创建一个ndarray b\n",
    "# 下面看看b的各个属性\n",
    "print(b,type(b),b.real,b.imag,sep='\\n')"
   ]
  },
  {
   "cell_type": "code",
   "execution_count": 25,
   "metadata": {
    "Collapsed": "false",
    "tags": [
     "1.1"
    ]
   },
   "outputs": [
    {
     "name": "stdout",
     "output_type": "stream",
     "text": [
      "3\n",
      "(2, 2, 4)\n",
      "16\n",
      "int32\n",
      "4\n",
      "<memory at 0x000001CB46B6CE58>\n"
     ]
    }
   ],
   "source": [
    "print(b.ndim,b.shape,b.size,b.dtype,b.itemsize,b.data,sep='\\n')"
   ]
  },
  {
   "cell_type": "markdown",
   "metadata": {
    "Collapsed": "false",
    "toc-hr-collapsed": true
   },
   "source": [
    "## **array**函数"
   ]
  },
  {
   "cell_type": "markdown",
   "metadata": {
    "Collapsed": "false"
   },
   "source": [
    "创建一个 ndarray 只需调用 NumPy 的 array 函数即可，语法如下："
   ]
  },
  {
   "cell_type": "markdown",
   "metadata": {
    "Collapsed": "false"
   },
   "source": [
    "```Python\n",
    "numpy.array(object, dtype = None, copy = True, order = None, subok = False, ndmin = 0)\n",
    "```"
   ]
  },
  {
   "cell_type": "markdown",
   "metadata": {
    "Collapsed": "false"
   },
   "source": [
    "参数说明如下："
   ]
  },
  {
   "cell_type": "markdown",
   "metadata": {
    "Collapsed": "false"
   },
   "source": [
    "|argument|Description|\n",
    "|:----:|:--------------:|\n",
    "|object|数组或嵌套的序列|\n",
    "|dtype|同属性，可选|\n",
    "|copy|对象是否需要复制，可选|\n",
    "|order|创建数组的样式，C为行方向，F为列方向，A为任意方向（默认）|\n",
    "|subok|默认返回一个与基类类型一致的数组|\n",
    "|ndmin|指定生成数组的最小维度|"
   ]
  },
  {
   "cell_type": "code",
   "execution_count": 66,
   "metadata": {
    "Collapsed": "false"
   },
   "outputs": [
    {
     "name": "stdout",
     "output_type": "stream",
     "text": [
      "[[1 2 3 4 5]]\n",
      "[1.+0.j 2.+0.j 3.+0.j]\n"
     ]
    }
   ],
   "source": [
    "import numpy as np \n",
    "a = np.array([1,2,3,4,5], ndmin =  2) \n",
    "b = np.array([1,2,3], dtype = complex)\n",
    "print(a,b,sep='\\n')"
   ]
  },
  {
   "cell_type": "markdown",
   "metadata": {
    "Collapsed": "false"
   },
   "source": [
    "此外，`array`还有一个“简易版”`asarray`，其参数减少到3个：\n",
    "```Python\n",
    "np.asarray(a, dtype=None, order=None)\n",
    "```"
   ]
  },
  {
   "cell_type": "code",
   "execution_count": 67,
   "metadata": {
    "Collapsed": "false",
    "tags": [
     "1.2"
    ]
   },
   "outputs": [
    {
     "name": "stdout",
     "output_type": "stream",
     "text": [
      "[1 2 3 4 5]\n",
      "[1.+0.j 2.+0.j 3.+0.j]\n"
     ]
    }
   ],
   "source": [
    "a1 = np.asarray([1,2,3,4,5]) \n",
    "b1 = np.asarray([1,2,3], dtype = complex)\n",
    "print(a1,b1,sep='\\n')"
   ]
  },
  {
   "cell_type": "markdown",
   "metadata": {
    "Collapsed": "false"
   },
   "source": [
    "# 数组类型 "
   ]
  },
  {
   "cell_type": "markdown",
   "metadata": {
    "Collapsed": "false"
   },
   "source": [
    "numpy 支持的数据类型比 Python 内置的类型要多很多，基本上可以和 C 语言的数据类型对应上，其中部分类型对应为 Python 内置的类型。下表列举了常用 NumPy 基本类型："
   ]
  },
  {
   "cell_type": "markdown",
   "metadata": {
    "Collapsed": "false"
   },
   "source": [
    "|dtype|Description|\n",
    "|:----:|:--------------:|\n",
    "|bool|布尔型，True/False|\n",
    "|int*|有符号整型：8/16/32/64|\n",
    "|uint*|无符号整型：8/16/32/64|\n",
    "|float16|半精度浮点数，包括：1 个符号位，5 个指数位，10 个尾数位|\n",
    "|float32|半精度浮点数，包括：1 个符号位，8 个指数位，23 个尾数位|\n",
    "|float64|半精度浮点数，包括：1 个符号位，11 个指数位，52 个尾数位|\n",
    "|complex64|复数，表示双 32 位浮点数（实数部分和虚数部分）|\n",
    "|complex128|复数，表示双 64 位浮点数（实数部分和虚数部分）|"
   ]
  },
  {
   "cell_type": "markdown",
   "metadata": {
    "Collapsed": "false"
   },
   "source": [
    "numpy 的数值类型实际上是 dtype 对象的实例，并对应唯一的字符，包括 np.bool_，np.int32，np.float32，等等"
   ]
  },
  {
   "cell_type": "markdown",
   "metadata": {
    "Collapsed": "false",
    "toc-hr-collapsed": false
   },
   "source": [
    "# 创建数组"
   ]
  },
  {
   "cell_type": "markdown",
   "metadata": {
    "Collapsed": "false"
   },
   "source": [
    "前面我们介绍了**array**函数，除此之外，再介绍一些创建方法"
   ]
  },
  {
   "cell_type": "markdown",
   "metadata": {
    "Collapsed": "false",
    "toc-hr-collapsed": false
   },
   "source": [
    "## 特殊数组"
   ]
  },
  {
   "cell_type": "markdown",
   "metadata": {
    "Collapsed": "false",
    "toc-hr-collapsed": true
   },
   "source": [
    "### numpy.empty "
   ]
  },
  {
   "cell_type": "markdown",
   "metadata": {
    "Collapsed": "false"
   },
   "source": [
    "**numpy.empty** 方法用来创建一个指定形状（shape）、数据类型（dtype）且未初始化(数组元素将为**随机值**)的数组:"
   ]
  },
  {
   "cell_type": "markdown",
   "metadata": {
    "Collapsed": "false"
   },
   "source": [
    "```Python\n",
    "numpy.empty(shape, dtype = float, order = 'C')\n",
    "```"
   ]
  },
  {
   "cell_type": "markdown",
   "metadata": {
    "Collapsed": "false"
   },
   "source": [
    "***order***有\"C\"和\"F\"两个选项,分别代表，行优先和列优先，在计算机内存中的存储元素的顺序"
   ]
  },
  {
   "cell_type": "code",
   "execution_count": 51,
   "metadata": {
    "Collapsed": "false",
    "tags": [
     "3.1"
    ]
   },
   "outputs": [
    {
     "data": {
      "text/plain": [
       "array([[    0,     0,     0, 16368],\n",
       "       [    0,     0,     0, 16384],\n",
       "       [    0,     0,     0, 16392]], dtype=int16)"
      ]
     },
     "execution_count": 51,
     "metadata": {},
     "output_type": "execute_result"
    }
   ],
   "source": [
    "import numpy as np \n",
    "E = np.empty((3,4), dtype =np.int16 ) \n",
    "E"
   ]
  },
  {
   "cell_type": "markdown",
   "metadata": {
    "Collapsed": "false",
    "toc-hr-collapsed": true
   },
   "source": [
    "### numpy.zeros "
   ]
  },
  {
   "cell_type": "markdown",
   "metadata": {
    "Collapsed": "false"
   },
   "source": [
    "创建指定大小的数组，数组元素以 0 /False来填充："
   ]
  },
  {
   "cell_type": "code",
   "execution_count": 52,
   "metadata": {
    "Collapsed": "false",
    "tags": [
     "3.1"
    ]
   },
   "outputs": [
    {
     "data": {
      "text/plain": [
       "array([[False, False, False, False],\n",
       "       [False, False, False, False],\n",
       "       [False, False, False, False]])"
      ]
     },
     "execution_count": 52,
     "metadata": {},
     "output_type": "execute_result"
    }
   ],
   "source": [
    "Z=np.zeros((3,4), dtype =np.bool_ )\n",
    "Z"
   ]
  },
  {
   "cell_type": "markdown",
   "metadata": {
    "Collapsed": "false",
    "toc-hr-collapsed": true
   },
   "source": [
    "### numpy.ones "
   ]
  },
  {
   "cell_type": "markdown",
   "metadata": {
    "Collapsed": "false"
   },
   "source": [
    "创建指定形状的数组，数组元素以 1 来填充："
   ]
  },
  {
   "cell_type": "code",
   "execution_count": 53,
   "metadata": {
    "Collapsed": "false",
    "tags": [
     "3.1"
    ]
   },
   "outputs": [
    {
     "data": {
      "text/plain": [
       "array([[1., 1., 1., 1.],\n",
       "       [1., 1., 1., 1.],\n",
       "       [1., 1., 1., 1.]])"
      ]
     },
     "execution_count": 53,
     "metadata": {},
     "output_type": "execute_result"
    }
   ],
   "source": [
    "O=np.ones((3,4), dtype =np.float64)\n",
    "O"
   ]
  },
  {
   "cell_type": "markdown",
   "metadata": {
    "Collapsed": "false",
    "toc-hr-collapsed": true
   },
   "source": [
    "### numpy.eye"
   ]
  },
  {
   "cell_type": "markdown",
   "metadata": {
    "Collapsed": "false"
   },
   "source": [
    "创建指定形状的**对角(diagonal)数组**，为什么用eye表示？因为通常我们用`I`表示单位阵，与eye谐音"
   ]
  },
  {
   "cell_type": "markdown",
   "metadata": {
    "Collapsed": "false"
   },
   "source": [
    "```Python\n",
    "np.eye(N, M=None, k=0, dtype=<class 'float'>, order='C')\n",
    "```"
   ]
  },
  {
   "cell_type": "markdown",
   "metadata": {
    "Collapsed": "false"
   },
   "source": [
    "这里的参数与前不同，N表示行；M表示列，默认为N，可选；k指的是对角线偏位值，如k=1,对角线右移1单位："
   ]
  },
  {
   "cell_type": "code",
   "execution_count": 62,
   "metadata": {
    "Collapsed": "false",
    "tags": [
     "3.1"
    ]
   },
   "outputs": [
    {
     "data": {
      "text/plain": [
       "array([[0, 1, 0, 0, 0],\n",
       "       [0, 0, 1, 0, 0],\n",
       "       [0, 0, 0, 1, 0]])"
      ]
     },
     "execution_count": 62,
     "metadata": {},
     "output_type": "execute_result"
    }
   ],
   "source": [
    "I=np.eye(3,5,1, dtype =int)\n",
    "I"
   ]
  },
  {
   "cell_type": "markdown",
   "metadata": {
    "Collapsed": "false",
    "toc-hr-collapsed": false
   },
   "source": [
    "## 从已有的数组创建数组 "
   ]
  },
  {
   "cell_type": "markdown",
   "metadata": {
    "Collapsed": "false"
   },
   "source": [
    "除了上文提到的**array**函数和**asarray**函数，我们还有别的选择"
   ]
  },
  {
   "cell_type": "markdown",
   "metadata": {
    "Collapsed": "false",
    "toc-hr-collapsed": true
   },
   "source": [
    "###  numpy.fromiter"
   ]
  },
  {
   "cell_type": "markdown",
   "metadata": {
    "Collapsed": "false"
   },
   "source": [
    "numpy.fromiter 方法从可迭代对象(不仅限于**迭代器**)中建立 ndarray 对象，返回一维数组:\n",
    "```Python\n",
    "numpy.fromiter(iterable, dtype, count=-1)\n",
    "```"
   ]
  },
  {
   "cell_type": "markdown",
   "metadata": {
    "Collapsed": "false"
   },
   "source": [
    "***count***：读取的数据数量，默认为-1，读取所有数据"
   ]
  },
  {
   "cell_type": "code",
   "execution_count": 71,
   "metadata": {
    "Collapsed": "false",
    "tags": [
     "3.2.1"
    ]
   },
   "outputs": [
    {
     "data": {
      "text/plain": [
       "array([5, 4, 0, 8, 7])"
      ]
     },
     "execution_count": 71,
     "metadata": {},
     "output_type": "execute_result"
    }
   ],
   "source": [
    "import numpy as np\n",
    "# 利用iter函数创建一个itrator\n",
    "it=iter([5,4,0,8,7])\n",
    "x=np.fromiter(it, dtype=float)\n",
    "x"
   ]
  },
  {
   "cell_type": "code",
   "execution_count": 72,
   "metadata": {
    "Collapsed": "false",
    "tags": [
     "3.2.1"
    ]
   },
   "outputs": [
    {
     "data": {
      "text/plain": [
       "array([5, 4, 0, 8, 7])"
      ]
     },
     "execution_count": 72,
     "metadata": {},
     "output_type": "execute_result"
    }
   ],
   "source": [
    "y=np.fromiter([5,4,0,8,7],dtype=int)\n",
    "y"
   ]
  },
  {
   "cell_type": "markdown",
   "metadata": {
    "Collapsed": "false",
    "toc-hr-collapsed": false
   },
   "source": [
    "## 从数值范围创建数组 "
   ]
  },
  {
   "cell_type": "markdown",
   "metadata": {
    "Collapsed": "false"
   },
   "source": [
    "### numpy.arrange "
   ]
  },
  {
   "cell_type": "markdown",
   "metadata": {
    "Collapsed": "false"
   },
   "source": [
    "创建一维数组，函数语法如下，类似于普通的`range`函数，start默认为0，stop不含自身：\n",
    "```Python\n",
    "numpy.arange(start, stop, step, dtype)\n",
    "```"
   ]
  },
  {
   "cell_type": "code",
   "execution_count": 74,
   "metadata": {
    "Collapsed": "false",
    "tags": [
     "3.3"
    ]
   },
   "outputs": [
    {
     "data": {
      "text/plain": [
       "array([10, 12, 14, 16, 18])"
      ]
     },
     "execution_count": 74,
     "metadata": {},
     "output_type": "execute_result"
    }
   ],
   "source": [
    "import numpy as np\n",
    "x = np.arange(10,20,2)  \n",
    "x"
   ]
  },
  {
   "cell_type": "markdown",
   "metadata": {
    "Collapsed": "false"
   },
   "source": [
    "### numpy.linspace"
   ]
  },
  {
   "cell_type": "markdown",
   "metadata": {
    "Collapsed": "false"
   },
   "source": [
    "`arrange`是以**步长step**限定输出，而`linspace`以**个数num**规定输出：\n",
    "```Python\n",
    "np.linspace(start, stop, num=50, endpoint=True, retstep=False, dtype=None)\n",
    "```\n",
    "`endpoint`：该值为 ture 时，数列中中包含stop值，反之不包含\n",
    "\n",
    "`restype`：如果为 True 时，将生成一个tuple，包含ndarray和step"
   ]
  },
  {
   "cell_type": "code",
   "execution_count": 87,
   "metadata": {
    "Collapsed": "false",
    "tags": [
     "3.3"
    ]
   },
   "outputs": [
    {
     "name": "stdout",
     "output_type": "stream",
     "text": [
      "(array([10. , 12.5, 15. , 17.5, 20. ]), 2.5)\n",
      "<class 'tuple'>\n",
      "[10. 12. 14. 16. 18.]\n",
      "<class 'numpy.ndarray'>\n"
     ]
    }
   ],
   "source": [
    "x1 = np.linspace(10,20,5,endpoint=True,retstep=True)\n",
    "x2 = np.linspace(10,20,5,endpoint=False)\n",
    "print(x1,type(x1),sep='\\n')\n",
    "print(x2,type(x2),sep='\\n')"
   ]
  },
  {
   "cell_type": "markdown",
   "metadata": {
    "Collapsed": "false"
   },
   "source": [
    "### numpy.logspace "
   ]
  },
  {
   "cell_type": "markdown",
   "metadata": {
    "Collapsed": "false"
   },
   "source": [
    "创建一个等比数列，并以`底数base`求真值数组\n",
    "```Python\n",
    "np.logspace(start, stop, num=50, endpoint=True, base=10.0, dtype=None)\n",
    "```\n",
    "`start`与`stop`：一维数组的起点/终点为：base<sup>start/stop</sup>"
   ]
  },
  {
   "cell_type": "code",
   "execution_count": 88,
   "metadata": {
    "Collapsed": "false",
    "tags": [
     "3.3"
    ]
   },
   "outputs": [
    {
     "data": {
      "text/plain": [
       "array([  1.,   2.,   4.,   8.,  16.,  32.,  64., 128., 256., 512.])"
      ]
     },
     "execution_count": 88,
     "metadata": {},
     "output_type": "execute_result"
    }
   ],
   "source": [
    "a = np.logspace(0,9,10,base=2)\n",
    "a"
   ]
  },
  {
   "cell_type": "markdown",
   "metadata": {
    "Collapsed": "false"
   },
   "source": [
    "# 切片和索引 "
   ]
  },
  {
   "cell_type": "markdown",
   "metadata": {
    "Collapsed": "false"
   },
   "source": [
    "## 普通切片与slice函数"
   ]
  },
  {
   "cell_type": "markdown",
   "metadata": {
    "Collapsed": "false"
   },
   "source": [
    "ndarray对象的内容可以通过索引或切片来访问和修改，与 Python 中 list 的切片操作一样"
   ]
  },
  {
   "cell_type": "code",
   "execution_count": 91,
   "metadata": {
    "Collapsed": "false",
    "tags": [
     "4"
    ]
   },
   "outputs": [
    {
     "data": {
      "text/plain": [
       "(5, array([2, 5]))"
      ]
     },
     "execution_count": 91,
     "metadata": {},
     "output_type": "execute_result"
    }
   ],
   "source": [
    "import numpy as np\n",
    "a = np.arange(10)\n",
    "s1= a[5] #索引\n",
    "s2= a[2:8:3] #切片\n",
    "s1,s2"
   ]
  },
  {
   "cell_type": "markdown",
   "metadata": {
    "Collapsed": "false"
   },
   "source": [
    "另外，**`slice`**函数可以将切片过程分别进行："
   ]
  },
  {
   "cell_type": "code",
   "execution_count": 97,
   "metadata": {
    "Collapsed": "false",
    "tags": [
     "4"
    ]
   },
   "outputs": [
    {
     "data": {
      "text/plain": [
       "(array([0, 1, 2, 3, 4]), array([2, 5]))"
      ]
     },
     "execution_count": 97,
     "metadata": {},
     "output_type": "execute_result"
    }
   ],
   "source": [
    "s3 = slice(5)#stop=5\n",
    "s4 = slice(2,8,3) \n",
    "a[s3],a[s4]"
   ]
  },
  {
   "cell_type": "markdown",
   "metadata": {
    "Collapsed": "false"
   },
   "source": [
    "## 多维数组切片 "
   ]
  },
  {
   "cell_type": "markdown",
   "metadata": {
    "Collapsed": "false"
   },
   "source": [
    "多维数组同样适用上述索引提取方法："
   ]
  },
  {
   "cell_type": "code",
   "execution_count": 131,
   "metadata": {
    "Collapsed": "false",
    "tags": [
     "4"
    ]
   },
   "outputs": [
    {
     "data": {
      "text/plain": [
       "array([[[     0,      0,      0,  16420],\n",
       "        [-29789, -17874, -23832,  16423]],\n",
       "\n",
       "       [[  5958,  29789,  17873,  16427],\n",
       "        [-23832,  11915,  -5958,  16430]],\n",
       "\n",
       "       [[  5958,  29789,  17873,  16433],\n",
       "        [ 23831, -11916,   5957,  16435]]], dtype=int16)"
      ]
     },
     "execution_count": 131,
     "metadata": {},
     "output_type": "execute_result"
    }
   ],
   "source": [
    "b=np.empty(shape=(3,2,4),dtype=np.int16)\n",
    "b"
   ]
  },
  {
   "cell_type": "code",
   "execution_count": 132,
   "metadata": {
    "Collapsed": "false",
    "tags": [
     "4"
    ]
   },
   "outputs": [
    {
     "data": {
      "text/plain": [
       "array([[  5958,  29789,  17873,  16433],\n",
       "       [ 23831, -11916,   5957,  16435]], dtype=int16)"
      ]
     },
     "execution_count": 132,
     "metadata": {},
     "output_type": "execute_result"
    }
   ],
   "source": [
    "b[2] #在0轴上索引,此时shape=(2,4),降一维"
   ]
  },
  {
   "cell_type": "code",
   "execution_count": 133,
   "metadata": {
    "Collapsed": "false",
    "tags": [
     "4"
    ]
   },
   "outputs": [
    {
     "data": {
      "text/plain": [
       "array([ 23831, -11916,   5957,  16435], dtype=int16)"
      ]
     },
     "execution_count": 133,
     "metadata": {},
     "output_type": "execute_result"
    }
   ],
   "source": [
    "b[2,1] #继续在第1轴上索引,shape=(4,)，再降一维"
   ]
  },
  {
   "cell_type": "markdown",
   "metadata": {
    "Collapsed": "false"
   },
   "source": [
    "加上**`...`**可以表示在该轴上遍取，该轴的维度保留"
   ]
  },
  {
   "cell_type": "code",
   "execution_count": 141,
   "metadata": {
    "Collapsed": "false",
    "tags": [
     "4"
    ]
   },
   "outputs": [
    {
     "data": {
      "text/plain": [
       "array([[16420, 16423],\n",
       "       [16427, 16430],\n",
       "       [16433, 16435]], dtype=int16)"
      ]
     },
     "execution_count": 141,
     "metadata": {},
     "output_type": "execute_result"
    }
   ],
   "source": [
    "b[...,3] #shape=(3,2)，保留前两轴，去掉2轴所在的维度"
   ]
  },
  {
   "cell_type": "code",
   "execution_count": 135,
   "metadata": {
    "Collapsed": "false",
    "tags": [
     "4"
    ]
   },
   "outputs": [
    {
     "data": {
      "text/plain": [
       "array([29789, 11915], dtype=int16)"
      ]
     },
     "execution_count": 135,
     "metadata": {},
     "output_type": "execute_result"
    }
   ],
   "source": [
    "b[1,...,1] #shape=(2,),只保留第1轴所在的维度"
   ]
  },
  {
   "cell_type": "markdown",
   "metadata": {
    "Collapsed": "false"
   },
   "source": [
    "# 高级索引 "
   ]
  },
  {
   "cell_type": "markdown",
   "metadata": {
    "Collapsed": "false"
   },
   "source": [
    "## 整数数组索引"
   ]
  },
  {
   "cell_type": "markdown",
   "metadata": {
    "Collapsed": "false"
   },
   "source": [
    "从下列可以看出，数组作为索引，相当于对每一个轴上的元素进行**压缩**，即：X\\[ax1,ax2,ax3,\\...]"
   ]
  },
  {
   "cell_type": "code",
   "execution_count": 208,
   "metadata": {
    "Collapsed": "false",
    "tags": [
     "5.1"
    ]
   },
   "outputs": [
    {
     "data": {
      "text/plain": [
       "array([[ 0,  1,  2],\n",
       "       [ 3,  4,  5],\n",
       "       [ 6,  7,  8],\n",
       "       [ 9, 10, 11]])"
      ]
     },
     "execution_count": 208,
     "metadata": {},
     "output_type": "execute_result"
    }
   ],
   "source": [
    "import numpy as np\n",
    "x = np.array([[  0,  1,  2],[  3,  4,  5],[  6,  7,  8],[  9,  10,  11]]) \n",
    "x"
   ]
  },
  {
   "cell_type": "code",
   "execution_count": 145,
   "metadata": {
    "Collapsed": "false",
    "tags": [
     "5.1"
    ]
   },
   "outputs": [
    {
     "data": {
      "text/plain": [
       "array([ 0,  2,  9, 11])"
      ]
     },
     "execution_count": 145,
     "metadata": {},
     "output_type": "execute_result"
    }
   ],
   "source": [
    "# 找到四个角点的两轴坐标，进行压缩：\n",
    "x[[0,0,3,3],[0,2,0,2]]"
   ]
  },
  {
   "cell_type": "code",
   "execution_count": 150,
   "metadata": {
    "Collapsed": "false",
    "tags": [
     "5.1"
    ]
   },
   "outputs": [
    {
     "data": {
      "text/plain": [
       "array([[ 0,  2],\n",
       "       [ 9, 11]])"
      ]
     },
     "execution_count": 150,
     "metadata": {},
     "output_type": "execute_result"
    }
   ],
   "source": [
    "# 还可以改变轴的shape,输出对应shape的索引值\n",
    "axis0=np.array([[0,0],[3,3]])\n",
    "axis1=[[0,2],[0,2]]\n",
    "x[axis0,axis1]"
   ]
  },
  {
   "cell_type": "markdown",
   "metadata": {
    "Collapsed": "false"
   },
   "source": [
    "同样，可以借助切片**`:`**或**`…`**与索引数组组合："
   ]
  },
  {
   "cell_type": "code",
   "execution_count": 151,
   "metadata": {
    "Collapsed": "false",
    "tags": [
     "5.1"
    ]
   },
   "outputs": [
    {
     "data": {
      "text/plain": [
       "array([[ 1,  2],\n",
       "       [ 4,  5],\n",
       "       [ 7,  8],\n",
       "       [10, 11]])"
      ]
     },
     "execution_count": 151,
     "metadata": {},
     "output_type": "execute_result"
    }
   ],
   "source": [
    "x[...,1:]"
   ]
  },
  {
   "cell_type": "markdown",
   "metadata": {
    "Collapsed": "false"
   },
   "source": [
    "此外，还可以改变**索引顺序**或**倒序**："
   ]
  },
  {
   "cell_type": "code",
   "execution_count": 215,
   "metadata": {
    "Collapsed": "false"
   },
   "outputs": [
    {
     "name": "stdout",
     "output_type": "stream",
     "text": [
      "[[ 9 10 11]\n",
      " [ 0  1  2]\n",
      " [ 3  4  5]\n",
      " [ 6  7  8]]\n",
      "[[ 9 10 11]\n",
      " [ 6  7  8]\n",
      " [ 3  4  5]\n",
      " [ 0  1  2]]\n"
     ]
    }
   ],
   "source": [
    "print(x[[3,0,1,2]],x[[-1,-2,-3,-4]],sep='\\n')"
   ]
  },
  {
   "cell_type": "markdown",
   "metadata": {
    "Collapsed": "false"
   },
   "source": [
    "## 布尔索引 "
   ]
  },
  {
   "cell_type": "markdown",
   "metadata": {
    "Collapsed": "false"
   },
   "source": [
    "布尔索引通过布尔运算（**如：比较运算符**）来获取符合指定条件的元素的数组。如下例展示了一个构造**Boolean array**的方法："
   ]
  },
  {
   "cell_type": "markdown",
   "metadata": {
    "Collapsed": "false"
   },
   "source": [
    "```Ipython\n",
    ">>>import numpy as np \n",
    ">>>x = np.arange(6).reshape(2,3)\n",
    ">>>x\n",
    "array([[0, 1, 2],\n",
    "       [3, 4, 5]])\n",
    ">>>y=x>3\n",
    ">>>y #y是一个Boolean array\n",
    "array([[False, False, False],\n",
    "       [False,  True,  True]])\n",
    ">>>x[y]\n",
    "array([ 4,  5])\n",
    "```"
   ]
  },
  {
   "cell_type": "code",
   "execution_count": 204,
   "metadata": {
    "Collapsed": "false",
    "tags": [
     "5.2"
    ]
   },
   "outputs": [
    {
     "data": {
      "text/plain": [
       "array([nan+0.j,  1.+0.j,  2.+0.j, nan+0.j,  3.+0.j,  4.+0.j,  3.+5.j])"
      ]
     },
     "execution_count": 204,
     "metadata": {},
     "output_type": "execute_result"
    }
   ],
   "source": [
    "#构造一个包含NaN(not a number)的数组a，层层筛分出奇数元素\n",
    "a = np.array([np.nan,1,2,np.nan,3,4,3+5j])\n",
    "a"
   ]
  },
  {
   "cell_type": "code",
   "execution_count": 205,
   "metadata": {
    "Collapsed": "false",
    "tags": [
     "5.2"
    ]
   },
   "outputs": [
    {
     "name": "stdout",
     "output_type": "stream",
     "text": [
      "[False  True  True False  True  True  True]\n",
      "[1.+0.j 2.+0.j 3.+0.j 4.+0.j 3.+5.j]\n"
     ]
    }
   ],
   "source": [
    "#第一步。过滤掉NaN\n",
    "b=~np.isnan(a)\n",
    "a=a[b]\n",
    "print(b,a,sep='\\n')"
   ]
  },
  {
   "cell_type": "code",
   "execution_count": 206,
   "metadata": {
    "Collapsed": "false",
    "tags": [
     "5.2"
    ]
   },
   "outputs": [
    {
     "data": {
      "text/plain": [
       "array([1.+0.j, 2.+0.j, 3.+0.j, 4.+0.j])"
      ]
     },
     "execution_count": 206,
     "metadata": {},
     "output_type": "execute_result"
    }
   ],
   "source": [
    "#第二步，过滤掉虚部不为0的复数\n",
    "a=a[~np.iscomplex(a)]\n",
    "a"
   ]
  },
  {
   "cell_type": "code",
   "execution_count": 207,
   "metadata": {
    "Collapsed": "false",
    "tags": [
     "5.2"
    ]
   },
   "outputs": [
    {
     "data": {
      "text/plain": [
       "array([1.+0.j, 3.+0.j])"
      ]
     },
     "execution_count": 207,
     "metadata": {},
     "output_type": "execute_result"
    }
   ],
   "source": [
    "#第三步，过滤掉实部为偶数的复数\n",
    "a=a[a.real%2!=0]\n",
    "a"
   ]
  },
  {
   "cell_type": "markdown",
   "metadata": {
    "Collapsed": "false"
   },
   "source": [
    "## **ix_()**函数"
   ]
  },
  {
   "cell_type": "markdown",
   "metadata": {
    "Collapsed": "false"
   },
   "source": [
    "例如我们对一个矩阵进行**行列交换**运算，可以用到**`ix()_`**函数"
   ]
  },
  {
   "cell_type": "code",
   "execution_count": 217,
   "metadata": {
    "Collapsed": "false"
   },
   "outputs": [
    {
     "data": {
      "text/plain": [
       "array([[ 0,  1,  2,  3],\n",
       "       [ 4,  5,  6,  7],\n",
       "       [ 8,  9, 10, 11],\n",
       "       [12, 13, 14, 15]])"
      ]
     },
     "execution_count": 217,
     "metadata": {},
     "output_type": "execute_result"
    }
   ],
   "source": [
    "import numpy as np \n",
    "x=np.arange(16).reshape((4,4))\n",
    "x"
   ]
  },
  {
   "cell_type": "code",
   "execution_count": 219,
   "metadata": {
    "Collapsed": "false",
    "tags": [
     "5.3"
    ]
   },
   "outputs": [
    {
     "data": {
      "text/plain": [
       "array([[ 1,  0,  3,  2],\n",
       "       [ 9,  8, 11, 10],\n",
       "       [13, 12, 15, 14],\n",
       "       [ 5,  4,  7,  6]])"
      ]
     },
     "execution_count": 219,
     "metadata": {},
     "output_type": "execute_result"
    }
   ],
   "source": [
    "# 对上面的矩阵先做行变换，再做列变换\n",
    "x[np.ix_([0,2,3,1],[1,0,3,2])]"
   ]
  },
  {
   "cell_type": "code",
   "execution_count": null,
   "metadata": {
    "Collapsed": "false"
   },
   "outputs": [],
   "source": []
  }
 ],
 "metadata": {
  "kernelspec": {
   "display_name": "Python 3",
   "language": "python",
   "name": "python3"
  },
  "language_info": {
   "codemirror_mode": {
    "name": "ipython",
    "version": 3
   },
   "file_extension": ".py",
   "mimetype": "text/x-python",
   "name": "python",
   "nbconvert_exporter": "python",
   "pygments_lexer": "ipython3",
   "version": "3.7.3"
  },
  "toc-autonumbering": true,
  "toc-showcode": false,
  "toc-showmarkdowntxt": false,
  "toc-showtags": false,
  "varInspector": {
   "cols": {
    "lenName": 16,
    "lenType": 16,
    "lenVar": 40
   },
   "kernels_config": {
    "python": {
     "delete_cmd_postfix": "",
     "delete_cmd_prefix": "del ",
     "library": "var_list.py",
     "varRefreshCmd": "print(var_dic_list())"
    },
    "r": {
     "delete_cmd_postfix": ") ",
     "delete_cmd_prefix": "rm(",
     "library": "var_list.r",
     "varRefreshCmd": "cat(var_dic_list()) "
    }
   },
   "types_to_exclude": [
    "module",
    "function",
    "builtin_function_or_method",
    "instance",
    "_Feature"
   ],
   "window_display": false
  }
 },
 "nbformat": 4,
 "nbformat_minor": 4
}
