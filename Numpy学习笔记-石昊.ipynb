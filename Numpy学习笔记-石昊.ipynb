{
 "cells": [
  {
   "cell_type": "markdown",
   "metadata": {
    "Collapsed": "false"
   },
   "source": [
    "<img src=\"https://numpy.org/_static/numpy_logo.png\" width=50%>"
   ]
  },
  {
   "cell_type": "markdown",
   "metadata": {
    "Collapsed": "false"
   },
   "source": [
    "- 本笔记参考[菜鸟教程-NumPy](https://www.runoob.com/numpy/numpy-tutorial.html)、[Quickstart tutorial](https://numpy.org/devdocs/user/quickstart.html)和[Numpy-Index](https://numpy.org/devdocs/genindex.html#) "
   ]
  },
  {
   "cell_type": "markdown",
   "metadata": {
    "Collapsed": "false"
   },
   "source": [
    "----"
   ]
  },
  {
   "cell_type": "markdown",
   "metadata": {
    "Collapsed": "false",
    "toc-hr-collapsed": false
   },
   "source": [
    "# Ndarray对象"
   ]
  },
  {
   "cell_type": "markdown",
   "metadata": {
    "Collapsed": "false"
   },
   "source": [
    "NumPy最重要的⼀个特点就是其**N维数组对象（即ndarray）**，该对象是⼀个快速⽽灵活的⼤数据（同种类型）集容器"
   ]
  },
  {
   "cell_type": "markdown",
   "metadata": {
    "Collapsed": "false",
    "toc-hr-collapsed": true
   },
   "source": [
    "## ndarray基本属性"
   ]
  },
  {
   "cell_type": "markdown",
   "metadata": {
    "Collapsed": "false"
   },
   "source": [
    "比如以下数组a（实际上是一个**嵌套序列（nested sequence）**，但假设它是NumPy构造的array），我们要找到最大数10，用下标表示就是`a[1][1][0]`；于是我们说这是一个三维数组，有三个**轴(axes)**，三轴长度依次为：2，2，4"
   ]
  },
  {
   "cell_type": "markdown",
   "metadata": {
    "Collapsed": "false"
   },
   "source": [
    "NumPy 数组的维数称为**秩（rank）**，一维数组的秩为 1，二维数组的秩为 2，以此类推"
   ]
  },
  {
   "cell_type": "code",
   "execution_count": 22,
   "metadata": {
    "Collapsed": "false"
   },
   "outputs": [],
   "source": [
    "a=[[[1,2,3,4],[7,8,9,2]],[[4,5,6,7],[10,1,2,3]]]"
   ]
  },
  {
   "cell_type": "code",
   "execution_count": 23,
   "metadata": {
    "Collapsed": "false",
    "slideshow": {
     "slide_type": "slide"
    },
    "tags": [
     "1.1"
    ]
   },
   "outputs": [
    {
     "data": {
      "text/plain": [
       "10"
      ]
     },
     "execution_count": 23,
     "metadata": {},
     "output_type": "execute_result"
    }
   ],
   "source": [
    "a[1][1][0]"
   ]
  },
  {
   "cell_type": "markdown",
   "metadata": {
    "Collapsed": "false"
   },
   "source": [
    "要构造一个ndarray类对象，需要了解它最基本的属性:"
   ]
  },
  {
   "cell_type": "markdown",
   "metadata": {
    "Collapsed": "false"
   },
   "source": [
    "|Attribute|Description|\n",
    "|:----:|:--------------:|\n",
    "|ndim|轴数，即维度，a.ndim=3|\n",
    "|shape|一个表示数组形状的元组，其元素为各轴长度，a.shape=(2,2,4)\n",
    "|size|表述数组内元素总个数，a.size=2*2*4=16|\n",
    "|dtype|元素类型,包括一些特有类型，如numpy.int32\\int64\\float64|\n",
    "|itemsize|单个元素的字节，如int32为4字节|\n",
    "|data|储存实际元素的缓冲器(buffer)，非常用属性|\n",
    "|real|ndarray实部|\n",
    "|imag|ndarray虚部|"
   ]
  },
  {
   "cell_type": "code",
   "execution_count": 24,
   "metadata": {
    "Collapsed": "false",
    "tags": [
     "1.1"
    ]
   },
   "outputs": [
    {
     "name": "stdout",
     "output_type": "stream",
     "text": [
      "[[[ 1  2  3  4]\n",
      "  [ 7  8  9  2]]\n",
      "\n",
      " [[ 4  5  6  7]\n",
      "  [10  1  2  3]]]\n",
      "<class 'numpy.ndarray'>\n",
      "[[[ 1  2  3  4]\n",
      "  [ 7  8  9  2]]\n",
      "\n",
      " [[ 4  5  6  7]\n",
      "  [10  1  2  3]]]\n",
      "[[[0 0 0 0]\n",
      "  [0 0 0 0]]\n",
      "\n",
      " [[0 0 0 0]\n",
      "  [0 0 0 0]]]\n"
     ]
    }
   ],
   "source": [
    "import numpy as np\n",
    "b=np.array(a)# 有嵌套序列a创建一个ndarray b\n",
    "# 下面看看b的各个属性\n",
    "print(b,type(b),b.real,b.imag,sep='\\n')"
   ]
  },
  {
   "cell_type": "code",
   "execution_count": 25,
   "metadata": {
    "Collapsed": "false",
    "tags": [
     "1.1"
    ]
   },
   "outputs": [
    {
     "name": "stdout",
     "output_type": "stream",
     "text": [
      "3\n",
      "(2, 2, 4)\n",
      "16\n",
      "int32\n",
      "4\n",
      "<memory at 0x000001CB46B6CE58>\n"
     ]
    }
   ],
   "source": [
    "print(b.ndim,b.shape,b.size,b.dtype,b.itemsize,b.data,sep='\\n')"
   ]
  },
  {
   "cell_type": "markdown",
   "metadata": {
    "Collapsed": "false",
    "toc-hr-collapsed": true
   },
   "source": [
    "## **array**函数"
   ]
  },
  {
   "cell_type": "markdown",
   "metadata": {
    "Collapsed": "false"
   },
   "source": [
    "创建一个 ndarray 只需调用 NumPy 的 array 函数即可，语法如下："
   ]
  },
  {
   "cell_type": "markdown",
   "metadata": {
    "Collapsed": "false"
   },
   "source": [
    "```Python\n",
    "numpy.array(object, dtype = None, copy = True, order = None, subok = False, ndmin = 0)\n",
    "```"
   ]
  },
  {
   "cell_type": "markdown",
   "metadata": {
    "Collapsed": "false"
   },
   "source": [
    "参数说明如下："
   ]
  },
  {
   "cell_type": "markdown",
   "metadata": {
    "Collapsed": "false"
   },
   "source": [
    "|argument|Description|\n",
    "|:----:|:--------------:|\n",
    "|object|数组或嵌套的序列|\n",
    "|dtype|同属性，可选|\n",
    "|copy|对象是否需要复制，可选|\n",
    "|order|创建数组的样式，C为行方向，F为列方向，A为任意方向（默认）|\n",
    "|subok|默认返回一个与基类类型一致的数组|\n",
    "|ndmin|指定生成数组的最小维度|"
   ]
  },
  {
   "cell_type": "code",
   "execution_count": 66,
   "metadata": {
    "Collapsed": "false"
   },
   "outputs": [
    {
     "name": "stdout",
     "output_type": "stream",
     "text": [
      "[[1 2 3 4 5]]\n",
      "[1.+0.j 2.+0.j 3.+0.j]\n"
     ]
    }
   ],
   "source": [
    "import numpy as np \n",
    "a = np.array([1,2,3,4,5], ndmin =  2) \n",
    "b = np.array([1,2,3], dtype = complex)\n",
    "print(a,b,sep='\\n')"
   ]
  },
  {
   "cell_type": "markdown",
   "metadata": {
    "Collapsed": "false"
   },
   "source": [
    "此外，`array`还有一个“简易版”`asarray`，其参数减少到3个：\n",
    "```Python\n",
    "np.asarray(a, dtype=None, order=None)\n",
    "```"
   ]
  },
  {
   "cell_type": "code",
   "execution_count": 67,
   "metadata": {
    "Collapsed": "false",
    "tags": [
     "1.2"
    ]
   },
   "outputs": [
    {
     "name": "stdout",
     "output_type": "stream",
     "text": [
      "[1 2 3 4 5]\n",
      "[1.+0.j 2.+0.j 3.+0.j]\n"
     ]
    }
   ],
   "source": [
    "a1 = np.asarray([1,2,3,4,5]) \n",
    "b1 = np.asarray([1,2,3], dtype = complex)\n",
    "print(a1,b1,sep='\\n')"
   ]
  },
  {
   "cell_type": "markdown",
   "metadata": {
    "Collapsed": "false"
   },
   "source": [
    "----"
   ]
  },
  {
   "cell_type": "markdown",
   "metadata": {
    "Collapsed": "false"
   },
   "source": [
    "# 数组类型 "
   ]
  },
  {
   "cell_type": "markdown",
   "metadata": {
    "Collapsed": "false"
   },
   "source": [
    "numpy 支持的数据类型比 Python 内置的类型要多很多，基本上可以和 C 语言的数据类型对应上，其中部分类型对应为 Python 内置的类型。下表列举了常用 NumPy 基本类型："
   ]
  },
  {
   "cell_type": "markdown",
   "metadata": {
    "Collapsed": "false"
   },
   "source": [
    "|dtype|Description|sign|\n",
    "|:----:|:--------------:|:----:|\n",
    "|bool|布尔型，True/False|`b`|\n",
    "|int*|有符号整型：8/16/32/64|`i1/2/4/8`|\n",
    "|uint*|无符号整型：8/16/32/64|`u1/2/4/8`|\n",
    "|float16|半精度浮点数，包括：1 个符号位，5 个指数位，10 个尾数位|`f2`|\n",
    "|float32|半精度浮点数，包括：1 个符号位，8 个指数位，23 个尾数位|`f4`|\n",
    "|float64|半精度浮点数，包括：1 个符号位，11 个指数位，52 个尾数位|`f8`|\n",
    "|complex64|复数，表示双 32 位浮点数（实数部分和虚数部分）|`c8`|\n",
    "|complex128|复数，表示双 64 位浮点数（实数部分和虚数部分）|`c16`|\n",
    "|string|字符串|`S` or `a`|\n",
    "|unicode||`U`|"
   ]
  },
  {
   "cell_type": "markdown",
   "metadata": {
    "Collapsed": "false"
   },
   "source": [
    "numpy 的数值类型实际上是 dtype 对象的实例，并对应唯一的字符，包括 np.bool_，np.int32，np.float32，等等"
   ]
  },
  {
   "cell_type": "markdown",
   "metadata": {
    "Collapsed": "false"
   },
   "source": [
    "## C结构体 "
   ]
  },
  {
   "cell_type": "markdown",
   "metadata": {
    "Collapsed": "false"
   },
   "source": [
    "NumPy的底层语言是C语言，独有的数据类型是根据**结构体struct**来创建的，为了深入了解数据类型直到能自定义数据类型，有必要了解一些结构体的基础知识"
   ]
  },
  {
   "cell_type": "markdown",
   "metadata": {
    "Collapsed": "false"
   },
   "source": [
    "C **数组**允许定义可存储**相同类型**数据项的变量，**结构**是 C 编程中另一种用户自定义的可用的数据类型，它允许存储**不同类型**的数据项，C结构体的语法如下：\n",
    "```C\n",
    "struct tag \n",
    "{ \n",
    "    member-list\n",
    "    member-list \n",
    "    member-list  \n",
    "    ...\n",
    "} variable-list ;\n",
    "```"
   ]
  },
  {
   "cell_type": "markdown",
   "metadata": {
    "Collapsed": "false"
   },
   "source": [
    "- **`tag`** 是结构体标签\n",
    "- **`member-list`** 是标准的变量定义，比如 int i; 或者 float f，或者其他有效的变量定义\n",
    "- **`variable-list`** 结构变量声明，定义在结构的末尾，可以指定一个或多个结构变量\n"
   ]
  },
  {
   "cell_type": "markdown",
   "metadata": {
    "Collapsed": "false"
   },
   "source": [
    "假设您想要跟踪图书馆中书本的动态，您可能需要跟踪每本书的几个重要属性——标题、作者、价格、ID:\n",
    "```C\n",
    "struct Books\n",
    "{\n",
    "   char  title[50];\n",
    "   char  author[50];\n",
    "   float price;\n",
    "   int   book_id;\n",
    "} book = {\"C 语言\", \"RUNOOB\", 25.50, 123456};\n",
    "```"
   ]
  },
  {
   "cell_type": "markdown",
   "metadata": {
    "Collapsed": "false"
   },
   "source": [
    "## numpy.dtype类 "
   ]
  },
  {
   "cell_type": "markdown",
   "metadata": {
    "Collapsed": "false"
   },
   "source": [
    "array函数中的参数dtype，除了NumPy\\Python内置的一些数据类型，也可以自己构造。构造的方法就是**实例化numpy.dtype对象**。这个类的原理是传入**待转换的数据类型obj**创造**dtype对象**，语法结构如下：\n",
    "```Pyhton\n",
    "class numpy.dtype(obj, align=False, copy=False)\n",
    "```\n",
    "`align`：填充字段使其类似 C 的**结构体**，只有当obj为字典或comma-separated string是，可选为true\n",
    "\n",
    "`copy`：复制dtype对象 ，如果为 false，则是对内置数据类型对象的引用"
   ]
  },
  {
   "cell_type": "code",
   "execution_count": 11,
   "metadata": {
    "Collapsed": "false",
    "tags": [
     "2"
    ]
   },
   "outputs": [
    {
     "data": {
      "text/plain": [
       "(dtype('int16'), numpy.dtype, dtype('int16'), numpy.dtype, type)"
      ]
     },
     "execution_count": 11,
     "metadata": {},
     "output_type": "execute_result"
    }
   ],
   "source": [
    "import numpy as np\n",
    "# 可以使用字符串符号代替\n",
    "o=np.int16\n",
    "d1=np.dtype(o)\n",
    "d2=np.dtype('i2')\n",
    "d1,d1.__class__,d2,d2.__class__,o.__class__"
   ]
  },
  {
   "cell_type": "code",
   "execution_count": 12,
   "metadata": {
    "Collapsed": "false",
    "tags": [
     "2"
    ]
   },
   "outputs": [
    {
     "data": {
      "text/plain": [
       "(dtype([('age', 'i1')]), numpy.dtype, list)"
      ]
     },
     "execution_count": 12,
     "metadata": {},
     "output_type": "execute_result"
    }
   ],
   "source": [
    "o=[('age', 'i1')]\n",
    "d=np.dtype(o)\n",
    "d,d.__class__,o.__class__"
   ]
  },
  {
   "cell_type": "markdown",
   "metadata": {
    "Collapsed": "false"
   },
   "source": [
    "相当于C结构体中的：\n",
    "```C\n",
    "struct d\n",
    "{\n",
    "    int age;\n",
    "};\n",
    "```\n",
    "下面我们把这个新建的数据类型d用到实际数组中："
   ]
  },
  {
   "cell_type": "code",
   "execution_count": 21,
   "metadata": {
    "Collapsed": "false",
    "tags": [
     "2"
    ]
   },
   "outputs": [
    {
     "data": {
      "text/plain": [
       "array([[(15,), (16,)],\n",
       "       [(17,), (18,)]], dtype=[('age', 'i1')])"
      ]
     },
     "execution_count": 21,
     "metadata": {},
     "output_type": "execute_result"
    }
   ],
   "source": [
    "a=np.array([15,16,17,18],dtype=d).reshape(2,2)\n",
    "a"
   ]
  },
  {
   "cell_type": "code",
   "execution_count": 22,
   "metadata": {
    "Collapsed": "false",
    "tags": [
     "2"
    ]
   },
   "outputs": [
    {
     "data": {
      "text/plain": [
       "array([[15, 16],\n",
       "       [17, 18]], dtype=int8)"
      ]
     },
     "execution_count": 22,
     "metadata": {},
     "output_type": "execute_result"
    }
   ],
   "source": [
    "# 类型字段名可以用于存取实际的 age 列\n",
    "a['age']"
   ]
  },
  {
   "cell_type": "markdown",
   "metadata": {
    "Collapsed": "false"
   },
   "source": [
    "再看一个复杂的例子，用C语言表示为：\n",
    "```c\n",
    "#include <stdio.h>\n",
    "#include <string.h>\n",
    "\n",
    "struct Student{\n",
    "    char   name[20];\n",
    "    int    age;\n",
    "    float  marks;\n",
    "};\n",
    "\n",
    "int main()\n",
    "{\n",
    "    struct Student student1;       /* 声明student1  */\n",
    "    struct Student student2;       /* 声明student2  */\n",
    "\n",
    "    /* student1详述 */\n",
    "    strcpy(student1.name,\"Tony\");\n",
    "    student1.age=18;\n",
    "    student1.marks=75.0;\n",
    "    \n",
    "    /* student1详述 */\n",
    "    strcpy(student2.name,\"Jack\");\n",
    "    student2.age=19;\n",
    "    student2.marks=83.5;\n",
    "    \n",
    "    return 0;\n",
    "}\n",
    "```"
   ]
  },
  {
   "cell_type": "code",
   "execution_count": 29,
   "metadata": {
    "Collapsed": "false",
    "tags": [
     "2"
    ]
   },
   "outputs": [
    {
     "data": {
      "text/plain": [
       "(array([[('Tony', 18, 75. )],\n",
       "        [('Jack', 19, 83.5)]],\n",
       "       dtype=[('name', '<U20'), ('age', 'i1'), ('marks', '<f2')]), (2, 1))"
      ]
     },
     "execution_count": 29,
     "metadata": {},
     "output_type": "execute_result"
    }
   ],
   "source": [
    "Student=np.dtype([('name','U20'),('age','i1'),('marks','f2')])\n",
    "student=np.array([[('Tony',18,75.0)],[('Jack',19,83.5)]],dtype=Student)\n",
    "student,student.shape"
   ]
  },
  {
   "cell_type": "code",
   "execution_count": 30,
   "metadata": {
    "Collapsed": "false",
    "tags": [
     "2"
    ]
   },
   "outputs": [
    {
     "data": {
      "text/plain": [
       "(array([('Tony', 18, 75.)],\n",
       "       dtype=[('name', '<U20'), ('age', 'i1'), ('marks', '<f2')]),\n",
       " array([('Jack', 19, 83.5)],\n",
       "       dtype=[('name', '<U20'), ('age', 'i1'), ('marks', '<f2')]))"
      ]
     },
     "execution_count": 30,
     "metadata": {},
     "output_type": "execute_result"
    }
   ],
   "source": [
    "student[0],student[1]"
   ]
  },
  {
   "cell_type": "code",
   "execution_count": 31,
   "metadata": {
    "Collapsed": "false",
    "tags": [
     "2"
    ]
   },
   "outputs": [
    {
     "data": {
      "text/plain": [
       "(array([['Tony'],\n",
       "        ['Jack']], dtype='<U20'), array(['Tony'], dtype='<U20'))"
      ]
     },
     "execution_count": 31,
     "metadata": {},
     "output_type": "execute_result"
    }
   ],
   "source": [
    "student['name'],student[0]['name']"
   ]
  },
  {
   "cell_type": "markdown",
   "metadata": {
    "Collapsed": "false"
   },
   "source": [
    "## 字节顺序 "
   ]
  },
  {
   "cell_type": "markdown",
   "metadata": {
    "Collapsed": "false"
   },
   "source": [
    "构造数据类型，还有一个值得重视的细节就是——**字节顺序**。字节顺序是通过对数据类型预先设定 **`<`** 或 **`>`** 来决定的。 **`<`** 意味着**小端法** ； **`>`** 意味着**大端法**"
   ]
  },
  {
   "cell_type": "markdown",
   "metadata": {
    "Collapsed": "false"
   },
   "source": [
    "> **字节顺序**：在几乎所有的机器上，多字节对象都被存储为连续的字节序列。字节顺序，是跨越多字节的程序对象的存储规则\n",
    ">\n",
    ">**大端模式Big-Endian**：数据的高字节保存在内存的低地址中，而数据的低字节保存在内存的高地址中，符合一般阅读习惯\n",
    ">\n",
    ">**小端模式Little-Endian**：数据的高字节保存在内存的高地址中，而数据的低字节保存在内存的低地址中，这种存储模式将地址的高低和数据位权有效地结合起来，高地址部分权值高，低地址部分权值低"
   ]
  },
  {
   "cell_type": "code",
   "execution_count": 59,
   "metadata": {
    "Collapsed": "false",
    "tags": [
     "2"
    ]
   },
   "outputs": [
    {
     "data": {
      "text/plain": [
       "array([1, 2, 3])"
      ]
     },
     "execution_count": 59,
     "metadata": {},
     "output_type": "execute_result"
    }
   ],
   "source": [
    "b=np.array([1,2,3])\n",
    "b"
   ]
  },
  {
   "cell_type": "code",
   "execution_count": 64,
   "metadata": {
    "Collapsed": "false",
    "tags": [
     "2"
    ]
   },
   "outputs": [
    {
     "data": {
      "text/plain": [
       "array([16777216, 33554432, 50331648])"
      ]
     },
     "execution_count": 64,
     "metadata": {},
     "output_type": "execute_result"
    }
   ],
   "source": [
    "# byteswap()方法将 ndarray 中每个元素中的字节进行大小端转换\n",
    "b.byteswap(True) #地址变换，数值自然也变化了"
   ]
  },
  {
   "cell_type": "markdown",
   "metadata": {
    "Collapsed": "false"
   },
   "source": [
    "## 副本和视图 "
   ]
  },
  {
   "cell_type": "markdown",
   "metadata": {
    "Collapsed": "false"
   },
   "source": [
    "- **副本copy**：一个数据的完整的拷贝，如果我们对副本进行修改，它不会影响到原始数据，物理内存不在同一位置，一般发生在：\n",
    "    - Python 序列的切片操作（相当于浅拷贝），调用**`copy.deepcopy()`** 函数\n",
    "    - 调用 ndarray 的 copy() 函数产生一个副本\n",
    "    \n",
    "    \n",
    "- **视图view**：数据的一个别称或引用，通过该别称或引用亦便可访问、操作原有数据，但原有数据不会产生拷贝。如果我们对视图进行修改，它会影响到原始数据，物理内存在同一位置，一般发生在：\n",
    "    - numpy 的切片操作返回原数据的视图\n",
    "    - 调用 ndarray 的 **`view()`**方法产生一个视图"
   ]
  },
  {
   "cell_type": "markdown",
   "metadata": {
    "Collapsed": "false"
   },
   "source": [
    "### 命名绑定"
   ]
  },
  {
   "cell_type": "markdown",
   "metadata": {
    "Collapsed": "false"
   },
   "source": [
    "类似于Python中的命名绑定、浅拷贝、深拷贝，NumPy数组同样具有这些区别，如以下对数组直接赋值就是名称绑定，属于视图操作。"
   ]
  },
  {
   "cell_type": "code",
   "execution_count": 26,
   "metadata": {
    "Collapsed": "false"
   },
   "outputs": [
    {
     "data": {
      "text/plain": [
       "['0x2008b3140d0', '0x2008b3140d0']"
      ]
     },
     "execution_count": 26,
     "metadata": {},
     "output_type": "execute_result"
    }
   ],
   "source": [
    "import numpy as np\n",
    "a=np.arange(6)\n",
    "b=a\n",
    "# 查看a,b的地址（16进制表示）\n",
    "list(map(hex,list(map(id,[a,b]))))"
   ]
  },
  {
   "cell_type": "code",
   "execution_count": 27,
   "metadata": {
    "Collapsed": "false"
   },
   "outputs": [
    {
     "data": {
      "text/plain": [
       "((2, 3), (2, 3))"
      ]
     },
     "execution_count": 27,
     "metadata": {},
     "output_type": "execute_result"
    }
   ],
   "source": [
    "# b修改形状，a也会改变：\n",
    "b.shape=(2,3)\n",
    "a.shape,b.shape"
   ]
  },
  {
   "cell_type": "markdown",
   "metadata": {
    "Collapsed": "false"
   },
   "source": [
    "### 视图或浅拷贝 "
   ]
  },
  {
   "cell_type": "markdown",
   "metadata": {
    "Collapsed": "false"
   },
   "source": [
    "**`ndarray.view()`** 方法会创建一个新的数组对象，该方法创建的新数组的维数更改**不会更改原始数据的维数**"
   ]
  },
  {
   "cell_type": "code",
   "execution_count": 28,
   "metadata": {
    "Collapsed": "false"
   },
   "outputs": [
    {
     "data": {
      "text/plain": [
       "(array([[0, 1, 2],\n",
       "        [3, 4, 5]]), array([[0, 1],\n",
       "        [2, 3],\n",
       "        [4, 5]]))"
      ]
     },
     "execution_count": 28,
     "metadata": {},
     "output_type": "execute_result"
    }
   ],
   "source": [
    "b=a.view()\n",
    "b.shape=(3,2)\n",
    "a,b"
   ]
  },
  {
   "cell_type": "code",
   "execution_count": 29,
   "metadata": {
    "Collapsed": "false"
   },
   "outputs": [
    {
     "data": {
      "text/plain": [
       "['0x2008b3140d0', '0x2008b0a9f80']"
      ]
     },
     "execution_count": 29,
     "metadata": {},
     "output_type": "execute_result"
    }
   ],
   "source": [
    "# 地址也会发生变化\n",
    "list(map(hex,list(map(id,[a,b]))))"
   ]
  },
  {
   "cell_type": "code",
   "execution_count": 31,
   "metadata": {
    "Collapsed": "false"
   },
   "outputs": [
    {
     "data": {
      "text/plain": [
       "(array([[0, 1, 2],\n",
       "        [3, 9, 9]]), array([[0, 1],\n",
       "        [2, 3],\n",
       "        [9, 9]]))"
      ]
     },
     "execution_count": 31,
     "metadata": {},
     "output_type": "execute_result"
    }
   ],
   "source": [
    "# 但是对b的元素修改会反映到a的身上\n",
    "b[2]=9\n",
    "a,b"
   ]
  },
  {
   "cell_type": "markdown",
   "metadata": {
    "Collapsed": "false"
   },
   "source": [
    "Python中的切片操作相当于浅拷贝，NumPy的切片操作也是一个浅拷贝，**可以改变数组维度，但不能改变数组元素**，即创建原数组的新视图"
   ]
  },
  {
   "cell_type": "code",
   "execution_count": 32,
   "metadata": {
    "Collapsed": "false"
   },
   "outputs": [
    {
     "data": {
      "text/plain": [
       "((6,), (2, 3))"
      ]
     },
     "execution_count": 32,
     "metadata": {},
     "output_type": "execute_result"
    }
   ],
   "source": [
    "a=np.arange(6)\n",
    "b=a[:]\n",
    "b.shape=(2,3)\n",
    "a.shape,b.shape"
   ]
  },
  {
   "cell_type": "code",
   "execution_count": 34,
   "metadata": {
    "Collapsed": "false"
   },
   "outputs": [
    {
     "data": {
      "text/plain": [
       "(array([ 0,  1,  2,  3, 99,  5]), array([[ 0,  1,  2],\n",
       "        [ 3, 99,  5]]))"
      ]
     },
     "execution_count": 34,
     "metadata": {},
     "output_type": "execute_result"
    }
   ],
   "source": [
    "b[1][1]=99\n",
    "a,b"
   ]
  },
  {
   "cell_type": "markdown",
   "metadata": {
    "Collapsed": "false"
   },
   "source": [
    "### 副本或深拷贝 "
   ]
  },
  {
   "cell_type": "markdown",
   "metadata": {
    "Collapsed": "false"
   },
   "source": [
    "**`ndarray.copy()`** 方法创建一个副本。 对副本数据进行修改，不会影响到原始数据，它们物理内存不在同一位置"
   ]
  },
  {
   "cell_type": "code",
   "execution_count": 35,
   "metadata": {
    "Collapsed": "false"
   },
   "outputs": [
    {
     "data": {
      "text/plain": [
       "(array([0, 1, 2, 3, 4, 5]), array([[ 0,  1,  2],\n",
       "        [ 3, 99,  5]]))"
      ]
     },
     "execution_count": 35,
     "metadata": {},
     "output_type": "execute_result"
    }
   ],
   "source": [
    "a=np.arange(6)\n",
    "b=a.copy()\n",
    "b.shape=(2,3)\n",
    "b[1][1]=99\n",
    "a,b"
   ]
  },
  {
   "cell_type": "markdown",
   "metadata": {
    "Collapsed": "false"
   },
   "source": [
    "**<span style=\"color:red\">在学习编辑数组的各种方法时需要留意它是视图操作还是副本操作</span>**"
   ]
  },
  {
   "cell_type": "markdown",
   "metadata": {
    "Collapsed": "false"
   },
   "source": [
    "----"
   ]
  },
  {
   "cell_type": "markdown",
   "metadata": {
    "Collapsed": "false",
    "toc-hr-collapsed": false
   },
   "source": [
    "# 创建数组"
   ]
  },
  {
   "cell_type": "markdown",
   "metadata": {
    "Collapsed": "false"
   },
   "source": [
    "前面我们介绍了**array**函数，除此之外，再介绍一些创建方法"
   ]
  },
  {
   "cell_type": "markdown",
   "metadata": {
    "Collapsed": "false",
    "toc-hr-collapsed": false
   },
   "source": [
    "## 特殊数组"
   ]
  },
  {
   "cell_type": "markdown",
   "metadata": {
    "Collapsed": "false",
    "toc-hr-collapsed": true
   },
   "source": [
    "### numpy.empty "
   ]
  },
  {
   "cell_type": "markdown",
   "metadata": {
    "Collapsed": "false"
   },
   "source": [
    "**numpy.empty** 方法用来创建一个指定形状（shape）、数据类型（dtype）且未初始化(数组元素将为**随机值**)的数组:"
   ]
  },
  {
   "cell_type": "markdown",
   "metadata": {
    "Collapsed": "false"
   },
   "source": [
    "```Python\n",
    "numpy.empty(shape, dtype = float, order = 'C')\n",
    "```"
   ]
  },
  {
   "cell_type": "markdown",
   "metadata": {
    "Collapsed": "false"
   },
   "source": [
    "***order***有\"C\"和\"F\"两个选项,分别代表，行优先和列优先，在计算机内存中的存储元素的顺序"
   ]
  },
  {
   "cell_type": "code",
   "execution_count": 51,
   "metadata": {
    "Collapsed": "false",
    "tags": [
     "3.1"
    ]
   },
   "outputs": [
    {
     "data": {
      "text/plain": [
       "array([[    0,     0,     0, 16368],\n",
       "       [    0,     0,     0, 16384],\n",
       "       [    0,     0,     0, 16392]], dtype=int16)"
      ]
     },
     "execution_count": 51,
     "metadata": {},
     "output_type": "execute_result"
    }
   ],
   "source": [
    "import numpy as np \n",
    "E = np.empty((3,4), dtype =np.int16 ) \n",
    "E"
   ]
  },
  {
   "cell_type": "markdown",
   "metadata": {
    "Collapsed": "false",
    "toc-hr-collapsed": true
   },
   "source": [
    "### numpy.zeros "
   ]
  },
  {
   "cell_type": "markdown",
   "metadata": {
    "Collapsed": "false"
   },
   "source": [
    "创建指定大小的数组，数组元素以 0 /False来填充："
   ]
  },
  {
   "cell_type": "code",
   "execution_count": 52,
   "metadata": {
    "Collapsed": "false",
    "tags": [
     "3.1"
    ]
   },
   "outputs": [
    {
     "data": {
      "text/plain": [
       "array([[False, False, False, False],\n",
       "       [False, False, False, False],\n",
       "       [False, False, False, False]])"
      ]
     },
     "execution_count": 52,
     "metadata": {},
     "output_type": "execute_result"
    }
   ],
   "source": [
    "Z=np.zeros((3,4), dtype =np.bool_ )\n",
    "Z"
   ]
  },
  {
   "cell_type": "markdown",
   "metadata": {
    "Collapsed": "false",
    "toc-hr-collapsed": true
   },
   "source": [
    "### numpy.ones "
   ]
  },
  {
   "cell_type": "markdown",
   "metadata": {
    "Collapsed": "false"
   },
   "source": [
    "创建指定形状的数组，数组元素以 1 来填充："
   ]
  },
  {
   "cell_type": "code",
   "execution_count": 53,
   "metadata": {
    "Collapsed": "false",
    "tags": [
     "3.1"
    ]
   },
   "outputs": [
    {
     "data": {
      "text/plain": [
       "array([[1., 1., 1., 1.],\n",
       "       [1., 1., 1., 1.],\n",
       "       [1., 1., 1., 1.]])"
      ]
     },
     "execution_count": 53,
     "metadata": {},
     "output_type": "execute_result"
    }
   ],
   "source": [
    "O=np.ones((3,4), dtype =np.float64)\n",
    "O"
   ]
  },
  {
   "cell_type": "markdown",
   "metadata": {
    "Collapsed": "false",
    "toc-hr-collapsed": true
   },
   "source": [
    "### numpy.eye"
   ]
  },
  {
   "cell_type": "markdown",
   "metadata": {
    "Collapsed": "false"
   },
   "source": [
    "创建指定形状的**对角(diagonal)数组**，为什么用eye表示？因为通常我们用`I`表示单位阵，与eye谐音"
   ]
  },
  {
   "cell_type": "markdown",
   "metadata": {
    "Collapsed": "false"
   },
   "source": [
    "```Python\n",
    "np.eye(N, M=None, k=0, dtype=<class 'float'>, order='C')\n",
    "```"
   ]
  },
  {
   "cell_type": "markdown",
   "metadata": {
    "Collapsed": "false"
   },
   "source": [
    "这里的参数与前不同，N表示行；M表示列，默认为N，可选；k指的是对角线偏位值，如k=1,对角线右移1单位："
   ]
  },
  {
   "cell_type": "code",
   "execution_count": 62,
   "metadata": {
    "Collapsed": "false",
    "tags": [
     "3.1"
    ]
   },
   "outputs": [
    {
     "data": {
      "text/plain": [
       "array([[0, 1, 0, 0, 0],\n",
       "       [0, 0, 1, 0, 0],\n",
       "       [0, 0, 0, 1, 0]])"
      ]
     },
     "execution_count": 62,
     "metadata": {},
     "output_type": "execute_result"
    }
   ],
   "source": [
    "I=np.eye(3,5,1, dtype =int)\n",
    "I"
   ]
  },
  {
   "cell_type": "markdown",
   "metadata": {
    "Collapsed": "false",
    "toc-hr-collapsed": false
   },
   "source": [
    "## 从已有的数组创建数组 "
   ]
  },
  {
   "cell_type": "markdown",
   "metadata": {
    "Collapsed": "false"
   },
   "source": [
    "除了上文提到的**array**函数和**asarray**函数，我们还有别的选择"
   ]
  },
  {
   "cell_type": "markdown",
   "metadata": {
    "Collapsed": "false",
    "toc-hr-collapsed": true
   },
   "source": [
    "###  numpy.fromiter"
   ]
  },
  {
   "cell_type": "markdown",
   "metadata": {
    "Collapsed": "false"
   },
   "source": [
    "numpy.fromiter 方法从可迭代对象(不仅限于**迭代器**)中建立 ndarray 对象，返回一维数组:\n",
    "```Python\n",
    "numpy.fromiter(iterable, dtype, count=-1)\n",
    "```"
   ]
  },
  {
   "cell_type": "markdown",
   "metadata": {
    "Collapsed": "false"
   },
   "source": [
    "***count***：读取的数据数量，默认为-1，读取所有数据"
   ]
  },
  {
   "cell_type": "code",
   "execution_count": 71,
   "metadata": {
    "Collapsed": "false",
    "tags": [
     "3.2.1"
    ]
   },
   "outputs": [
    {
     "data": {
      "text/plain": [
       "array([5, 4, 0, 8, 7])"
      ]
     },
     "execution_count": 71,
     "metadata": {},
     "output_type": "execute_result"
    }
   ],
   "source": [
    "import numpy as np\n",
    "# 利用iter函数创建一个itrator\n",
    "it=iter([5,4,0,8,7])\n",
    "x=np.fromiter(it, dtype=float)\n",
    "x"
   ]
  },
  {
   "cell_type": "code",
   "execution_count": 72,
   "metadata": {
    "Collapsed": "false",
    "tags": [
     "3.2.1"
    ]
   },
   "outputs": [
    {
     "data": {
      "text/plain": [
       "array([5, 4, 0, 8, 7])"
      ]
     },
     "execution_count": 72,
     "metadata": {},
     "output_type": "execute_result"
    }
   ],
   "source": [
    "y=np.fromiter([5,4,0,8,7],dtype=int)\n",
    "y"
   ]
  },
  {
   "cell_type": "markdown",
   "metadata": {
    "Collapsed": "false",
    "toc-hr-collapsed": false
   },
   "source": [
    "## 从数值范围创建数组 "
   ]
  },
  {
   "cell_type": "markdown",
   "metadata": {
    "Collapsed": "false"
   },
   "source": [
    "### numpy.arange "
   ]
  },
  {
   "cell_type": "markdown",
   "metadata": {
    "Collapsed": "false"
   },
   "source": [
    "创建一维数组，函数语法如下，类似于普通的`range`函数，start默认为0，stop不含自身：\n",
    "```Python\n",
    "numpy.arange(start, stop, step, dtype)\n",
    "```"
   ]
  },
  {
   "cell_type": "code",
   "execution_count": 74,
   "metadata": {
    "Collapsed": "false",
    "tags": [
     "3.3"
    ]
   },
   "outputs": [
    {
     "data": {
      "text/plain": [
       "array([10, 12, 14, 16, 18])"
      ]
     },
     "execution_count": 74,
     "metadata": {},
     "output_type": "execute_result"
    }
   ],
   "source": [
    "import numpy as np\n",
    "x = np.arange(10,20,2)  \n",
    "x"
   ]
  },
  {
   "cell_type": "markdown",
   "metadata": {
    "Collapsed": "false"
   },
   "source": [
    "### numpy.linspace"
   ]
  },
  {
   "cell_type": "markdown",
   "metadata": {
    "Collapsed": "false"
   },
   "source": [
    "`arrange`是以**步长step**限定输出，而`linspace`以**个数num**规定输出：\n",
    "```Python\n",
    "np.linspace(start, stop, num=50, endpoint=True, retstep=False, dtype=None)\n",
    "```\n",
    "`endpoint`：该值为 ture 时，数列中中包含stop值，反之不包含\n",
    "\n",
    "`restype`：如果为 True 时，将生成一个tuple，包含ndarray和step"
   ]
  },
  {
   "cell_type": "code",
   "execution_count": 87,
   "metadata": {
    "Collapsed": "false",
    "tags": [
     "3.3"
    ]
   },
   "outputs": [
    {
     "name": "stdout",
     "output_type": "stream",
     "text": [
      "(array([10. , 12.5, 15. , 17.5, 20. ]), 2.5)\n",
      "<class 'tuple'>\n",
      "[10. 12. 14. 16. 18.]\n",
      "<class 'numpy.ndarray'>\n"
     ]
    }
   ],
   "source": [
    "x1 = np.linspace(10,20,5,endpoint=True,retstep=True)\n",
    "x2 = np.linspace(10,20,5,endpoint=False)\n",
    "print(x1,type(x1),sep='\\n')\n",
    "print(x2,type(x2),sep='\\n')"
   ]
  },
  {
   "cell_type": "markdown",
   "metadata": {
    "Collapsed": "false"
   },
   "source": [
    "### numpy.logspace "
   ]
  },
  {
   "cell_type": "markdown",
   "metadata": {
    "Collapsed": "false"
   },
   "source": [
    "创建一个等比数列，并以`底数base`求真值数组\n",
    "```Python\n",
    "np.logspace(start, stop, num=50, endpoint=True, base=10.0, dtype=None)\n",
    "```\n",
    "`start`与`stop`：一维数组的起点/终点为：base<sup>start/stop</sup>"
   ]
  },
  {
   "cell_type": "code",
   "execution_count": 88,
   "metadata": {
    "Collapsed": "false",
    "tags": [
     "3.3"
    ]
   },
   "outputs": [
    {
     "data": {
      "text/plain": [
       "array([  1.,   2.,   4.,   8.,  16.,  32.,  64., 128., 256., 512.])"
      ]
     },
     "execution_count": 88,
     "metadata": {},
     "output_type": "execute_result"
    }
   ],
   "source": [
    "a = np.logspace(0,9,10,base=2)\n",
    "a"
   ]
  },
  {
   "cell_type": "markdown",
   "metadata": {
    "Collapsed": "false"
   },
   "source": [
    "----"
   ]
  },
  {
   "cell_type": "markdown",
   "metadata": {
    "Collapsed": "false"
   },
   "source": [
    "# 切片和索引 "
   ]
  },
  {
   "cell_type": "markdown",
   "metadata": {
    "Collapsed": "false"
   },
   "source": [
    "## 普通切片与slice函数"
   ]
  },
  {
   "cell_type": "markdown",
   "metadata": {
    "Collapsed": "false"
   },
   "source": [
    "ndarray对象的内容可以通过索引或切片来访问和修改，与 Python 中 list 的切片操作一样"
   ]
  },
  {
   "cell_type": "code",
   "execution_count": 91,
   "metadata": {
    "Collapsed": "false",
    "tags": [
     "4"
    ]
   },
   "outputs": [
    {
     "data": {
      "text/plain": [
       "(5, array([2, 5]))"
      ]
     },
     "execution_count": 91,
     "metadata": {},
     "output_type": "execute_result"
    }
   ],
   "source": [
    "import numpy as np\n",
    "a = np.arange(10)\n",
    "s1= a[5] #索引\n",
    "s2= a[2:8:3] #切片\n",
    "s1,s2"
   ]
  },
  {
   "cell_type": "markdown",
   "metadata": {
    "Collapsed": "false"
   },
   "source": [
    "另外，**`slice`**函数可以将切片过程分别进行："
   ]
  },
  {
   "cell_type": "code",
   "execution_count": 97,
   "metadata": {
    "Collapsed": "false",
    "tags": [
     "4"
    ]
   },
   "outputs": [
    {
     "data": {
      "text/plain": [
       "(array([0, 1, 2, 3, 4]), array([2, 5]))"
      ]
     },
     "execution_count": 97,
     "metadata": {},
     "output_type": "execute_result"
    }
   ],
   "source": [
    "s3 = slice(5)#stop=5\n",
    "s4 = slice(2,8,3) \n",
    "a[s3],a[s4]"
   ]
  },
  {
   "cell_type": "markdown",
   "metadata": {
    "Collapsed": "false"
   },
   "source": [
    "## 多维数组切片 "
   ]
  },
  {
   "cell_type": "markdown",
   "metadata": {
    "Collapsed": "false"
   },
   "source": [
    "多维数组同样适用上述索引提取方法："
   ]
  },
  {
   "cell_type": "code",
   "execution_count": 131,
   "metadata": {
    "Collapsed": "false",
    "tags": [
     "4"
    ]
   },
   "outputs": [
    {
     "data": {
      "text/plain": [
       "array([[[     0,      0,      0,  16420],\n",
       "        [-29789, -17874, -23832,  16423]],\n",
       "\n",
       "       [[  5958,  29789,  17873,  16427],\n",
       "        [-23832,  11915,  -5958,  16430]],\n",
       "\n",
       "       [[  5958,  29789,  17873,  16433],\n",
       "        [ 23831, -11916,   5957,  16435]]], dtype=int16)"
      ]
     },
     "execution_count": 131,
     "metadata": {},
     "output_type": "execute_result"
    }
   ],
   "source": [
    "b=np.empty(shape=(3,2,4),dtype=np.int16)\n",
    "b"
   ]
  },
  {
   "cell_type": "code",
   "execution_count": 132,
   "metadata": {
    "Collapsed": "false",
    "tags": [
     "4"
    ]
   },
   "outputs": [
    {
     "data": {
      "text/plain": [
       "array([[  5958,  29789,  17873,  16433],\n",
       "       [ 23831, -11916,   5957,  16435]], dtype=int16)"
      ]
     },
     "execution_count": 132,
     "metadata": {},
     "output_type": "execute_result"
    }
   ],
   "source": [
    "b[2] #在0轴上索引,此时shape=(2,4),降一维"
   ]
  },
  {
   "cell_type": "code",
   "execution_count": 133,
   "metadata": {
    "Collapsed": "false",
    "tags": [
     "4"
    ]
   },
   "outputs": [
    {
     "data": {
      "text/plain": [
       "array([ 23831, -11916,   5957,  16435], dtype=int16)"
      ]
     },
     "execution_count": 133,
     "metadata": {},
     "output_type": "execute_result"
    }
   ],
   "source": [
    "b[2,1] #继续在第1轴上索引,shape=(4,)，再降一维"
   ]
  },
  {
   "cell_type": "markdown",
   "metadata": {
    "Collapsed": "false"
   },
   "source": [
    "加上**`...`**可以表示在该轴上遍取，该轴的维度保留"
   ]
  },
  {
   "cell_type": "code",
   "execution_count": 141,
   "metadata": {
    "Collapsed": "false",
    "tags": [
     "4"
    ]
   },
   "outputs": [
    {
     "data": {
      "text/plain": [
       "array([[16420, 16423],\n",
       "       [16427, 16430],\n",
       "       [16433, 16435]], dtype=int16)"
      ]
     },
     "execution_count": 141,
     "metadata": {},
     "output_type": "execute_result"
    }
   ],
   "source": [
    "b[...,3] #shape=(3,2)，保留前两轴，去掉2轴所在的维度"
   ]
  },
  {
   "cell_type": "code",
   "execution_count": 135,
   "metadata": {
    "Collapsed": "false",
    "tags": [
     "4"
    ]
   },
   "outputs": [
    {
     "data": {
      "text/plain": [
       "array([29789, 11915], dtype=int16)"
      ]
     },
     "execution_count": 135,
     "metadata": {},
     "output_type": "execute_result"
    }
   ],
   "source": [
    "b[1,...,1] #shape=(2,),只保留第1轴所在的维度"
   ]
  },
  {
   "cell_type": "markdown",
   "metadata": {
    "Collapsed": "false"
   },
   "source": [
    "----"
   ]
  },
  {
   "cell_type": "markdown",
   "metadata": {
    "Collapsed": "false"
   },
   "source": [
    "# 高级索引 "
   ]
  },
  {
   "cell_type": "markdown",
   "metadata": {
    "Collapsed": "false"
   },
   "source": [
    "## 整数数组索引"
   ]
  },
  {
   "cell_type": "markdown",
   "metadata": {
    "Collapsed": "false"
   },
   "source": [
    "从下列可以看出，数组作为索引，相当于对每一个轴上的元素进行**压缩**，即：X\\[ax1,ax2,ax3,\\...]"
   ]
  },
  {
   "cell_type": "code",
   "execution_count": 208,
   "metadata": {
    "Collapsed": "false",
    "tags": [
     "5.1"
    ]
   },
   "outputs": [
    {
     "data": {
      "text/plain": [
       "array([[ 0,  1,  2],\n",
       "       [ 3,  4,  5],\n",
       "       [ 6,  7,  8],\n",
       "       [ 9, 10, 11]])"
      ]
     },
     "execution_count": 208,
     "metadata": {},
     "output_type": "execute_result"
    }
   ],
   "source": [
    "import numpy as np\n",
    "x = np.array([[  0,  1,  2],[  3,  4,  5],[  6,  7,  8],[  9,  10,  11]]) \n",
    "x"
   ]
  },
  {
   "cell_type": "code",
   "execution_count": 145,
   "metadata": {
    "Collapsed": "false",
    "tags": [
     "5.1"
    ]
   },
   "outputs": [
    {
     "data": {
      "text/plain": [
       "array([ 0,  2,  9, 11])"
      ]
     },
     "execution_count": 145,
     "metadata": {},
     "output_type": "execute_result"
    }
   ],
   "source": [
    "# 找到四个角点的两轴坐标，进行压缩：\n",
    "x[[0,0,3,3],[0,2,0,2]]"
   ]
  },
  {
   "cell_type": "code",
   "execution_count": 150,
   "metadata": {
    "Collapsed": "false",
    "tags": [
     "5.1"
    ]
   },
   "outputs": [
    {
     "data": {
      "text/plain": [
       "array([[ 0,  2],\n",
       "       [ 9, 11]])"
      ]
     },
     "execution_count": 150,
     "metadata": {},
     "output_type": "execute_result"
    }
   ],
   "source": [
    "# 还可以改变轴的shape,输出对应shape的索引值\n",
    "axis0=np.array([[0,0],[3,3]])\n",
    "axis1=[[0,2],[0,2]]\n",
    "x[axis0,axis1]"
   ]
  },
  {
   "cell_type": "markdown",
   "metadata": {
    "Collapsed": "false"
   },
   "source": [
    "同样，可以借助切片**`:`**或**`…`**与索引数组组合："
   ]
  },
  {
   "cell_type": "code",
   "execution_count": 151,
   "metadata": {
    "Collapsed": "false",
    "tags": [
     "5.1"
    ]
   },
   "outputs": [
    {
     "data": {
      "text/plain": [
       "array([[ 1,  2],\n",
       "       [ 4,  5],\n",
       "       [ 7,  8],\n",
       "       [10, 11]])"
      ]
     },
     "execution_count": 151,
     "metadata": {},
     "output_type": "execute_result"
    }
   ],
   "source": [
    "x[...,1:]"
   ]
  },
  {
   "cell_type": "markdown",
   "metadata": {
    "Collapsed": "false"
   },
   "source": [
    "此外，还可以改变**索引顺序**或**倒序**："
   ]
  },
  {
   "cell_type": "code",
   "execution_count": 215,
   "metadata": {
    "Collapsed": "false"
   },
   "outputs": [
    {
     "name": "stdout",
     "output_type": "stream",
     "text": [
      "[[ 9 10 11]\n",
      " [ 0  1  2]\n",
      " [ 3  4  5]\n",
      " [ 6  7  8]]\n",
      "[[ 9 10 11]\n",
      " [ 6  7  8]\n",
      " [ 3  4  5]\n",
      " [ 0  1  2]]\n"
     ]
    }
   ],
   "source": [
    "print(x[[3,0,1,2]],x[[-1,-2,-3,-4]],sep='\\n')"
   ]
  },
  {
   "cell_type": "markdown",
   "metadata": {
    "Collapsed": "false"
   },
   "source": [
    "## 布尔索引 "
   ]
  },
  {
   "cell_type": "markdown",
   "metadata": {
    "Collapsed": "false"
   },
   "source": [
    "布尔索引通过布尔运算（**如：比较运算符**）来获取符合指定条件的元素的数组。如下例展示了一个构造**Boolean array**的方法："
   ]
  },
  {
   "cell_type": "markdown",
   "metadata": {
    "Collapsed": "false"
   },
   "source": [
    "```Ipython\n",
    ">>>import numpy as np \n",
    ">>>x = np.arange(6).reshape(2,3)\n",
    ">>>x\n",
    "array([[0, 1, 2],\n",
    "       [3, 4, 5]])\n",
    ">>>y=x>3\n",
    ">>>y #y是一个Boolean array\n",
    "array([[False, False, False],\n",
    "       [False,  True,  True]])\n",
    ">>>x[y]\n",
    "array([ 4,  5])\n",
    "```"
   ]
  },
  {
   "cell_type": "code",
   "execution_count": 204,
   "metadata": {
    "Collapsed": "false"
   },
   "outputs": [
    {
     "data": {
      "text/plain": [
       "array([nan+0.j,  1.+0.j,  2.+0.j, nan+0.j,  3.+0.j,  4.+0.j,  3.+5.j])"
      ]
     },
     "execution_count": 204,
     "metadata": {},
     "output_type": "execute_result"
    }
   ],
   "source": [
    "#构造一个包含NaN(not a number)的数组a，层层筛分出奇数元素\n",
    "a = np.array([np.nan,1,2,np.nan,3,4,3+5j])\n",
    "a"
   ]
  },
  {
   "cell_type": "code",
   "execution_count": 205,
   "metadata": {
    "Collapsed": "false",
    "tags": [
     "5.2"
    ]
   },
   "outputs": [
    {
     "name": "stdout",
     "output_type": "stream",
     "text": [
      "[False  True  True False  True  True  True]\n",
      "[1.+0.j 2.+0.j 3.+0.j 4.+0.j 3.+5.j]\n"
     ]
    }
   ],
   "source": [
    "#第一步。过滤掉NaN\n",
    "b=~np.isnan(a)\n",
    "a=a[b]\n",
    "print(b,a,sep='\\n')"
   ]
  },
  {
   "cell_type": "code",
   "execution_count": 206,
   "metadata": {
    "Collapsed": "false",
    "tags": [
     "5.2"
    ]
   },
   "outputs": [
    {
     "data": {
      "text/plain": [
       "array([1.+0.j, 2.+0.j, 3.+0.j, 4.+0.j])"
      ]
     },
     "execution_count": 206,
     "metadata": {},
     "output_type": "execute_result"
    }
   ],
   "source": [
    "#第二步，过滤掉虚部不为0的复数\n",
    "a=a[~np.iscomplex(a)]\n",
    "a"
   ]
  },
  {
   "cell_type": "code",
   "execution_count": 207,
   "metadata": {
    "Collapsed": "false",
    "tags": [
     "5.2"
    ]
   },
   "outputs": [
    {
     "data": {
      "text/plain": [
       "array([1.+0.j, 3.+0.j])"
      ]
     },
     "execution_count": 207,
     "metadata": {},
     "output_type": "execute_result"
    }
   ],
   "source": [
    "#第三步，过滤掉实部为偶数的复数\n",
    "a=a[a.real%2!=0]\n",
    "a"
   ]
  },
  {
   "cell_type": "markdown",
   "metadata": {
    "Collapsed": "false"
   },
   "source": [
    "## **ix_()**函数"
   ]
  },
  {
   "cell_type": "markdown",
   "metadata": {
    "Collapsed": "false"
   },
   "source": [
    "例如我们对一个矩阵进行**行列交换**运算，可以用到**`ix()_`**函数"
   ]
  },
  {
   "cell_type": "code",
   "execution_count": 2,
   "metadata": {
    "Collapsed": "false",
    "tags": [
     "5.3"
    ]
   },
   "outputs": [
    {
     "data": {
      "text/plain": [
       "array([[ 0,  1,  2,  3],\n",
       "       [ 4,  5,  6,  7],\n",
       "       [ 8,  9, 10, 11],\n",
       "       [12, 13, 14, 15]])"
      ]
     },
     "execution_count": 2,
     "metadata": {},
     "output_type": "execute_result"
    }
   ],
   "source": [
    "import numpy as np \n",
    "x=np.arange(16).reshape((4,4))\n",
    "x"
   ]
  },
  {
   "cell_type": "code",
   "execution_count": 3,
   "metadata": {
    "Collapsed": "false",
    "tags": [
     "5.3"
    ]
   },
   "outputs": [
    {
     "data": {
      "text/plain": [
       "array([[ 1,  0,  3,  2],\n",
       "       [ 9,  8, 11, 10],\n",
       "       [13, 12, 15, 14],\n",
       "       [ 5,  4,  7,  6]])"
      ]
     },
     "execution_count": 3,
     "metadata": {},
     "output_type": "execute_result"
    }
   ],
   "source": [
    "# 对上面的矩阵先做行变换，再做列变换\n",
    "x[np.ix_([0,2,3,1],[1,0,3,2])]"
   ]
  },
  {
   "cell_type": "code",
   "execution_count": 4,
   "metadata": {
    "Collapsed": "false",
    "tags": [
     "5.3"
    ]
   },
   "outputs": [
    {
     "data": {
      "text/plain": [
       "array([[ 1,  3],\n",
       "       [ 9, 11]])"
      ]
     },
     "execution_count": 4,
     "metadata": {},
     "output_type": "execute_result"
    }
   ],
   "source": [
    "x[np.ix_([0,2],[1,3])]"
   ]
  },
  {
   "cell_type": "markdown",
   "metadata": {
    "Collapsed": "false"
   },
   "source": [
    "我们来看看`ix_`函数究竟做了哪些事情？如下所示，`ix_`函数其实是将整数数组索引方法拆分成了**N个一维向量**，每个向量占据不同的维度："
   ]
  },
  {
   "cell_type": "code",
   "execution_count": 6,
   "metadata": {
    "Collapsed": "false",
    "tags": [
     "5.3"
    ]
   },
   "outputs": [
    {
     "data": {
      "text/plain": [
       "(array([[0],\n",
       "        [2]]), array([[1, 3]]))"
      ]
     },
     "execution_count": 6,
     "metadata": {},
     "output_type": "execute_result"
    }
   ],
   "source": [
    "y=np.ix_([0,2],[1,3])\n",
    "y"
   ]
  },
  {
   "cell_type": "code",
   "execution_count": 7,
   "metadata": {
    "Collapsed": "false",
    "tags": [
     "5.3"
    ]
   },
   "outputs": [
    {
     "data": {
      "text/plain": [
       "((2, 1), (1, 2))"
      ]
     },
     "execution_count": 7,
     "metadata": {},
     "output_type": "execute_result"
    }
   ],
   "source": [
    "y[0].shape,y[1].shape"
   ]
  },
  {
   "cell_type": "markdown",
   "metadata": {
    "Collapsed": "false"
   },
   "source": [
    "----"
   ]
  },
  {
   "cell_type": "markdown",
   "metadata": {
    "Collapsed": "false"
   },
   "source": [
    "# 广播(Broadcast) "
   ]
  },
  {
   "cell_type": "markdown",
   "metadata": {
    "Collapsed": "false"
   },
   "source": [
    "广播(Broadcast)是 numpy 对不同形状(shape)的数组进行数值计算的方式， 对数组的算术运算通常在相应的元素上进行"
   ]
  },
  {
   "cell_type": "markdown",
   "metadata": {
    "Collapsed": "false"
   },
   "source": [
    "如果两个数组 a 和 b 形状相同，即满足 a.shape == b.shape，那么 a*b 的结果就是 a 与 b 数组对应位相乘。这要求维数相同，且各维度的长度相同。"
   ]
  },
  {
   "cell_type": "code",
   "execution_count": 11,
   "metadata": {
    "Collapsed": "false",
    "tags": [
     "6"
    ]
   },
   "outputs": [
    {
     "data": {
      "text/plain": [
       "array([ 10,  40,  90, 160])"
      ]
     },
     "execution_count": 11,
     "metadata": {},
     "output_type": "execute_result"
    }
   ],
   "source": [
    "import numpy as np \n",
    "a = np.array([1,2,3,4]) \n",
    "b = np.array([10,20,30,40]) \n",
    "c = a * b \n",
    "c"
   ]
  },
  {
   "cell_type": "markdown",
   "metadata": {
    "Collapsed": "false"
   },
   "source": [
    "若 2 个数组的形状不同时，numpy 将自动触发广播机制。如下例即时将b沿0轴扩展4倍："
   ]
  },
  {
   "cell_type": "code",
   "execution_count": 12,
   "metadata": {
    "Collapsed": "false",
    "tags": [
     "6"
    ]
   },
   "outputs": [
    {
     "data": {
      "text/plain": [
       "array([[ 1,  2,  3],\n",
       "       [11, 12, 13],\n",
       "       [21, 22, 23],\n",
       "       [31, 32, 33]])"
      ]
     },
     "execution_count": 12,
     "metadata": {},
     "output_type": "execute_result"
    }
   ],
   "source": [
    "a = np.array([[ 0, 0, 0],\n",
    "           [10,10,10],\n",
    "           [20,20,20],\n",
    "           [30,30,30]])\n",
    "b = np.array([1,2,3])\n",
    "c = a+b\n",
    "c"
   ]
  },
  {
   "cell_type": "markdown",
   "metadata": {
    "Collapsed": "false"
   },
   "source": [
    ">***广播的规则:***\n",
    ">- 让所有输入数组都向其中形状最长的数组看齐，形状中不足的部分都通过在前面加 1 补齐。\n",
    ">- 输出数组的形状是输入数组形状的各个维度上的最大值。\n",
    ">- 如果输入数组的某个维度和输出数组的对应维度的长度相同或者其长度为 1 时，这个数组能够用来计算，否则出错。\n",
    ">- 当输入数组的某个维度的长度为 1 时，沿着此维度运算时都用此维度上的第一组值。"
   ]
  },
  {
   "cell_type": "markdown",
   "metadata": {
    "Collapsed": "false"
   },
   "source": [
    "再举一个复杂的例子："
   ]
  },
  {
   "cell_type": "code",
   "execution_count": 13,
   "metadata": {
    "Collapsed": "false",
    "tags": [
     "6"
    ]
   },
   "outputs": [
    {
     "data": {
      "text/plain": [
       "((2, 1, 1), (1, 3, 1), (1, 1, 4))"
      ]
     },
     "execution_count": 13,
     "metadata": {},
     "output_type": "execute_result"
    }
   ],
   "source": [
    "a = np.array([0,1])\n",
    "b = np.array([0,1,2])\n",
    "c = np.array([0,1,2,3])\n",
    "ax,bx,cx = np.ix_(a,b,c)\n",
    "ax.shape,bx.shape,cx.shape"
   ]
  },
  {
   "cell_type": "code",
   "execution_count": 18,
   "metadata": {
    "Collapsed": "false",
    "tags": [
     "6"
    ]
   },
   "outputs": [
    {
     "data": {
      "text/plain": [
       "(array([[[0, 0, 0, 0],\n",
       "         [0, 0, 0, 0],\n",
       "         [0, 0, 0, 0]],\n",
       " \n",
       "        [[0, 0, 0, 0],\n",
       "         [0, 1, 2, 3],\n",
       "         [0, 2, 4, 6]]]), (2, 3, 4))"
      ]
     },
     "execution_count": 18,
     "metadata": {},
     "output_type": "execute_result"
    }
   ],
   "source": [
    "abc_product=ax*bx*cx\n",
    "abc_product,abc_product.shape"
   ]
  },
  {
   "cell_type": "code",
   "execution_count": 21,
   "metadata": {
    "Collapsed": "false",
    "tags": [
     "6"
    ]
   },
   "outputs": [
    {
     "data": {
      "text/plain": [
       "(array([[[0, 1, 2, 3],\n",
       "         [1, 2, 3, 4],\n",
       "         [2, 3, 4, 5]],\n",
       " \n",
       "        [[1, 2, 3, 4],\n",
       "         [2, 3, 4, 5],\n",
       "         [3, 4, 5, 6]]]), (2, 3, 4))"
      ]
     },
     "execution_count": 21,
     "metadata": {},
     "output_type": "execute_result"
    }
   ],
   "source": [
    "abc_sum=ax+bx+cx\n",
    "abc_sum,abc_sum.shape"
   ]
  },
  {
   "cell_type": "markdown",
   "metadata": {
    "Collapsed": "false"
   },
   "source": [
    "----"
   ]
  },
  {
   "cell_type": "markdown",
   "metadata": {
    "Collapsed": "false"
   },
   "source": [
    "# 迭代数组 "
   ]
  },
  {
   "cell_type": "markdown",
   "metadata": {
    "Collapsed": "false"
   },
   "source": [
    "## 迭代器numpy.nditer "
   ]
  },
  {
   "cell_type": "markdown",
   "metadata": {
    "Collapsed": "false"
   },
   "source": [
    "**`numpy.nditer`**提供了一种灵活访问一个或者多个数组元素的方式，如下例："
   ]
  },
  {
   "cell_type": "code",
   "execution_count": 46,
   "metadata": {
    "Collapsed": "false",
    "tags": [
     "7.1-2"
    ]
   },
   "outputs": [
    {
     "name": "stdout",
     "output_type": "stream",
     "text": [
      "0, 1, 2, 3, 4, 5, "
     ]
    }
   ],
   "source": [
    "import numpy as np\n",
    "a = np.arange(6).reshape(2,3)\n",
    "for x in np.nditer(a):\n",
    "    print (x, end=\", \" )"
   ]
  },
  {
   "cell_type": "markdown",
   "metadata": {
    "Collapsed": "false"
   },
   "source": [
    "输出顺序是和数组内存布局一致的，这样做是为了提升访问的效率，默认是**行序优先**（row-major order，或者说是**C-order**）"
   ]
  },
  {
   "cell_type": "markdown",
   "metadata": {
    "Collapsed": "false"
   },
   "source": [
    "此外，转置矩阵自动调整***order***为***F-order***"
   ]
  },
  {
   "cell_type": "code",
   "execution_count": 30,
   "metadata": {
    "Collapsed": "false",
    "tags": [
     "7.1-2"
    ]
   },
   "outputs": [
    {
     "data": {
      "text/plain": [
       "array([[0, 3],\n",
       "       [1, 4],\n",
       "       [2, 5]])"
      ]
     },
     "execution_count": 30,
     "metadata": {},
     "output_type": "execute_result"
    }
   ],
   "source": [
    "a.T "
   ]
  },
  {
   "cell_type": "code",
   "execution_count": 31,
   "metadata": {
    "Collapsed": "false",
    "tags": [
     "7.1-2"
    ]
   },
   "outputs": [
    {
     "name": "stdout",
     "output_type": "stream",
     "text": [
      "0, 1, 2, 3, 4, 5, "
     ]
    }
   ],
   "source": [
    "for x in np.nditer(a):\n",
    "    print (x, end=\", \" )"
   ]
  },
  {
   "cell_type": "code",
   "execution_count": 32,
   "metadata": {
    "Collapsed": "false",
    "tags": [
     "7.1-2"
    ]
   },
   "outputs": [
    {
     "name": "stdout",
     "output_type": "stream",
     "text": [
      "0, 3, 1, 4, 2, 5, "
     ]
    }
   ],
   "source": [
    "b=np.array([[0, 3],\n",
    "       [1, 4],\n",
    "       [2, 5]])\n",
    "for x in np.nditer(b):\n",
    "    print (x, end=\", \" )"
   ]
  },
  {
   "cell_type": "markdown",
   "metadata": {
    "Collapsed": "false"
   },
   "source": [
    "我们也可以以**F-order**的方式**复制a**，在以列序优先方式输出："
   ]
  },
  {
   "cell_type": "code",
   "execution_count": 33,
   "metadata": {
    "Collapsed": "false",
    "tags": [
     "7.1-2"
    ]
   },
   "outputs": [
    {
     "name": "stdout",
     "output_type": "stream",
     "text": [
      "0, 3, 1, 4, 2, 5, "
     ]
    }
   ],
   "source": [
    "for x in np.nditer(a.copy(order='F')):\n",
    "    print (x, end=\", \" )"
   ]
  },
  {
   "cell_type": "markdown",
   "metadata": {
    "Collapsed": "false"
   },
   "source": [
    "##  控制遍历顺序-order参数"
   ]
  },
  {
   "cell_type": "markdown",
   "metadata": {
    "Collapsed": "false"
   },
   "source": [
    "除了复制数组a，并改变排序方式之外，我们也可以直接在`nditer`迭代器里添加`order`参数"
   ]
  },
  {
   "cell_type": "code",
   "execution_count": 34,
   "metadata": {
    "Collapsed": "false",
    "tags": [
     "7.1-2"
    ]
   },
   "outputs": [
    {
     "name": "stdout",
     "output_type": "stream",
     "text": [
      "0, 3, 1, 4, 2, 5, "
     ]
    }
   ],
   "source": [
    "for x in np.nditer(a,order='F'):\n",
    "    print (x, end=\", \" )"
   ]
  },
  {
   "cell_type": "markdown",
   "metadata": {
    "Collapsed": "false"
   },
   "source": [
    "##  修改数组中的元素-op_flags参数"
   ]
  },
  {
   "cell_type": "markdown",
   "metadata": {
    "Collapsed": "false"
   },
   "source": [
    "`nditer` 对象有另一个可选参数 **`op_flags`**。 默认情况下，nditer 将视待迭代遍历的数组为**只读对象（read-only）**，为了在遍历数组的同时，实现对数组元素值得修改，必须指定**read-write  或者write-only** 的模式"
   ]
  },
  {
   "cell_type": "code",
   "execution_count": 49,
   "metadata": {
    "Collapsed": "false",
    "tags": [
     "7.3"
    ]
   },
   "outputs": [
    {
     "name": "stdout",
     "output_type": "stream",
     "text": [
      "0, 1, 2, 3, 4, 5, "
     ]
    },
    {
     "data": {
      "text/plain": [
       "array([[ 0,  2,  4],\n",
       "       [ 6,  8, 10]])"
      ]
     },
     "execution_count": 49,
     "metadata": {},
     "output_type": "execute_result"
    }
   ],
   "source": [
    "a = np.arange(6).reshape(2,3)\n",
    "for x in np.nditer(a,op_flags=('readwrite',)):\n",
    "    #注意，op_flags参数很多，一般用元组表示\n",
    "    print (x, end=\", \" )\n",
    "    x*=2\n",
    "a"
   ]
  },
  {
   "cell_type": "markdown",
   "metadata": {
    "Collapsed": "false"
   },
   "source": [
    "## 使用外部循环-flags参数"
   ]
  },
  {
   "cell_type": "markdown",
   "metadata": {
    "Collapsed": "false"
   },
   "source": [
    "nditer类的构造器拥有`flags`参数，包括`external_loop`子参数：给出的值是具有多个值的一维数组，而不是零维数组"
   ]
  },
  {
   "cell_type": "code",
   "execution_count": 62,
   "metadata": {
    "Collapsed": "false",
    "tags": [
     "7.4"
    ]
   },
   "outputs": [
    {
     "name": "stdout",
     "output_type": "stream",
     "text": [
      "[ 0  1  2  3  4  5  6  7  8  9 10 11 12 13 14 15 16 17 18 19 20 21 22 23]\n"
     ]
    }
   ],
   "source": [
    "a = np.arange(24).reshape(2,3,4)\n",
    "for x in np.nditer(a,flags =('external_loop',)):  \n",
    "   print(x)"
   ]
  },
  {
   "cell_type": "markdown",
   "metadata": {
    "Collapsed": "false"
   },
   "source": [
    "## 广播迭代"
   ]
  },
  {
   "cell_type": "markdown",
   "metadata": {
    "Collapsed": "false"
   },
   "source": [
    "如果两个数组是可广播的，`nditer`能够同时迭代它们"
   ]
  },
  {
   "cell_type": "code",
   "execution_count": 67,
   "metadata": {
    "Collapsed": "false",
    "tags": [
     "7.5"
    ]
   },
   "outputs": [
    {
     "name": "stdout",
     "output_type": "stream",
     "text": [
      "0:0 , 0:1 , 0:2 , 0:3 , 1:0 , 1:1 , 1:2 , 1:3 , "
     ]
    }
   ],
   "source": [
    "a = np.array([0,1])\n",
    "c = np.array([0,1,2,3])\n",
    "ax,cx = np.ix_(a,c)\n",
    "for i,j in np.nditer([ax,cx]):  \n",
    "    print('{}:{}'.format(i,j),end=' , ')"
   ]
  },
  {
   "cell_type": "markdown",
   "metadata": {
    "Collapsed": "false"
   },
   "source": [
    "----"
   ]
  },
  {
   "cell_type": "markdown",
   "metadata": {
    "Collapsed": "false"
   },
   "source": [
    "# 数组操作 "
   ]
  },
  {
   "cell_type": "markdown",
   "metadata": {
    "Collapsed": "false"
   },
   "source": [
    "## 修改数组形状 "
   ]
  },
  {
   "cell_type": "markdown",
   "metadata": {
    "Collapsed": "false"
   },
   "source": [
    "|函数/方法|描述|\n",
    "|:----|:----|\n",
    "|reshape|不改变数据的条件下修改形状|\n",
    "|ndarray.flat|数组元素迭代器|\n",
    "|ndarray.flatten|返回一份数组拷贝，对拷贝所做的修改不会影响原始数组|\n",
    "|ravel|返回展开数组|"
   ]
  },
  {
   "cell_type": "markdown",
   "metadata": {
    "Collapsed": "false"
   },
   "source": [
    "### numpy.reshape "
   ]
  },
  {
   "cell_type": "markdown",
   "metadata": {
    "Collapsed": "false"
   },
   "source": [
    "```Python\n",
    "numpy.reshape(ndarray, newshape, order='C')\n",
    "```"
   ]
  },
  {
   "cell_type": "markdown",
   "metadata": {
    "Collapsed": "false"
   },
   "source": [
    "### numpy.ndarray.flat"
   ]
  },
  {
   "cell_type": "markdown",
   "metadata": {
    "Collapsed": "false"
   },
   "source": [
    "前述介绍过迭代器`numpy.nditer`，与此类似，`flat`也是对元素迭代，当然，由于它**not callable**，作用远不及前者："
   ]
  },
  {
   "cell_type": "code",
   "execution_count": 71,
   "metadata": {
    "Collapsed": "false",
    "tags": [
     "8.1"
    ]
   },
   "outputs": [
    {
     "name": "stdout",
     "output_type": "stream",
     "text": [
      "0,1,2,3,4,5,"
     ]
    }
   ],
   "source": [
    "a = np.arange(6).reshape(2,3)\n",
    "for x in a.flat:\n",
    "    print(x,end=',')"
   ]
  },
  {
   "cell_type": "markdown",
   "metadata": {
    "Collapsed": "false"
   },
   "source": [
    "### numpy.ndarray.flatten"
   ]
  },
  {
   "cell_type": "markdown",
   "metadata": {
    "Collapsed": "false"
   },
   "source": [
    "`flatten`将多维数组**展平**为一维向量，不过仅是生成一份拷贝，不会对原数组影响："
   ]
  },
  {
   "cell_type": "code",
   "execution_count": 87,
   "metadata": {
    "Collapsed": "false",
    "tags": [
     "8.1"
    ]
   },
   "outputs": [
    {
     "data": {
      "text/plain": [
       "array([0, 3, 1, 4, 2, 5])"
      ]
     },
     "execution_count": 87,
     "metadata": {},
     "output_type": "execute_result"
    }
   ],
   "source": [
    "a.flatten(order='F')"
   ]
  },
  {
   "cell_type": "markdown",
   "metadata": {
    "Collapsed": "false"
   },
   "source": [
    "### numpy.ravel"
   ]
  },
  {
   "cell_type": "markdown",
   "metadata": {
    "Collapsed": "false"
   },
   "source": [
    "同样是展平成一维向量："
   ]
  },
  {
   "cell_type": "code",
   "execution_count": 89,
   "metadata": {
    "Collapsed": "false",
    "tags": [
     "8.1"
    ]
   },
   "outputs": [
    {
     "data": {
      "text/plain": [
       "array([0, 3, 1, 4, 2, 5])"
      ]
     },
     "execution_count": 89,
     "metadata": {},
     "output_type": "execute_result"
    }
   ],
   "source": [
    "np.ravel(a,order='F')"
   ]
  },
  {
   "cell_type": "markdown",
   "metadata": {
    "Collapsed": "false"
   },
   "source": [
    "## 翻转数组"
   ]
  },
  {
   "cell_type": "markdown",
   "metadata": {
    "Collapsed": "false"
   },
   "source": [
    "|函数/方法|描述|\n",
    "|:----:|:----:|\n",
    "|transpose|对调维度，即转置|\n",
    "|ndarray.T|同上，转置矩阵|\n",
    "|rollaxis|向后滚动指定的轴|\n",
    "|swapaxes|对换数组的两个轴|"
   ]
  },
  {
   "cell_type": "markdown",
   "metadata": {
    "Collapsed": "false"
   },
   "source": [
    "### numpy.transpose "
   ]
  },
  {
   "cell_type": "code",
   "execution_count": 97,
   "metadata": {
    "Collapsed": "false",
    "tags": [
     "8.2"
    ]
   },
   "outputs": [
    {
     "data": {
      "text/plain": [
       "(4, 3, 2, 1)"
      ]
     },
     "execution_count": 97,
     "metadata": {},
     "output_type": "execute_result"
    }
   ],
   "source": [
    "a=np.arange(24).reshape(1,2,3,4)\n",
    "np.transpose(a).shape"
   ]
  },
  {
   "cell_type": "code",
   "execution_count": 98,
   "metadata": {
    "Collapsed": "false",
    "tags": [
     "8.2"
    ]
   },
   "outputs": [
    {
     "data": {
      "text/plain": [
       "(4, 3, 2, 1)"
      ]
     },
     "execution_count": 98,
     "metadata": {},
     "output_type": "execute_result"
    }
   ],
   "source": [
    "a.T.shape"
   ]
  },
  {
   "cell_type": "markdown",
   "metadata": {
    "Collapsed": "false"
   },
   "source": [
    "### numpy.rollaxis"
   ]
  },
  {
   "cell_type": "markdown",
   "metadata": {
    "Collapsed": "false"
   },
   "source": [
    "`numpy.rollaxis`函数向后滚动特定的轴到一个特定位置，格式如下：\n",
    "```Python\n",
    "numpy.rollaxis(arr, axis, start)\n",
    "```\n",
    "`start`：默认为零，表示完整的滚动。会滚动到特定位置"
   ]
  },
  {
   "cell_type": "code",
   "execution_count": 100,
   "metadata": {
    "Collapsed": "false",
    "tags": [
     "8.2"
    ]
   },
   "outputs": [
    {
     "data": {
      "text/plain": [
       "array([[[0, 1],\n",
       "        [2, 3]],\n",
       "\n",
       "       [[4, 5],\n",
       "        [6, 7]]])"
      ]
     },
     "execution_count": 100,
     "metadata": {},
     "output_type": "execute_result"
    }
   ],
   "source": [
    "a = np.arange(8).reshape(2,2,2)\n",
    "a"
   ]
  },
  {
   "cell_type": "markdown",
   "metadata": {
    "Collapsed": "false"
   },
   "source": [
    "将2轴移到0轴，原0轴、1轴依次后退："
   ]
  },
  {
   "cell_type": "code",
   "execution_count": 101,
   "metadata": {
    "Collapsed": "false",
    "tags": [
     "8.2"
    ]
   },
   "outputs": [
    {
     "data": {
      "text/plain": [
       "array([[[0, 2],\n",
       "        [4, 6]],\n",
       "\n",
       "       [[1, 3],\n",
       "        [5, 7]]])"
      ]
     },
     "execution_count": 101,
     "metadata": {},
     "output_type": "execute_result"
    }
   ],
   "source": [
    "np.rollaxis(a,2)"
   ]
  },
  {
   "cell_type": "markdown",
   "metadata": {
    "Collapsed": "false"
   },
   "source": [
    "移轴是如何完成的呢？默认C-order下,原数组中“3”的坐标为:(0,1,1),移轴后坐标为：(1,0,1)，即换到了原来的“5”位置"
   ]
  },
  {
   "cell_type": "markdown",
   "metadata": {
    "Collapsed": "false"
   },
   "source": [
    "### numpy.swapaxis"
   ]
  },
  {
   "cell_type": "markdown",
   "metadata": {
    "Collapsed": "false"
   },
   "source": [
    "`numpy.swapaxes `函数用于交换数组的两个轴，格式如下：\n",
    "```Python\n",
    "numpy.swapaxes(arr, axis1, axis2)\n",
    "```"
   ]
  },
  {
   "cell_type": "code",
   "execution_count": 102,
   "metadata": {
    "Collapsed": "false",
    "tags": [
     "8.2"
    ]
   },
   "outputs": [
    {
     "data": {
      "text/plain": [
       "array([[[0, 2],\n",
       "        [4, 6]],\n",
       "\n",
       "       [[1, 3],\n",
       "        [5, 7]]])"
      ]
     },
     "execution_count": 102,
     "metadata": {},
     "output_type": "execute_result"
    }
   ],
   "source": [
    "np.rollaxis(a,2,0)"
   ]
  },
  {
   "cell_type": "markdown",
   "metadata": {
    "Collapsed": "false"
   },
   "source": [
    "## 修改数组维度"
   ]
  },
  {
   "cell_type": "markdown",
   "metadata": {
    "Collapsed": "false"
   },
   "source": [
    "|函数/方法|描述|\n",
    "|:----:|:----:|\n",
    "|broadcast|产生模仿广播的对象|\n",
    "|broadcast_to|将数组广播到新形状|\n",
    "|expand_dims|\t扩展数组的形状|\n",
    "|squeeze|从数组的形状中删除一维条目|"
   ]
  },
  {
   "cell_type": "markdown",
   "metadata": {
    "Collapsed": "false"
   },
   "source": [
    "### numpy.broadcast "
   ]
  },
  {
   "cell_type": "markdown",
   "metadata": {
    "Collapsed": "false"
   },
   "source": [
    " 用于模仿广播的对象，它返回一个对象，该对象封装了将一个数组广播到另一个数组的结果，该函数使用两个数组作为输入参数"
   ]
  },
  {
   "cell_type": "code",
   "execution_count": 106,
   "metadata": {
    "Collapsed": "false",
    "tags": [
     "8.3"
    ]
   },
   "outputs": [
    {
     "name": "stdout",
     "output_type": "stream",
     "text": [
      "(3, 3) <class 'numpy.broadcast'>\n",
      "(0, 0),(1, 0),(2, 0),(0, 1),(1, 1),(2, 1),(0, 2),(1, 2),(2, 2),"
     ]
    }
   ],
   "source": [
    "a=np.arange(3).reshape(1,3)\n",
    "b=np.arange(3).reshape(3,1)\n",
    "c=np.broadcast(a,b)\n",
    "print(c.shape,type(c))\n",
    "for x in c:\n",
    "    print(x,end=',')"
   ]
  },
  {
   "cell_type": "markdown",
   "metadata": {
    "Collapsed": "false"
   },
   "source": [
    "### numpy.broadcast_to"
   ]
  },
  {
   "cell_type": "markdown",
   "metadata": {
    "Collapsed": "false"
   },
   "source": [
    "将数组广播到新形状：\n",
    "```Python\n",
    "numpy.broadcast_to(array, shape, subok)\n",
    "```"
   ]
  },
  {
   "cell_type": "code",
   "execution_count": 114,
   "metadata": {
    "Collapsed": "false",
    "tags": [
     "8.3"
    ]
   },
   "outputs": [
    {
     "data": {
      "text/plain": [
       "array([[0, 1, 2],\n",
       "       [0, 1, 2],\n",
       "       [0, 1, 2]])"
      ]
     },
     "execution_count": 114,
     "metadata": {},
     "output_type": "execute_result"
    }
   ],
   "source": [
    "a1=np.broadcast_to(a,(3,3))\n",
    "a1"
   ]
  },
  {
   "cell_type": "markdown",
   "metadata": {
    "Collapsed": "false"
   },
   "source": [
    "### numpy.expand_dims"
   ]
  },
  {
   "cell_type": "markdown",
   "metadata": {
    "Collapsed": "false"
   },
   "source": [
    "通过在指定位置插入新的轴来扩展数组形状，函数格式如下:\n",
    "```Python\n",
    " numpy.expand_dims(arr, axis)\n",
    "```"
   ]
  },
  {
   "cell_type": "code",
   "execution_count": 118,
   "metadata": {
    "Collapsed": "false",
    "tags": [
     "8.3"
    ]
   },
   "outputs": [
    {
     "data": {
      "text/plain": [
       "(3, 3, 1)"
      ]
     },
     "execution_count": 118,
     "metadata": {},
     "output_type": "execute_result"
    }
   ],
   "source": [
    "a2=np.expand_dims(a1, axis = 2)\n",
    "a2.shape"
   ]
  },
  {
   "cell_type": "markdown",
   "metadata": {
    "Collapsed": "false"
   },
   "source": [
    "### numpy.squeeze"
   ]
  },
  {
   "cell_type": "markdown",
   "metadata": {
    "Collapsed": "false"
   },
   "source": [
    "从给定数组的形状中删除一维的条目，函数格式如下：\n",
    "```Python\n",
    "numpy.squeeze(arr, axis)\n",
    "```"
   ]
  },
  {
   "cell_type": "code",
   "execution_count": 120,
   "metadata": {
    "Collapsed": "false",
    "tags": [
     "8.3"
    ]
   },
   "outputs": [
    {
     "data": {
      "text/plain": [
       "(3, 3)"
      ]
     },
     "execution_count": 120,
     "metadata": {},
     "output_type": "execute_result"
    }
   ],
   "source": [
    "a3=np.squeeze(a2,axis=2)\n",
    "a3.shape"
   ]
  },
  {
   "cell_type": "markdown",
   "metadata": {
    "Collapsed": "false"
   },
   "source": [
    "## 连接数组"
   ]
  },
  {
   "cell_type": "markdown",
   "metadata": {
    "Collapsed": "false"
   },
   "source": [
    "|函数|描述|\n",
    "|:----:|:----:|\n",
    "|concatenate|连接沿现有轴的数组序列|\n",
    "|stack|沿着新的轴加入一系列数组|\n",
    "|hstack|水平堆叠序列中的数组（列方向）|\n",
    "|vstack|竖直堆叠序列中的数组（行方向）|"
   ]
  },
  {
   "cell_type": "markdown",
   "metadata": {
    "Collapsed": "false"
   },
   "source": [
    "### numpy.concatenate"
   ]
  },
  {
   "cell_type": "markdown",
   "metadata": {
    "Collapsed": "false"
   },
   "source": [
    "用于沿指定轴连接**相同形状**的两个或多个数组，格式如下：\n",
    "```Python\n",
    "numpy.concatenate((a1, a2, ...), axis=0)\n",
    "```"
   ]
  },
  {
   "cell_type": "code",
   "execution_count": 136,
   "metadata": {
    "Collapsed": "false",
    "tags": [
     "8.4"
    ]
   },
   "outputs": [
    {
     "data": {
      "text/plain": [
       "(array([[0, 1, 2],\n",
       "        [3, 4, 5]]), (2, 3))"
      ]
     },
     "execution_count": 136,
     "metadata": {},
     "output_type": "execute_result"
    }
   ],
   "source": [
    "a=np.arange(3).reshape(1,3)\n",
    "b=np.arange(3,6).reshape(1,3)\n",
    "c0=np.concatenate((a,b),0)\n",
    "c0,c0.shape"
   ]
  },
  {
   "cell_type": "code",
   "execution_count": 137,
   "metadata": {
    "Collapsed": "false",
    "tags": [
     "8.4"
    ]
   },
   "outputs": [
    {
     "data": {
      "text/plain": [
       "(array([[0, 1, 2, 3, 4, 5]]), (1, 6))"
      ]
     },
     "execution_count": 137,
     "metadata": {},
     "output_type": "execute_result"
    }
   ],
   "source": [
    "c1=np.concatenate((a,b),1)\n",
    "c1,c1.shape"
   ]
  },
  {
   "cell_type": "markdown",
   "metadata": {
    "Collapsed": "false"
   },
   "source": [
    "### numpy.stack"
   ]
  },
  {
   "cell_type": "markdown",
   "metadata": {
    "Collapsed": "false"
   },
   "source": [
    "用于沿**新轴**连接**相同形状**数组序列，格式如下：\n",
    "```Python\n",
    "numpy.stack(*arrays, axis)\n",
    "```"
   ]
  },
  {
   "cell_type": "code",
   "execution_count": 132,
   "metadata": {
    "Collapsed": "false",
    "tags": [
     "8.4"
    ]
   },
   "outputs": [
    {
     "data": {
      "text/plain": [
       "(array([[[0, 1, 2]],\n",
       " \n",
       "        [[3, 4, 5]]]), (2, 1, 3))"
      ]
     },
     "execution_count": 132,
     "metadata": {},
     "output_type": "execute_result"
    }
   ],
   "source": [
    "s0=np.stack((a,b),0)\n",
    "s0,s0.shape"
   ]
  },
  {
   "cell_type": "code",
   "execution_count": 133,
   "metadata": {
    "Collapsed": "false",
    "tags": [
     "8.4"
    ]
   },
   "outputs": [
    {
     "data": {
      "text/plain": [
       "(array([[[0, 1, 2],\n",
       "         [3, 4, 5]]]), (1, 2, 3))"
      ]
     },
     "execution_count": 133,
     "metadata": {},
     "output_type": "execute_result"
    }
   ],
   "source": [
    "s1=np.stack((a,b),1)\n",
    "s1,s1.shape"
   ]
  },
  {
   "cell_type": "markdown",
   "metadata": {
    "Collapsed": "false"
   },
   "source": [
    "### numpy.hsatck与.vstack"
   ]
  },
  {
   "cell_type": "markdown",
   "metadata": {
    "Collapsed": "false"
   },
   "source": [
    "两者是`concatenate`函数的变体，分别沿水平、竖直方向沿**新轴**堆叠"
   ]
  },
  {
   "cell_type": "code",
   "execution_count": 134,
   "metadata": {
    "Collapsed": "false",
    "tags": [
     "8.4"
    ]
   },
   "outputs": [
    {
     "data": {
      "text/plain": [
       "(array([[0, 1, 2, 3, 4, 5]]), (1, 6))"
      ]
     },
     "execution_count": 134,
     "metadata": {},
     "output_type": "execute_result"
    }
   ],
   "source": [
    "h=np.hstack((a,b))\n",
    "h,h.shape"
   ]
  },
  {
   "cell_type": "code",
   "execution_count": 135,
   "metadata": {
    "Collapsed": "false",
    "tags": [
     "8.4"
    ]
   },
   "outputs": [
    {
     "data": {
      "text/plain": [
       "(array([[0, 1, 2],\n",
       "        [3, 4, 5]]), (2, 3))"
      ]
     },
     "execution_count": 135,
     "metadata": {},
     "output_type": "execute_result"
    }
   ],
   "source": [
    "v=np.vstack((a,b))\n",
    "v,v.shape"
   ]
  },
  {
   "cell_type": "markdown",
   "metadata": {
    "Collapsed": "false"
   },
   "source": [
    "## 分割数组"
   ]
  },
  {
   "cell_type": "markdown",
   "metadata": {
    "Collapsed": "false"
   },
   "source": [
    "|函数|描述|\n",
    "|:----:|:----:|\n",
    "|split|将一个数组分割为多个子数组|\n",
    "|hsplit|将一个数组水平分割为多个子数组（按列）|\n",
    "|vsplit|将一个数组垂直分割为多个子数组（按行）|"
   ]
  },
  {
   "cell_type": "markdown",
   "metadata": {
    "Collapsed": "false"
   },
   "source": [
    "### numpy.split "
   ]
  },
  {
   "cell_type": "markdown",
   "metadata": {
    "Collapsed": "false"
   },
   "source": [
    "沿特定的轴将数组分割为子数组，格式如下：\n",
    "```Python\n",
    "numpy.split(ary, indices_or_sections, axis)\n",
    "```\n",
    "`indices_or_sections`：若为num，则按该数均分；若为数组，则划定了切分位置（左开右闭）\n",
    "\n",
    "`axis`：沿着哪个维度进行切向，默认为0，横向切分。为1时，纵向切分"
   ]
  },
  {
   "cell_type": "code",
   "execution_count": 139,
   "metadata": {
    "Collapsed": "false",
    "tags": [
     "8.5"
    ]
   },
   "outputs": [
    {
     "data": {
      "text/plain": [
       "[array([0, 1, 2]), array([3, 4, 5]), array([6, 7, 8])]"
      ]
     },
     "execution_count": 139,
     "metadata": {},
     "output_type": "execute_result"
    }
   ],
   "source": [
    "a = np.arange(9)\n",
    "s0=np.split(a,3,0)\n",
    "s0"
   ]
  },
  {
   "cell_type": "code",
   "execution_count": 141,
   "metadata": {
    "Collapsed": "false",
    "tags": [
     "8.5"
    ]
   },
   "outputs": [
    {
     "data": {
      "text/plain": [
       "[array([0, 1, 2, 3]), array([4, 5, 6]), array([7, 8])]"
      ]
     },
     "execution_count": 141,
     "metadata": {},
     "output_type": "execute_result"
    }
   ],
   "source": [
    "s1=np.split(a,[4,7],0)\n",
    "s1"
   ]
  },
  {
   "cell_type": "code",
   "execution_count": 157,
   "metadata": {
    "Collapsed": "false",
    "tags": [
     "8.5"
    ]
   },
   "outputs": [
    {
     "data": {
      "text/plain": [
       "[array([[0],\n",
       "        [1],\n",
       "        [2]]), array([[3],\n",
       "        [4],\n",
       "        [5]]), array([[6],\n",
       "        [7],\n",
       "        [8]])]"
      ]
     },
     "execution_count": 157,
     "metadata": {},
     "output_type": "execute_result"
    }
   ],
   "source": [
    "b=a.reshape(9,1)\n",
    "s2=np.split(b,3,0)\n",
    "s2"
   ]
  },
  {
   "cell_type": "markdown",
   "metadata": {
    "Collapsed": "false"
   },
   "source": [
    "### numpy.hsplit/.vsplit "
   ]
  },
  {
   "cell_type": "code",
   "execution_count": 159,
   "metadata": {
    "Collapsed": "false",
    "tags": [
     "8.5"
    ]
   },
   "outputs": [
    {
     "data": {
      "text/plain": [
       "[array([0, 1, 2]), array([3, 4, 5]), array([6, 7, 8])]"
      ]
     },
     "execution_count": 159,
     "metadata": {},
     "output_type": "execute_result"
    }
   ],
   "source": [
    "h=np.hsplit(a,3)\n",
    "h"
   ]
  },
  {
   "cell_type": "code",
   "execution_count": 160,
   "metadata": {
    "Collapsed": "false",
    "tags": [
     "8.5"
    ]
   },
   "outputs": [
    {
     "data": {
      "text/plain": [
       "[array([[0],\n",
       "        [1],\n",
       "        [2]]), array([[3],\n",
       "        [4],\n",
       "        [5]]), array([[6],\n",
       "        [7],\n",
       "        [8]])]"
      ]
     },
     "execution_count": 160,
     "metadata": {},
     "output_type": "execute_result"
    }
   ],
   "source": [
    "v=np.vsplit(b,3)\n",
    "v"
   ]
  },
  {
   "cell_type": "markdown",
   "metadata": {
    "Collapsed": "false"
   },
   "source": [
    "## 添加与删除元素"
   ]
  },
  {
   "cell_type": "markdown",
   "metadata": {
    "Collapsed": "false"
   },
   "source": [
    "|函数|描述|\n",
    "|:----:|:----:|\n",
    "|resize|返回指定形状的新数组|\n",
    "|append|将值添加到数组末尾|\n",
    "|insert|沿指定轴将值插入到指定下标之前|\n",
    "|delete|删掉某个轴的子数组，并返回删除后的新数组|\n",
    "|unique|查找数组内的唯一元素|"
   ]
  },
  {
   "cell_type": "markdown",
   "metadata": {
    "Collapsed": "false"
   },
   "source": [
    "### numpy.resize "
   ]
  },
  {
   "cell_type": "markdown",
   "metadata": {
    "Collapsed": "false"
   },
   "source": [
    "返回指定大小的新数组。如果新数组大小大于原始大小，则包含原始数组中的元素的副本:\n",
    "```Python\n",
    "numpy.resize(arr, shape)\n",
    "```\n",
    "**\\!**注意与reshape的不同之处：**reshape固定了size**"
   ]
  },
  {
   "cell_type": "code",
   "execution_count": 2,
   "metadata": {
    "Collapsed": "false",
    "tags": [
     "8.6"
    ]
   },
   "outputs": [
    {
     "data": {
      "text/plain": [
       "(2, 3)"
      ]
     },
     "execution_count": 2,
     "metadata": {},
     "output_type": "execute_result"
    }
   ],
   "source": [
    "import numpy as np\n",
    "a=np.array([[1,2,3],[4,5,6]])\n",
    "a.shape"
   ]
  },
  {
   "cell_type": "code",
   "execution_count": 165,
   "metadata": {
    "Collapsed": "false",
    "tags": [
     "8.6"
    ]
   },
   "outputs": [
    {
     "data": {
      "text/plain": [
       "array([[1, 2, 3],\n",
       "       [4, 5, 6],\n",
       "       [1, 2, 3]])"
      ]
     },
     "execution_count": 165,
     "metadata": {},
     "output_type": "execute_result"
    }
   ],
   "source": [
    "# 尺寸变大,继续重复\n",
    "np.resize(a,(3,3))"
   ]
  },
  {
   "cell_type": "markdown",
   "metadata": {
    "Collapsed": "false"
   },
   "source": [
    "### numpy.append"
   ]
  },
  {
   "cell_type": "markdown",
   "metadata": {
    "Collapsed": "false"
   },
   "source": [
    "在数组的末尾添加值，输入数组的维度必须匹配否则将生成ValueError\n",
    "```Python\n",
    "numpy.append(arr, values, axis=None)\n",
    "```\n",
    "`axis`：当axis无定义时，是横向加成，返回总是为一维数组；为0，沿0轴添加；为1，沿1轴添加"
   ]
  },
  {
   "cell_type": "code",
   "execution_count": 166,
   "metadata": {
    "Collapsed": "false",
    "tags": [
     "8.6"
    ]
   },
   "outputs": [
    {
     "data": {
      "text/plain": [
       "array([1, 2, 3, 4, 5, 6, 7, 8, 9])"
      ]
     },
     "execution_count": 166,
     "metadata": {},
     "output_type": "execute_result"
    }
   ],
   "source": [
    "np.append(a,[7,8,9])"
   ]
  },
  {
   "cell_type": "code",
   "execution_count": 168,
   "metadata": {
    "Collapsed": "false",
    "tags": [
     "8.6"
    ]
   },
   "outputs": [
    {
     "data": {
      "text/plain": [
       "array([[1, 2, 3],\n",
       "       [4, 5, 6],\n",
       "       [7, 8, 9]])"
      ]
     },
     "execution_count": 168,
     "metadata": {},
     "output_type": "execute_result"
    }
   ],
   "source": [
    "np.append(a,[[7,8,9]],axis=0) #添加（1，3）数组"
   ]
  },
  {
   "cell_type": "code",
   "execution_count": 172,
   "metadata": {
    "Collapsed": "false",
    "tags": [
     "8.6"
    ]
   },
   "outputs": [
    {
     "data": {
      "text/plain": [
       "array([[1, 2, 3, 7],\n",
       "       [4, 5, 6, 8]])"
      ]
     },
     "execution_count": 172,
     "metadata": {},
     "output_type": "execute_result"
    }
   ],
   "source": [
    "np.append(a,[[7],[8]],axis=1) #添加（2，1）数组"
   ]
  },
  {
   "cell_type": "markdown",
   "metadata": {
    "Collapsed": "false"
   },
   "source": [
    "### numpy.insert"
   ]
  },
  {
   "cell_type": "markdown",
   "metadata": {
    "Collapsed": "false"
   },
   "source": [
    "在给定索引之前，沿给定轴在输入数组中插入值:\n",
    "```Python\n",
    "numpy.insert(arr, obj, values, axis)\n",
    "```\n",
    "`obj`：索引值；`valus`：值或数组或嵌套序列；`axis`：沿着它插入的轴，如果未提供，则输入数组会被展开"
   ]
  },
  {
   "cell_type": "code",
   "execution_count": 3,
   "metadata": {
    "Collapsed": "false",
    "tags": [
     "8.6"
    ]
   },
   "outputs": [
    {
     "data": {
      "text/plain": [
       "array([ 1,  2, 11,  3,  4,  5,  6])"
      ]
     },
     "execution_count": 3,
     "metadata": {},
     "output_type": "execute_result"
    }
   ],
   "source": [
    "np.insert(a,2,11)# 不指定axis"
   ]
  },
  {
   "cell_type": "code",
   "execution_count": 4,
   "metadata": {
    "Collapsed": "false",
    "tags": [
     "8.6"
    ]
   },
   "outputs": [
    {
     "data": {
      "text/plain": [
       "array([[ 1,  2,  3],\n",
       "       [ 4,  5,  6],\n",
       "       [11, 11, 11]])"
      ]
     },
     "execution_count": 4,
     "metadata": {},
     "output_type": "execute_result"
    }
   ],
   "source": [
    "np.insert(a,2,11,0)# 0轴插入"
   ]
  },
  {
   "cell_type": "code",
   "execution_count": 5,
   "metadata": {
    "Collapsed": "false",
    "tags": [
     "8.6"
    ]
   },
   "outputs": [
    {
     "data": {
      "text/plain": [
       "array([[ 1,  2, 11,  3],\n",
       "       [ 4,  5, 11,  6]])"
      ]
     },
     "execution_count": 5,
     "metadata": {},
     "output_type": "execute_result"
    }
   ],
   "source": [
    "np.insert(a,2,11,1)# 1轴插入"
   ]
  },
  {
   "cell_type": "markdown",
   "metadata": {
    "Collapsed": "false"
   },
   "source": [
    "### numpy.delete"
   ]
  },
  {
   "cell_type": "markdown",
   "metadata": {
    "Collapsed": "false"
   },
   "source": [
    "返回从输入数组中删除指定子数组的新数组。 与`insert()` 函数的情况一样，如果未提供轴参数，则输入数组将展开:\n",
    "```Python\n",
    "Numpy.delete(arr, obj, axis)\n",
    "```"
   ]
  },
  {
   "cell_type": "code",
   "execution_count": 6,
   "metadata": {
    "Collapsed": "false",
    "tags": [
     "8.6"
    ]
   },
   "outputs": [
    {
     "data": {
      "text/plain": [
       "array([1, 2, 3, 4, 6])"
      ]
     },
     "execution_count": 6,
     "metadata": {},
     "output_type": "execute_result"
    }
   ],
   "source": [
    "np.delete(a,4)"
   ]
  },
  {
   "cell_type": "code",
   "execution_count": 7,
   "metadata": {
    "Collapsed": "false",
    "tags": [
     "8.6"
    ]
   },
   "outputs": [
    {
     "data": {
      "text/plain": [
       "array([[4, 5, 6]])"
      ]
     },
     "execution_count": 7,
     "metadata": {},
     "output_type": "execute_result"
    }
   ],
   "source": [
    "np.delete(a,0,0)"
   ]
  },
  {
   "cell_type": "code",
   "execution_count": 8,
   "metadata": {
    "Collapsed": "false",
    "tags": [
     "8.6"
    ]
   },
   "outputs": [
    {
     "data": {
      "text/plain": [
       "array([[2, 3],\n",
       "       [5, 6]])"
      ]
     },
     "execution_count": 8,
     "metadata": {},
     "output_type": "execute_result"
    }
   ],
   "source": [
    "np.delete(a,0,1)"
   ]
  },
  {
   "cell_type": "markdown",
   "metadata": {
    "Collapsed": "false"
   },
   "source": [
    "### numpy.unique"
   ]
  },
  {
   "cell_type": "markdown",
   "metadata": {
    "Collapsed": "false"
   },
   "source": [
    "用于去除数组中的重复元素:\n",
    "```Python\n",
    "numpy.unique(arr, return_index, return_inverse, return_counts)\n",
    "```\n",
    "- `arr`：如果不是一维数组则会展开\n",
    "- `return_index`：如果为true，返回新列表元素在旧列表中的位置（下标），并以**tuple**形式储\n",
    "- `return_inverse`：如果为true，返回旧列表元素在新列表中的位置（下标），并以**tuple**形式储\n",
    "- `return_counts`：如果为true，返回去重数组中的元素在原数组中的出现次数"
   ]
  },
  {
   "cell_type": "code",
   "execution_count": 13,
   "metadata": {
    "Collapsed": "false",
    "tags": [
     "8.6"
    ]
   },
   "outputs": [
    {
     "data": {
      "text/plain": [
       "array([2, 5, 6, 7, 8, 9])"
      ]
     },
     "execution_count": 13,
     "metadata": {},
     "output_type": "execute_result"
    }
   ],
   "source": [
    "b = np.array([[5,2,6,2,7],[5,6,8,2,9]])\n",
    "np.unique(b)"
   ]
  },
  {
   "cell_type": "code",
   "execution_count": 14,
   "metadata": {
    "Collapsed": "false",
    "tags": [
     "8.6"
    ]
   },
   "outputs": [
    {
     "data": {
      "text/plain": [
       "(array([2, 5, 6, 7, 8, 9]), array([1, 0, 2, 4, 7, 9], dtype=int64))"
      ]
     },
     "execution_count": 14,
     "metadata": {},
     "output_type": "execute_result"
    }
   ],
   "source": [
    "np.unique(b, return_index = True)"
   ]
  },
  {
   "cell_type": "code",
   "execution_count": 15,
   "metadata": {
    "Collapsed": "false",
    "tags": [
     "8.6"
    ]
   },
   "outputs": [
    {
     "data": {
      "text/plain": [
       "(array([2, 5, 6, 7, 8, 9]), array([3, 2, 2, 1, 1, 1], dtype=int64))"
      ]
     },
     "execution_count": 15,
     "metadata": {},
     "output_type": "execute_result"
    }
   ],
   "source": [
    "np.unique(b, return_counts = True)"
   ]
  },
  {
   "cell_type": "markdown",
   "metadata": {
    "Collapsed": "false"
   },
   "source": [
    "----"
   ]
  },
  {
   "cell_type": "markdown",
   "metadata": {
    "Collapsed": "false"
   },
   "source": [
    "# 位运算 "
   ]
  },
  {
   "cell_type": "markdown",
   "metadata": {
    "Collapsed": "false"
   },
   "source": [
    "NumPy中**`bitwise_`**开头的函数是位运算函数，主要包括以下函数："
   ]
  },
  {
   "cell_type": "markdown",
   "metadata": {
    "Collapsed": "false"
   },
   "source": [
    "|函数|描述|代替符号|\n",
    "|:----|:----|:----:|\n",
    "|base_repr|数字进制转换||\n",
    "|bitwise_and|对数组元素执行**按位与**操作|`&`|\n",
    "|bitwise_or|对数组元素执行**按位或**操作|`\\|`|\n",
    "|bitwise_xor|对数组元素执行**按位异或**操作|`^`|\n",
    "|invert|按位取反|`~`|\n",
    "|left_shift|向左移动二进制表示的位|`<<`|\n",
    "|right_shift|向右移动二进制表示的位|`>>`|"
   ]
  },
  {
   "cell_type": "markdown",
   "metadata": {
    "Collapsed": "false"
   },
   "source": [
    "## base_repr"
   ]
  },
  {
   "cell_type": "markdown",
   "metadata": {
    "Collapsed": "false"
   },
   "source": [
    "学习Python时，我们曾讨论过数字的进制转换，比如`bin()`、`oct()`、`hex()`函数："
   ]
  },
  {
   "cell_type": "code",
   "execution_count": 25,
   "metadata": {
    "Collapsed": "false",
    "tags": [
     "9"
    ]
   },
   "outputs": [
    {
     "data": {
      "text/plain": [
       "('0B1101', '0O15', '0XD')"
      ]
     },
     "execution_count": 25,
     "metadata": {},
     "output_type": "execute_result"
    }
   ],
   "source": [
    "bin(13).upper(),oct(13).upper(),hex(13).upper()"
   ]
  },
  {
   "cell_type": "markdown",
   "metadata": {
    "Collapsed": "false"
   },
   "source": [
    "使用`format()`函数可以直接去除掉进制前缀："
   ]
  },
  {
   "cell_type": "code",
   "execution_count": 27,
   "metadata": {
    "Collapsed": "false",
    "tags": [
     "9"
    ]
   },
   "outputs": [
    {
     "data": {
      "text/plain": [
       "('1101', '15', 'D')"
      ]
     },
     "execution_count": 27,
     "metadata": {},
     "output_type": "execute_result"
    }
   ],
   "source": [
    "format(13,'b'),format(13,'o'),format(13,'x').upper()"
   ]
  },
  {
   "cell_type": "markdown",
   "metadata": {
    "Collapsed": "false"
   },
   "source": [
    "NumPy里也提供了类似的进制转换函数，最通用的就是**`numpy.base_repr`**，结构如下:\n",
    "```Python\n",
    "numpy.base_repr(number, base=2, padding=0)\n",
    "```\n",
    "`padding`：数字前缀，添0数目"
   ]
  },
  {
   "cell_type": "code",
   "execution_count": 33,
   "metadata": {
    "Collapsed": "false",
    "tags": [
     "9"
    ]
   },
   "outputs": [
    {
     "data": {
      "text/plain": [
       "('1101', '0015', 'D')"
      ]
     },
     "execution_count": 33,
     "metadata": {},
     "output_type": "execute_result"
    }
   ],
   "source": [
    "np.base_repr(13,2),np.base_repr(13,8,padding=2),np.base_repr(13,16)"
   ]
  },
  {
   "cell_type": "markdown",
   "metadata": {
    "Collapsed": "false"
   },
   "source": [
    "## bitwise_and/or/xor "
   ]
  },
  {
   "cell_type": "markdown",
   "metadata": {
    "Collapsed": "false"
   },
   "source": [
    "以上函数的语法均类似，主要参数为两个**array_like**，且必须是**integer**或**bollean** type（注意对于代替符号，严格要求是**ndarray**）；若数组形状不同，必须是**broadcastable**\n",
    "```Python\n",
    "numpy.fn(arr1,arr2)\n",
    "```"
   ]
  },
  {
   "cell_type": "code",
   "execution_count": 15,
   "metadata": {
    "Collapsed": "false",
    "tags": [
     "9"
    ]
   },
   "outputs": [
    {
     "data": {
      "text/plain": [
       "(array([ 2,  4, 16], dtype=int32), array([ 2,  4, 16], dtype=int32))"
      ]
     },
     "execution_count": 15,
     "metadata": {},
     "output_type": "execute_result"
    }
   ],
   "source": [
    "np.bitwise_and(np.array([2,5,255]), np.array([3,14,16])),np.array([2,5,255])& np.array([3,14,16])"
   ]
  },
  {
   "cell_type": "code",
   "execution_count": 23,
   "metadata": {
    "Collapsed": "false",
    "tags": [
     "9"
    ]
   },
   "outputs": [
    {
     "data": {
      "text/plain": [
       "(array([33,  5], dtype=int32), array([33,  5], dtype=int32))"
      ]
     },
     "execution_count": 23,
     "metadata": {},
     "output_type": "execute_result"
    }
   ],
   "source": [
    "np.bitwise_or([33, 4], 1),np.array([33, 4])|np.array(1)"
   ]
  },
  {
   "cell_type": "code",
   "execution_count": 22,
   "metadata": {
    "Collapsed": "false",
    "tags": [
     "9"
    ]
   },
   "outputs": [
    {
     "data": {
      "text/plain": [
       "(array([ True, False]), array([ True, False]))"
      ]
     },
     "execution_count": 22,
     "metadata": {},
     "output_type": "execute_result"
    }
   ],
   "source": [
    "np.bitwise_xor([True, True], [False, True]),np.array([True, True])^np.array([False, True])"
   ]
  },
  {
   "cell_type": "markdown",
   "metadata": {
    "Collapsed": "false"
   },
   "source": [
    "## invert "
   ]
  },
  {
   "cell_type": "markdown",
   "metadata": {
    "Collapsed": "false"
   },
   "source": [
    "对x按位取反等价于：-(x+1)。参数只有一个array_like，同样限值dtype："
   ]
  },
  {
   "cell_type": "code",
   "execution_count": 35,
   "metadata": {
    "Collapsed": "false",
    "tags": [
     "9"
    ]
   },
   "outputs": [
    {
     "data": {
      "text/plain": [
       "(array([False,  True]), array([False,  True]))"
      ]
     },
     "execution_count": 35,
     "metadata": {},
     "output_type": "execute_result"
    }
   ],
   "source": [
    "np.invert([True, False]),~np.array([True,False])"
   ]
  },
  {
   "cell_type": "code",
   "execution_count": 36,
   "metadata": {
    "Collapsed": "false",
    "tags": [
     "9"
    ]
   },
   "outputs": [
    {
     "data": {
      "text/plain": [
       "(array([-14,  15], dtype=int32), array([-14,  15], dtype=int32))"
      ]
     },
     "execution_count": 36,
     "metadata": {},
     "output_type": "execute_result"
    }
   ],
   "source": [
    "np.invert([13, -16]),~np.array([13,-16])"
   ]
  },
  {
   "cell_type": "markdown",
   "metadata": {
    "Collapsed": "false"
   },
   "source": [
    "## right/left_shift "
   ]
  },
  {
   "cell_type": "markdown",
   "metadata": {
    "Collapsed": "false"
   },
   "source": [
    "以上函数的语法均类似，主要参数为**array_like**，且必须是**integer** type\n",
    "```Python\n",
    "numpy.left_shift(x1, x2)\n",
    "```\n",
    "- 将x2元素按位左移x1位，等价于：x<sub>2</sub>\\*2<sup>x<sub>1</sub></sup>\n",
    "- 将x2元素按位右移x1位，等价于：x<sub>2</sub>/2<sup>x<sub>1</sub></sup>"
   ]
  },
  {
   "cell_type": "code",
   "execution_count": 42,
   "metadata": {
    "Collapsed": "false",
    "tags": [
     "9"
    ]
   },
   "outputs": [
    {
     "data": {
      "text/plain": [
       "(array([10, 20, 40], dtype=int32), array([2, 1, 0], dtype=int32))"
      ]
     },
     "execution_count": 42,
     "metadata": {},
     "output_type": "execute_result"
    }
   ],
   "source": [
    "np.left_shift(5, [1,2,3]),np.right_shift(5, [1,2,3])"
   ]
  },
  {
   "cell_type": "code",
   "execution_count": 43,
   "metadata": {
    "Collapsed": "false",
    "tags": [
     "9"
    ]
   },
   "outputs": [
    {
     "name": "stdout",
     "output_type": "stream",
     "text": [
      "000101,001010,010100,101000,000010,000001,000000,"
     ]
    }
   ],
   "source": [
    "for i in [5,10,20,40,2,1,0]:\n",
    "    print(np.binary_repr(i,width=6),end=',')"
   ]
  },
  {
   "cell_type": "code",
   "execution_count": 44,
   "metadata": {
    "Collapsed": "false",
    "tags": [
     "9"
    ]
   },
   "outputs": [
    {
     "data": {
      "text/plain": [
       "(array([10, 24, 56], dtype=int32), array([2, 1, 0], dtype=int32))"
      ]
     },
     "execution_count": 44,
     "metadata": {},
     "output_type": "execute_result"
    }
   ],
   "source": [
    "np.left_shift([5,6,7], [1,2,3]),np.right_shift([5,6,7], [1,2,3])"
   ]
  },
  {
   "cell_type": "markdown",
   "metadata": {
    "Collapsed": "false"
   },
   "source": [
    "----"
   ]
  },
  {
   "cell_type": "markdown",
   "metadata": {
    "Collapsed": "false"
   },
   "source": [
    "# 字符串函数 "
   ]
  },
  {
   "cell_type": "markdown",
   "metadata": {
    "Collapsed": "false"
   },
   "source": [
    "- 以下函数用于对 dtype 为**numpy.string_** 或 **numpy.unicode_** 的数组(对于普通的**string**也可以)执行向量化字符串操作;\n",
    "- 它们基于 Python 内置库中的标准字符串函数\n",
    "- 均在字符数组类**numpy.char**中定义"
   ]
  },
  {
   "cell_type": "markdown",
   "metadata": {
    "Collapsed": "false"
   },
   "source": [
    "|char方法|描述|char方法|描述|\n",
    "|:----|:----|:----|:----|\n",
    "|add|对两个数组的元素进行字符串连接|split|指定分隔符对字符串进行分割，并返回数组列表|\n",
    "|multiply|返回按元素多重连接后的字符串|splitlines|返回元素中的行列表，以换行符分割|\n",
    "|center|字符串居中|strip|移除元素开头或者结尾处的特定字符|\n",
    "|capitalize|第一个首字母大写|join|通过指定分隔符来连接数组中的元素|\n",
    "|title|每个单词首字母大写|replace|使用新字符串替换字符串中的所有子字符串|\n",
    "|lower|全小写|decode|数组元素依次调用`str.decode`|\n",
    "|upper|全大写|encode|数组元素依次调用`str.encode`|"
   ]
  },
  {
   "cell_type": "markdown",
   "metadata": {
    "Collapsed": "false"
   },
   "source": [
    "## add/multiply/center"
   ]
  },
  {
   "cell_type": "code",
   "execution_count": 48,
   "metadata": {
    "Collapsed": "false",
    "tags": [
     "10"
    ]
   },
   "outputs": [
    {
     "data": {
      "text/plain": [
       "(array([[['abc'],\n",
       "         ['xyz']],\n",
       " \n",
       "        [['shi'],\n",
       "         ['hao']],\n",
       " \n",
       "        [['Hello'],\n",
       "         ['world']]], dtype='<U5'), (3, 2, 1))"
      ]
     },
     "execution_count": 48,
     "metadata": {},
     "output_type": "execute_result"
    }
   ],
   "source": [
    "import numpy as np\n",
    "a=np.array([[['abc'],['xyz']],[['shi'],['hao']],[['Hello'],['world']]])\n",
    "a,a.shape"
   ]
  },
  {
   "cell_type": "code",
   "execution_count": 52,
   "metadata": {
    "Collapsed": "false",
    "tags": [
     "10"
    ]
   },
   "outputs": [
    {
     "data": {
      "text/plain": [
       "(array([['123'],\n",
       "        ['USA']], dtype='<U3'), (2, 1))"
      ]
     },
     "execution_count": 52,
     "metadata": {},
     "output_type": "execute_result"
    }
   ],
   "source": [
    "b=np.array([['123'],['USA']])\n",
    "b,b.shape"
   ]
  },
  {
   "cell_type": "code",
   "execution_count": 54,
   "metadata": {
    "Collapsed": "false",
    "tags": [
     "10"
    ]
   },
   "outputs": [
    {
     "data": {
      "text/plain": [
       "(array([[['abc123'],\n",
       "         ['xyzUSA']],\n",
       " \n",
       "        [['shi123'],\n",
       "         ['haoUSA']],\n",
       " \n",
       "        [['Hello123'],\n",
       "         ['worldUSA']]], dtype='<U8'), (3, 2, 1))"
      ]
     },
     "execution_count": 54,
     "metadata": {},
     "output_type": "execute_result"
    }
   ],
   "source": [
    "# 数组不等类型，但是遵从广播原则\n",
    "c_add=np.char.add(a,b)\n",
    "c_add,c_add.shape"
   ]
  },
  {
   "cell_type": "markdown",
   "metadata": {
    "Collapsed": "false"
   },
   "source": [
    ">**dtype类型解释：**\n",
    "- 字节顺序是通过对数据类型预先设定\"<\"或\">\"来决定的。\"<\"意味着小端法(最小值存储在最小的地址，即低位组放在最前面)。\">\"意味着大端法(最重要的字节存储在最小的地址，即高位组放在最前面)；\n",
    "- `U`代表`Unicode`类型\n",
    "- 后面的数字即字符元素的最大长度"
   ]
  },
  {
   "cell_type": "code",
   "execution_count": 56,
   "metadata": {
    "Collapsed": "false",
    "tags": [
     "10"
    ]
   },
   "outputs": [
    {
     "data": {
      "text/plain": [
       "(array([['123123123'],\n",
       "        ['USAUSAUSA']], dtype='<U9'), (2, 1))"
      ]
     },
     "execution_count": 56,
     "metadata": {},
     "output_type": "execute_result"
    }
   ],
   "source": [
    "c_multiple=np.char.multiply(b,3)\n",
    "c_multiple,c_multiple.shape"
   ]
  },
  {
   "cell_type": "markdown",
   "metadata": {
    "Collapsed": "false"
   },
   "source": [
    "**center()** 函数用于将字符串居中，并使用指定字符在左侧和右侧进行填充，结构如下：\n",
    "```Python\n",
    "np.char.center(str,width,fillchar) \n",
    "```"
   ]
  },
  {
   "cell_type": "code",
   "execution_count": 58,
   "metadata": {
    "Collapsed": "false",
    "tags": [
     "10"
    ]
   },
   "outputs": [
    {
     "data": {
      "text/plain": [
       "array([['**123**'],\n",
       "       ['**USA**']], dtype='<U7')"
      ]
     },
     "execution_count": 58,
     "metadata": {},
     "output_type": "execute_result"
    }
   ],
   "source": [
    "np.char.center(b,7,'*')"
   ]
  },
  {
   "cell_type": "code",
   "execution_count": 60,
   "metadata": {
    "Collapsed": "false",
    "tags": [
     "10"
    ]
   },
   "outputs": [
    {
     "name": "stdout",
     "output_type": "stream",
     "text": [
      "******shihao******\n"
     ]
    }
   ],
   "source": [
    "print(np.char.center('shihao',18,'*'))"
   ]
  },
  {
   "cell_type": "markdown",
   "metadata": {
    "Collapsed": "false"
   },
   "source": [
    "## capitalize/title/lower/upper"
   ]
  },
  {
   "cell_type": "code",
   "execution_count": 64,
   "metadata": {
    "Collapsed": "false",
    "tags": [
     "10"
    ]
   },
   "outputs": [
    {
     "data": {
      "text/plain": [
       "(array([['sHi', 'iuX'],\n",
       "        ['Pua', 't3IP']], dtype='<U4'), (2, 2))"
      ]
     },
     "execution_count": 64,
     "metadata": {},
     "output_type": "execute_result"
    }
   ],
   "source": [
    "c=np.array([['sHi','iuX'],['Pua','t3IP']])\n",
    "c,c.shape"
   ]
  },
  {
   "cell_type": "code",
   "execution_count": 65,
   "metadata": {
    "Collapsed": "false",
    "tags": [
     "10"
    ]
   },
   "outputs": [
    {
     "data": {
      "text/plain": [
       "array([['Shi', 'Iux'],\n",
       "       ['Pua', 'T3ip']], dtype='<U4')"
      ]
     },
     "execution_count": 65,
     "metadata": {},
     "output_type": "execute_result"
    }
   ],
   "source": [
    "np.char.capitalize(c)"
   ]
  },
  {
   "cell_type": "code",
   "execution_count": 66,
   "metadata": {
    "Collapsed": "false",
    "tags": [
     "10"
    ]
   },
   "outputs": [
    {
     "data": {
      "text/plain": [
       "array([['Shi', 'Iux'],\n",
       "       ['Pua', 'T3Ip']], dtype='<U4')"
      ]
     },
     "execution_count": 66,
     "metadata": {},
     "output_type": "execute_result"
    }
   ],
   "source": [
    "np.char.title(c)\n",
    "# 注意第四项里，title默认数字之后的字母为新单词"
   ]
  },
  {
   "cell_type": "code",
   "execution_count": 68,
   "metadata": {
    "Collapsed": "false",
    "tags": [
     "10"
    ]
   },
   "outputs": [
    {
     "data": {
      "text/plain": [
       "array([['shi', 'iux'],\n",
       "       ['pua', 't3ip']], dtype='<U4')"
      ]
     },
     "execution_count": 68,
     "metadata": {},
     "output_type": "execute_result"
    }
   ],
   "source": [
    "from numpy import char as npc\n",
    "npc.lower(c)"
   ]
  },
  {
   "cell_type": "code",
   "execution_count": 69,
   "metadata": {
    "Collapsed": "false",
    "tags": [
     "10"
    ]
   },
   "outputs": [
    {
     "data": {
      "text/plain": [
       "array([['SHI', 'IUX'],\n",
       "       ['PUA', 'T3IP']], dtype='<U4')"
      ]
     },
     "execution_count": 69,
     "metadata": {},
     "output_type": "execute_result"
    }
   ],
   "source": [
    "npc.upper(c)"
   ]
  },
  {
   "cell_type": "markdown",
   "metadata": {
    "Collapsed": "false"
   },
   "source": [
    "## split/splitlines"
   ]
  },
  {
   "cell_type": "markdown",
   "metadata": {
    "Collapsed": "false"
   },
   "source": [
    "numpy.char.split()通过参数`sep`指定分隔符对字符串进行分割，并返回**Array of list objects**。默认情况下，分隔符为空格。"
   ]
  },
  {
   "cell_type": "code",
   "execution_count": 88,
   "metadata": {
    "Collapsed": "false",
    "tags": [
     "10"
    ]
   },
   "outputs": [
    {
     "name": "stdout",
     "output_type": "stream",
     "text": [
      "['I', 'love', 'China,and,', 'Hongkong'] <class 'numpy.ndarray'>\n"
     ]
    },
    {
     "data": {
      "text/plain": [
       "\"array(list(['I', 'love', 'China,and,', 'Hongkong']), dtype=object)\""
      ]
     },
     "execution_count": 88,
     "metadata": {},
     "output_type": "execute_result"
    }
   ],
   "source": [
    "temp=npc.split('I love China,and, Hongkong')\n",
    "print(temp,temp.__class__)\n",
    "repr(temp)\n",
    "# 注意repr/print间的区别,print实际上是调用了该类中的__str__方法，并非对象本身"
   ]
  },
  {
   "cell_type": "code",
   "execution_count": 80,
   "metadata": {
    "Collapsed": "false",
    "tags": [
     "10"
    ]
   },
   "outputs": [
    {
     "data": {
      "text/plain": [
       "array(list(['I love China', 'and', ' Hongkong']), dtype=object)"
      ]
     },
     "execution_count": 80,
     "metadata": {},
     "output_type": "execute_result"
    }
   ],
   "source": [
    "npc.split('I love China,and, Hongkong',sep=',')"
   ]
  },
  {
   "cell_type": "code",
   "execution_count": 95,
   "metadata": {
    "Collapsed": "false",
    "tags": [
     "10"
    ]
   },
   "outputs": [
    {
     "data": {
      "text/plain": [
       "array(list(['i', 'like runoob?']), dtype=object)"
      ]
     },
     "execution_count": 95,
     "metadata": {},
     "output_type": "execute_result"
    }
   ],
   "source": [
    "npc.splitlines('i\\nlike runoob?')"
   ]
  },
  {
   "cell_type": "markdown",
   "metadata": {
    "Collapsed": "false"
   },
   "source": [
    "## strip/join/replace"
   ]
  },
  {
   "cell_type": "code",
   "execution_count": 93,
   "metadata": {
    "Collapsed": "false",
    "tags": [
     "10"
    ]
   },
   "outputs": [
    {
     "data": {
      "text/plain": [
       "array(['runoob', 'dmin', 'jav'], dtype='<U8')"
      ]
     },
     "execution_count": 93,
     "metadata": {},
     "output_type": "execute_result"
    }
   ],
   "source": [
    "npc.strip(['arunooba','admin','java'],'a')"
   ]
  },
  {
   "cell_type": "code",
   "execution_count": 94,
   "metadata": {
    "Collapsed": "false",
    "tags": [
     "10"
    ]
   },
   "outputs": [
    {
     "data": {
      "text/plain": [
       "array(['r:u:n:o:o:b', 'g-o-o-g-l-e'], dtype='<U11')"
      ]
     },
     "execution_count": 94,
     "metadata": {},
     "output_type": "execute_result"
    }
   ],
   "source": [
    "npc.join([':','-'],['runoob','google'])"
   ]
  },
  {
   "cell_type": "code",
   "execution_count": 103,
   "metadata": {
    "Collapsed": "false",
    "tags": [
     "10"
    ]
   },
   "outputs": [
    {
     "data": {
      "text/plain": [
       "'runoob:google'"
      ]
     },
     "execution_count": 103,
     "metadata": {},
     "output_type": "execute_result"
    }
   ],
   "source": [
    "':'.join(['runoob','google'])"
   ]
  },
  {
   "cell_type": "code",
   "execution_count": 96,
   "metadata": {
    "Collapsed": "false",
    "tags": [
     "10"
    ]
   },
   "outputs": [
    {
     "data": {
      "text/plain": [
       "array('i like runccb', dtype='<U13')"
      ]
     },
     "execution_count": 96,
     "metadata": {},
     "output_type": "execute_result"
    }
   ],
   "source": [
    "npc.replace ('i like runoob', 'oo', 'cc')"
   ]
  },
  {
   "cell_type": "code",
   "execution_count": 101,
   "metadata": {
    "Collapsed": "false",
    "tags": [
     "10"
    ]
   },
   "outputs": [
    {
     "data": {
      "text/plain": [
       "'i like runccb'"
      ]
     },
     "execution_count": 101,
     "metadata": {},
     "output_type": "execute_result"
    }
   ],
   "source": [
    "'i like runoob'.replace('oo', 'cc')"
   ]
  },
  {
   "cell_type": "markdown",
   "metadata": {
    "Collapsed": "false"
   },
   "source": [
    "## encode/decode"
   ]
  },
  {
   "cell_type": "code",
   "execution_count": 105,
   "metadata": {
    "Collapsed": "false",
    "tags": [
     "10"
    ]
   },
   "outputs": [
    {
     "data": {
      "text/plain": [
       "b'\\xca\\xaf\\xea\\xbb'"
      ]
     },
     "execution_count": 105,
     "metadata": {},
     "output_type": "execute_result"
    }
   ],
   "source": [
    "temp='石昊'.encode('GBK','strict')\n",
    "temp"
   ]
  },
  {
   "cell_type": "code",
   "execution_count": 106,
   "metadata": {
    "Collapsed": "false",
    "tags": [
     "10"
    ]
   },
   "outputs": [
    {
     "data": {
      "text/plain": [
       "'石昊'"
      ]
     },
     "execution_count": 106,
     "metadata": {},
     "output_type": "execute_result"
    }
   ],
   "source": [
    "temp.decode('GBK')"
   ]
  },
  {
   "cell_type": "code",
   "execution_count": 109,
   "metadata": {
    "Collapsed": "false",
    "tags": [
     "10"
    ]
   },
   "outputs": [
    {
     "data": {
      "text/plain": [
       "array([b'\\xca\\xaf\\xea\\xbb', b'\\xd6\\xd0\\xb9\\xfa'], dtype='|S4')"
      ]
     },
     "execution_count": 109,
     "metadata": {},
     "output_type": "execute_result"
    }
   ],
   "source": [
    "a=np.array(['石昊','中国'])\n",
    "a_encode=npc.encode(a,'GBK')\n",
    "a_encode"
   ]
  },
  {
   "cell_type": "code",
   "execution_count": 110,
   "metadata": {
    "Collapsed": "false",
    "tags": [
     "10"
    ]
   },
   "outputs": [
    {
     "data": {
      "text/plain": [
       "array(['石昊', '中国'], dtype='<U2')"
      ]
     },
     "execution_count": 110,
     "metadata": {},
     "output_type": "execute_result"
    }
   ],
   "source": [
    "npc.decode(a_encode,'GBK')"
   ]
  },
  {
   "cell_type": "markdown",
   "metadata": {
    "Collapsed": "false"
   },
   "source": [
    "----"
   ]
  },
  {
   "cell_type": "markdown",
   "metadata": {
    "Collapsed": "false"
   },
   "source": [
    "# 数学函数 "
   ]
  },
  {
   "cell_type": "markdown",
   "metadata": {
    "Collapsed": "false"
   },
   "source": [
    "NumPy 包含大量的各种数学运算的函数，包括三角函数，算术运算的函数，复数处理函数等，下面简单介绍一下"
   ]
  },
  {
   "cell_type": "markdown",
   "metadata": {
    "Collapsed": "false"
   },
   "source": [
    "## 三角函数 "
   ]
  },
  {
   "cell_type": "code",
   "execution_count": 124,
   "metadata": {
    "Collapsed": "false",
    "tags": [
     "11"
    ]
   },
   "outputs": [
    {
     "data": {
      "text/plain": [
       "(3.141592653589793, 180.0, 3.141592653589793, 180.0)"
      ]
     },
     "execution_count": 124,
     "metadata": {},
     "output_type": "execute_result"
    }
   ],
   "source": [
    "import numpy as np\n",
    "# 首先介绍几个角度弧度转化公式\n",
    "np.pi,np.degrees(np.pi),np.deg2rad(180),np.rad2deg(np.pi)"
   ]
  },
  {
   "cell_type": "code",
   "execution_count": 125,
   "metadata": {
    "Collapsed": "false",
    "tags": [
     "11"
    ]
   },
   "outputs": [
    {
     "data": {
      "text/plain": [
       "array([0.        , 0.5       , 0.70710678, 0.8660254 , 1.        ])"
      ]
     },
     "execution_count": 125,
     "metadata": {},
     "output_type": "execute_result"
    }
   ],
   "source": [
    "a = np.array([0,30,45,60,90])\n",
    "a_sin=np.sin(np.deg2rad(a)) #弧度转角度\n",
    "a_sin"
   ]
  },
  {
   "cell_type": "code",
   "execution_count": 126,
   "metadata": {
    "Collapsed": "false",
    "tags": [
     "11"
    ]
   },
   "outputs": [
    {
     "data": {
      "text/plain": [
       "(array([0.        , 0.52359878, 0.78539816, 1.04719755, 1.57079633]),\n",
       " array([ 0., 30., 45., 60., 90.]))"
      ]
     },
     "execution_count": 126,
     "metadata": {},
     "output_type": "execute_result"
    }
   ],
   "source": [
    "b=np.arcsin(a_sin)\n",
    "b,np.rad2deg(b)"
   ]
  },
  {
   "cell_type": "markdown",
   "metadata": {
    "Collapsed": "false"
   },
   "source": [
    "## 舍入函数 "
   ]
  },
  {
   "cell_type": "markdown",
   "metadata": {
    "Collapsed": "false"
   },
   "source": [
    "### numpy.around "
   ]
  },
  {
   "cell_type": "markdown",
   "metadata": {
    "Collapsed": "false",
    "tags": [
     "11"
    ]
   },
   "source": [
    "返回指定数字的四舍五入值：\n",
    "```Python\n",
    "numpy.around(a,decimals)\n",
    "```\n",
    "`decimals`: 舍入的小数位数。 默认值为0。 如果为负，整数将四舍五入到小数点左侧的位置"
   ]
  },
  {
   "cell_type": "code",
   "execution_count": 131,
   "metadata": {
    "Collapsed": "false",
    "tags": [
     "11"
    ]
   },
   "outputs": [
    {
     "data": {
      "text/plain": [
       "(26, 25.53, 30.0)"
      ]
     },
     "execution_count": 131,
     "metadata": {},
     "output_type": "execute_result"
    }
   ],
   "source": [
    "round(25.532),round(25.532,ndigits=2),round(25.532,-1),"
   ]
  },
  {
   "cell_type": "code",
   "execution_count": 128,
   "metadata": {
    "Collapsed": "false",
    "tags": [
     "11"
    ]
   },
   "outputs": [
    {
     "data": {
      "text/plain": [
       "(array([  1.,   6., 123.,   1.,  26.]),\n",
       " array([  1.  ,   5.55, 123.  ,   0.57,  25.53]),\n",
       " array([  0.,  10., 120.,   0.,  30.]))"
      ]
     },
     "execution_count": 128,
     "metadata": {},
     "output_type": "execute_result"
    }
   ],
   "source": [
    "a = np.array([1.0,5.55,  123,  0.567,  25.532]) \n",
    "np.around(a),np.around(a,decimals=2),np.around(a,-1)"
   ]
  },
  {
   "cell_type": "markdown",
   "metadata": {
    "Collapsed": "false"
   },
   "source": [
    "### numpy.floor/ceil"
   ]
  },
  {
   "cell_type": "markdown",
   "metadata": {
    "Collapsed": "false"
   },
   "source": [
    "反别返回数字的下舍整数和上如整数，例如2.3对应2和3，相反，-2.3对应-3和-2"
   ]
  },
  {
   "cell_type": "code",
   "execution_count": 134,
   "metadata": {
    "Collapsed": "false",
    "tags": [
     "11"
    ]
   },
   "outputs": [
    {
     "data": {
      "text/plain": [
       "(-2, -1)"
      ]
     },
     "execution_count": 134,
     "metadata": {},
     "output_type": "execute_result"
    }
   ],
   "source": [
    "import math\n",
    "math.floor(-1.7),math.ceil(-1.7)"
   ]
  },
  {
   "cell_type": "code",
   "execution_count": 133,
   "metadata": {
    "Collapsed": "false",
    "tags": [
     "11"
    ]
   },
   "outputs": [
    {
     "data": {
      "text/plain": [
       "(array([-2.,  1., -1.,  0., 10.]), array([-1.,  2., -0.,  1., 10.]))"
      ]
     },
     "execution_count": 133,
     "metadata": {},
     "output_type": "execute_result"
    }
   ],
   "source": [
    "a = np.array([-1.7,  1.5,  -0.2,  0.6,  10])\n",
    "np.floor(a),np.ceil(a)"
   ]
  },
  {
   "cell_type": "markdown",
   "metadata": {
    "Collapsed": "false"
   },
   "source": [
    "## 算术函数 "
   ]
  },
  {
   "cell_type": "markdown",
   "metadata": {
    "Collapsed": "false"
   },
   "source": [
    "包含简单的加减乘除: add()，subtract()，multiply() 和 divide()，当然，他们可以以简单`+` `-` `*` `/`符号替代"
   ]
  },
  {
   "cell_type": "code",
   "execution_count": 147,
   "metadata": {
    "Collapsed": "false",
    "tags": [
     "11"
    ]
   },
   "outputs": [
    {
     "name": "stdout",
     "output_type": "stream",
     "text": [
      "[[10. 11. 12.]\n",
      " [13. 14. 15.]]\n",
      "***************\n",
      "[[10. 11. 12.]\n",
      " [13. 14. 15.]]\n"
     ]
    }
   ],
   "source": [
    "a = np.arange(6, dtype = np.float_).reshape(2,3) \n",
    "b = np.array([10,10,10])\n",
    "print(np.add(a,b),a+b,sep='\\n'+'*'*15+'\\n')"
   ]
  },
  {
   "cell_type": "code",
   "execution_count": 148,
   "metadata": {
    "Collapsed": "false",
    "tags": [
     "11"
    ]
   },
   "outputs": [
    {
     "name": "stdout",
     "output_type": "stream",
     "text": [
      "[[-10.  -9.  -8.]\n",
      " [ -7.  -6.  -5.]]\n",
      "***************\n",
      "[[-10.  -9.  -8.]\n",
      " [ -7.  -6.  -5.]]\n"
     ]
    }
   ],
   "source": [
    "print(np.subtract(a,b),a-b,sep='\\n'+'*'*15+'\\n')"
   ]
  },
  {
   "cell_type": "code",
   "execution_count": 149,
   "metadata": {
    "Collapsed": "false",
    "tags": [
     "11"
    ]
   },
   "outputs": [
    {
     "name": "stdout",
     "output_type": "stream",
     "text": [
      "[[ 0. 10. 20.]\n",
      " [30. 40. 50.]]\n",
      "***************\n",
      "[[ 0. 10. 20.]\n",
      " [30. 40. 50.]]\n"
     ]
    }
   ],
   "source": [
    "print(np.multiply(a,b),a*b,sep='\\n'+'*'*15+'\\n')"
   ]
  },
  {
   "cell_type": "code",
   "execution_count": 152,
   "metadata": {
    "Collapsed": "false",
    "tags": [
     "11"
    ]
   },
   "outputs": [
    {
     "name": "stdout",
     "output_type": "stream",
     "text": [
      "[[0.  0.1 0.2]\n",
      " [0.3 0.4 0.5]]\n",
      "***************\n",
      "[[0.  0.1 0.2]\n",
      " [0.3 0.4 0.5]]\n"
     ]
    }
   ],
   "source": [
    "print(np.divide(a,b),a/b,sep='\\n'+'*'*15+'\\n')"
   ]
  },
  {
   "cell_type": "markdown",
   "metadata": {
    "Collapsed": "false"
   },
   "source": [
    "此外 Numpy 也包含了其他重要的算术函数，如`reciprocal` `power` `mod`或`remainder`,同样的，它们可以被`1/` `**` `%`代替"
   ]
  },
  {
   "cell_type": "code",
   "execution_count": 153,
   "metadata": {
    "Collapsed": "false",
    "tags": [
     "11"
    ]
   },
   "outputs": [
    {
     "data": {
      "text/plain": [
       "(array([4.       , 0.7518797, 1.       , 0.01     ]),\n",
       " array([4.       , 0.7518797, 1.       , 0.01     ]))"
      ]
     },
     "execution_count": 153,
     "metadata": {},
     "output_type": "execute_result"
    }
   ],
   "source": [
    "a = np.array([0.25,  1.33,  1,  100])  \n",
    "np.reciprocal(a), 1/a# 求倒数,相当于除1"
   ]
  },
  {
   "cell_type": "code",
   "execution_count": 155,
   "metadata": {
    "Collapsed": "false",
    "tags": [
     "11"
    ]
   },
   "outputs": [
    {
     "data": {
      "text/plain": [
       "(array([        10,      10000, 1000000000], dtype=int32),\n",
       " array([        10,      10000, 1000000000], dtype=int32))"
      ]
     },
     "execution_count": 155,
     "metadata": {},
     "output_type": "execute_result"
    }
   ],
   "source": [
    "a = np.array([10,100,1000]) \n",
    "b = np.array([1,2,3])  \n",
    "np.power(a,b),a**b"
   ]
  },
  {
   "cell_type": "code",
   "execution_count": 157,
   "metadata": {
    "Collapsed": "false",
    "tags": [
     "11"
    ]
   },
   "outputs": [
    {
     "data": {
      "text/plain": [
       "(array([1, 0, 2], dtype=int32),\n",
       " array([1, 0, 2], dtype=int32),\n",
       " array([1, 0, 2], dtype=int32))"
      ]
     },
     "execution_count": 157,
     "metadata": {},
     "output_type": "execute_result"
    }
   ],
   "source": [
    "a = np.array([10,20,30]) \n",
    "b = np.array([3,5,7])\n",
    "np.mod(a,b),np.remainder(a,b),a%b"
   ]
  },
  {
   "cell_type": "markdown",
   "metadata": {
    "Collapsed": "false"
   },
   "source": [
    "----"
   ]
  },
  {
   "cell_type": "markdown",
   "metadata": {
    "Collapsed": "false"
   },
   "source": [
    "# 统计函数 "
   ]
  },
  {
   "cell_type": "markdown",
   "metadata": {
    "Collapsed": "false"
   },
   "source": [
    "## numpy.amin/amax/ptp"
   ]
  },
  {
   "cell_type": "markdown",
   "metadata": {
    "Collapsed": "false"
   },
   "source": [
    "用于计算数组中的元素**沿指定轴**的最小值/最大值/最大差值，不指定轴则为所有元素的最值。此外，这类函数通常有一个**`keepdims`**参数来保证维度形状满足逻辑而不展平"
   ]
  },
  {
   "cell_type": "code",
   "execution_count": 167,
   "metadata": {
    "Collapsed": "false",
    "tags": [
     "12"
    ]
   },
   "outputs": [
    {
     "data": {
      "text/plain": [
       "array([[3, 7, 5],\n",
       "       [8, 4, 3],\n",
       "       [2, 4, 9]])"
      ]
     },
     "execution_count": 167,
     "metadata": {},
     "output_type": "execute_result"
    }
   ],
   "source": [
    "import numpy as np \n",
    "a = np.array([[3,7,5],[8,4,3],[2,4,9]])  \n",
    "a"
   ]
  },
  {
   "cell_type": "code",
   "execution_count": 171,
   "metadata": {
    "Collapsed": "false",
    "tags": [
     "12"
    ]
   },
   "outputs": [
    {
     "data": {
      "text/plain": [
       "(array([2, 4, 3]), array([7, 8, 9]), 2, 9)"
      ]
     },
     "execution_count": 171,
     "metadata": {},
     "output_type": "execute_result"
    }
   ],
   "source": [
    "np.amin(a,0),np.amax(a,1),np.amin(a),np.amax(a)"
   ]
  },
  {
   "cell_type": "code",
   "execution_count": 172,
   "metadata": {
    "Collapsed": "false",
    "tags": [
     "12"
    ]
   },
   "outputs": [
    {
     "data": {
      "text/plain": [
       "(array([6, 3, 6]), array([4, 5, 7]), 7, array([[4],\n",
       "        [5],\n",
       "        [7]]))"
      ]
     },
     "execution_count": 172,
     "metadata": {},
     "output_type": "execute_result"
    }
   ],
   "source": [
    "np.ptp(a,0),np.ptp(a,1),np.ptp(a),np.ptp(a,1,keepdims=True)"
   ]
  },
  {
   "cell_type": "markdown",
   "metadata": {
    "Collapsed": "false"
   },
   "source": [
    "## numpy.percentile/median"
   ]
  },
  {
   "cell_type": "markdown",
   "metadata": {
    "Collapsed": "false"
   },
   "source": [
    "百分位数是统计中使用的度量，表示小于这个值的观察值的百分比，结构如下：\n",
    "```Python\n",
    "numpy.percentile(arr, q, axis)\n",
    "```\n",
    "`q`：要计算的百分位数，在 0 ~ 100 之间"
   ]
  },
  {
   "cell_type": "markdown",
   "metadata": {
    "Collapsed": "false"
   },
   "source": [
    "> **什么时百分位数**\n",
    "> \n",
    ">第 q 个百分位数是这样一个值，它使得至少有 q% 的数据项小于或等于这个值，且至少有 (100-q)% 的数据项大于或等于这个值\n",
    ">\n",
    ">例如**中位数**，就是第50个百分位数"
   ]
  },
  {
   "cell_type": "code",
   "execution_count": 174,
   "metadata": {
    "Collapsed": "false",
    "tags": [
     "12"
    ]
   },
   "outputs": [
    {
     "data": {
      "text/plain": [
       "(4.0, array([3., 4., 5.]), array([5., 4., 4.]), array([[5.],\n",
       "        [4.],\n",
       "        [4.]]))"
      ]
     },
     "execution_count": 174,
     "metadata": {},
     "output_type": "execute_result"
    }
   ],
   "source": [
    "np.percentile(a,50),np.percentile(a,50,0),np.percentile(a,50,1),np.percentile(a,50,1,keepdims=True)"
   ]
  },
  {
   "cell_type": "markdown",
   "metadata": {
    "Collapsed": "false"
   },
   "source": [
    "`numpy.median`就是直接求中位数"
   ]
  },
  {
   "cell_type": "code",
   "execution_count": 177,
   "metadata": {
    "Collapsed": "false",
    "tags": [
     "12"
    ]
   },
   "outputs": [
    {
     "data": {
      "text/plain": [
       "(4.0, array([3., 4., 5.]), array([5., 4., 4.]))"
      ]
     },
     "execution_count": 177,
     "metadata": {},
     "output_type": "execute_result"
    }
   ],
   "source": [
    "np.median(a),np.median(a,0),np.median(a,1)"
   ]
  },
  {
   "cell_type": "markdown",
   "metadata": {
    "Collapsed": "false"
   },
   "source": [
    "## numpy.mean/average"
   ]
  },
  {
   "cell_type": "markdown",
   "metadata": {
    "Collapsed": "false"
   },
   "source": [
    "`numpy.mean()`函数返回数组中元素的算术平均值。 如果提供了轴，则沿其计算"
   ]
  },
  {
   "cell_type": "code",
   "execution_count": 178,
   "metadata": {
    "Collapsed": "false",
    "tags": [
     "12"
    ]
   },
   "outputs": [
    {
     "data": {
      "text/plain": [
       "(5.0, array([4.33333333, 5.        , 5.66666667]), array([5., 5., 5.]))"
      ]
     },
     "execution_count": 178,
     "metadata": {},
     "output_type": "execute_result"
    }
   ],
   "source": [
    "np.mean(a),np.mean(a,0),np.mean(a,1)"
   ]
  },
  {
   "cell_type": "markdown",
   "metadata": {
    "Collapsed": "false"
   },
   "source": [
    "`numpy.average()`函数根据在另一个数组中给出的各自的权重计算数组中元素的加权平均值。若不给出权重数组，则计算算数平均值。此外，该函数可以接受一个轴参数。 如果没有指定轴，则数组会被展开。"
   ]
  },
  {
   "cell_type": "code",
   "execution_count": 180,
   "metadata": {
    "Collapsed": "false",
    "tags": [
     "12"
    ]
   },
   "outputs": [
    {
     "data": {
      "text/plain": [
       "2.0"
      ]
     },
     "execution_count": 180,
     "metadata": {},
     "output_type": "execute_result"
    }
   ],
   "source": [
    "a = np.array([1,2,3,4]) \n",
    "wts = np.array([4,3,2,1]) \n",
    "np.average(a,weights = wts)"
   ]
  },
  {
   "cell_type": "code",
   "execution_count": 182,
   "metadata": {
    "Collapsed": "false",
    "tags": [
     "12"
    ]
   },
   "outputs": [
    {
     "data": {
      "text/plain": [
       "(2.0, 10.0)"
      ]
     },
     "execution_count": 182,
     "metadata": {},
     "output_type": "execute_result"
    }
   ],
   "source": [
    "np.average([1,2,3,4],weights=[4,3,2,1],returned=True)\n",
    "# returned参数为True则返回权重和"
   ]
  },
  {
   "cell_type": "code",
   "execution_count": 183,
   "metadata": {
    "Collapsed": "false",
    "tags": [
     "12"
    ]
   },
   "outputs": [
    {
     "data": {
      "text/plain": [
       "(array([0.625, 2.625, 4.625]), array([8., 8., 8.]))"
      ]
     },
     "execution_count": 183,
     "metadata": {},
     "output_type": "execute_result"
    }
   ],
   "source": [
    "a = np.arange(6).reshape(3,2)  \n",
    "wt = np.array([3,5]) \n",
    "np.average(a,axis=1,weights=wt,returned=True)"
   ]
  },
  {
   "cell_type": "markdown",
   "metadata": {
    "Collapsed": "false"
   },
   "source": [
    "## numpy.std/var"
   ]
  },
  {
   "cell_type": "code",
   "execution_count": 186,
   "metadata": {
    "Collapsed": "false",
    "tags": [
     "12"
    ]
   },
   "outputs": [
    {
     "data": {
      "text/plain": [
       "(1.118033988749895, 1.118033988749895)"
      ]
     },
     "execution_count": 186,
     "metadata": {},
     "output_type": "execute_result"
    }
   ],
   "source": [
    "def my_std(x):\n",
    "    return math.sqrt(np.mean((x-np.mean(x))**2))\n",
    "np.std([1,2,3,4]),my_std([1,2,4,3])"
   ]
  },
  {
   "cell_type": "code",
   "execution_count": 187,
   "metadata": {
    "Collapsed": "false",
    "tags": [
     "12"
    ]
   },
   "outputs": [
    {
     "data": {
      "text/plain": [
       "(1.25, 1.25)"
      ]
     },
     "execution_count": 187,
     "metadata": {},
     "output_type": "execute_result"
    }
   ],
   "source": [
    "def my_var(x):\n",
    "    return np.mean((x-np.mean(x))**2)\n",
    "np.var([1,2,3,4]),my_var([1,2,3,4])"
   ]
  },
  {
   "cell_type": "markdown",
   "metadata": {
    "Collapsed": "false"
   },
   "source": [
    "----"
   ]
  },
  {
   "cell_type": "markdown",
   "metadata": {
    "Collapsed": "false",
    "toc-hr-collapsed": true
   },
   "source": [
    "# 排序、条件刷选函数 "
   ]
  },
  {
   "cell_type": "markdown",
   "metadata": {
    "Collapsed": "false"
   },
   "source": [
    "NumPy 提供了多种排序的方法。 这些排序函数实现不同的排序算法（通常以`kind`参数表示），每个排序算法的特征在于执行速度，最坏情况性能，所需的工作空间和算法的稳定性。下面给出了三种算法的比较："
   ]
  },
  {
   "cell_type": "markdown",
   "metadata": {
    "Collapsed": "false"
   },
   "source": [
    "|kind|speed|worst case|work space|stable|\n",
    "|:----|:----|:----|:----|:----|\n",
    "|`quicksort`**快速排序**|1|O(n<sup>2</sup>)|0|否|\n",
    "|`mergesort`**归并排序**|2|O(nlog(n))|~n/2|是|\n",
    "|`timsort`|2|O(nlog(n))|~n/2|是|\n",
    "|`heapsort`**堆排序**|3|O(nlog(n))|0|否|"
   ]
  },
  {
   "cell_type": "markdown",
   "metadata": {
    "Collapsed": "false"
   },
   "source": [
    "<img src=\"https://forum.mianbaoban.cn/data/attachment/forum/201803/20/140151tbt1kcsjbds6bsbd.jpg\" width=50%>"
   ]
  },
  {
   "cell_type": "markdown",
   "metadata": {
    "Collapsed": "false"
   },
   "source": [
    "## numpy.sort "
   ]
  },
  {
   "cell_type": "markdown",
   "metadata": {
    "Collapsed": "false"
   },
   "source": [
    "返回输入数组**从小到大**排序的**副本**。函数格式如下：\n",
    "```Python\n",
    "numpy.sort(a, axis=-1, kind='quicksort', order)\n",
    "```\n",
    "- `axis`：为**None**，数组在排序前会被展平；默认为-1，指的是**末轴**，**注：**末轴排序速度要高于其他轴\n",
    "    - numpy(a,axis=0)可简写为**`numpy.msort()`** 函数\n",
    "- `kind`：‘quicksort’, ‘mergesort’, ‘heapsort’, ‘stable’ &nbsp;\n",
    "    - 'stable'会自动选取对dtype最稳定的算法；\n",
    "    - 即便指定'mergesort'，也不一定引用归并算法，仍然根据dtype而定，可能选择**timsort**（或者说 **radix sort**基数排序）\n",
    "- `order`：如果数组包含字段，则是要排序的字段"
   ]
  },
  {
   "cell_type": "code",
   "execution_count": 47,
   "metadata": {
    "Collapsed": "false",
    "tags": [
     "13"
    ]
   },
   "outputs": [
    {
     "data": {
      "text/plain": [
       "array([[1, 4],\n",
       "       [3, 1]])"
      ]
     },
     "execution_count": 47,
     "metadata": {},
     "output_type": "execute_result"
    }
   ],
   "source": [
    "import numpy as np\n",
    "a = np.array([[1,4],[3,1]])\n",
    "a"
   ]
  },
  {
   "cell_type": "code",
   "execution_count": 48,
   "metadata": {
    "Collapsed": "false",
    "tags": [
     "13"
    ]
   },
   "outputs": [
    {
     "name": "stdout",
     "output_type": "stream",
     "text": [
      "[[1 4]\n",
      " [1 3]]\n",
      "***************\n",
      "[1 1 3 4]\n",
      "***************\n",
      "[[1 1]\n",
      " [3 4]]\n",
      "***************\n",
      "[[1 1]\n",
      " [3 4]]\n"
     ]
    }
   ],
   "source": [
    "print(np.sort(a),np.sort(a,axis=None),np.sort(a,axis=0),np.msort(a),sep='\\n'+'*'*15+'\\n')\n",
    "#分别为：1轴排序、展平排序、0轴排序"
   ]
  },
  {
   "cell_type": "markdown",
   "metadata": {
    "Collapsed": "false"
   },
   "source": [
    "前面讲过dtype可以创建结构化数据类型：一个结构体包含多种不同的数据类型，每种类型均有**字段Field**，**`order`** 参数可以指定以某种字段排序："
   ]
  },
  {
   "cell_type": "code",
   "execution_count": 36,
   "metadata": {
    "Collapsed": "false",
    "tags": [
     "13"
    ]
   },
   "outputs": [
    {
     "data": {
      "text/plain": [
       "array([(b'Galahad', 1.7, 38), (b'Arthur', 1.8, 41),\n",
       "       (b'Lancelot', 1.9, 38)],\n",
       "      dtype=[('name', 'S10'), ('height', '<f8'), ('age', '<i4')])"
      ]
     },
     "execution_count": 36,
     "metadata": {},
     "output_type": "execute_result"
    }
   ],
   "source": [
    "dt= np.dtype([('name', 'S10'), ('height', float), ('age', int)])\n",
    "values = [('Arthur', 1.8, 41), ('Lancelot', 1.9, 38),('Galahad', 1.7, 38)]\n",
    "a = np.array(values, dtype=dt)       # create a structured array\n",
    "np.sort(a, order='height')           # 以身高排序"
   ]
  },
  {
   "cell_type": "markdown",
   "metadata": {
    "Collapsed": "false"
   },
   "source": [
    "**`order`** 参数可以选择多个Fields，依次排序："
   ]
  },
  {
   "cell_type": "code",
   "execution_count": 37,
   "metadata": {
    "Collapsed": "false",
    "tags": [
     "13"
    ]
   },
   "outputs": [
    {
     "data": {
      "text/plain": [
       "array([(b'Galahad', 1.7, 38), (b'Lancelot', 1.9, 38),\n",
       "       (b'Arthur', 1.8, 41)],\n",
       "      dtype=[('name', 'S10'), ('height', '<f8'), ('age', '<i4')])"
      ]
     },
     "execution_count": 37,
     "metadata": {},
     "output_type": "execute_result"
    }
   ],
   "source": [
    "np.sort(a, order=['age', 'height'])   # 以年龄排序，再以身高排序"
   ]
  },
  {
   "cell_type": "markdown",
   "metadata": {
    "Collapsed": "false"
   },
   "source": [
    "## numpy.argsort "
   ]
  },
  {
   "cell_type": "markdown",
   "metadata": {
    "Collapsed": "false"
   },
   "source": [
    "结构与numpy.sort相同。返回的是数组排序后的元素下标indices"
   ]
  },
  {
   "cell_type": "code",
   "execution_count": 39,
   "metadata": {
    "Collapsed": "false",
    "tags": [
     "13"
    ]
   },
   "outputs": [
    {
     "data": {
      "text/plain": [
       "(array([[0, 1],\n",
       "        [1, 0]], dtype=int64), array([[0, 1],\n",
       "        [0, 1]], dtype=int64))"
      ]
     },
     "execution_count": 39,
     "metadata": {},
     "output_type": "execute_result"
    }
   ],
   "source": [
    "x = np.array([[0, 3], [2, 2]])\n",
    "ind_0 = np.argsort(x, axis=0)\n",
    "ind_1 = np.argsort(x, axis=1)\n",
    "ind_0 , ind_1"
   ]
  },
  {
   "cell_type": "markdown",
   "metadata": {
    "Collapsed": "false"
   },
   "source": [
    "结合**`numpy.take_alog_axis`** 函数就可以通过下标复原排序数组："
   ]
  },
  {
   "cell_type": "code",
   "execution_count": 41,
   "metadata": {
    "Collapsed": "false",
    "tags": [
     "13"
    ]
   },
   "outputs": [
    {
     "data": {
      "text/plain": [
       "(array([[0, 2],\n",
       "        [2, 3]]), array([[0, 2],\n",
       "        [2, 3]]))"
      ]
     },
     "execution_count": 41,
     "metadata": {},
     "output_type": "execute_result"
    }
   ],
   "source": [
    "np.take_along_axis(x,ind_0,axis=0),np.sort(x,axis=0)"
   ]
  },
  {
   "cell_type": "code",
   "execution_count": 42,
   "metadata": {
    "Collapsed": "false",
    "tags": [
     "13"
    ]
   },
   "outputs": [
    {
     "data": {
      "text/plain": [
       "(array([[0, 3],\n",
       "        [2, 2]]), array([[0, 3],\n",
       "        [2, 2]]))"
      ]
     },
     "execution_count": 42,
     "metadata": {},
     "output_type": "execute_result"
    }
   ],
   "source": [
    "np.take_along_axis(x,ind_1,axis=1),np.sort(x,axis=1)"
   ]
  },
  {
   "cell_type": "markdown",
   "metadata": {
    "Collapsed": "false"
   },
   "source": [
    "## numpy.lexsort "
   ]
  },
  {
   "cell_type": "markdown",
   "metadata": {
    "Collapsed": "false"
   },
   "source": [
    "**字典排序**\n",
    "- 对多个序列进行排序。把它想象成对电子表格进行排序，每一列代表一个序列，排序时优先照顾靠后的列。\n",
    "- 这里举一个应用场景：小升初考试，重点班录取学生按照总成绩录取。在总成绩相同时，数学成绩高的优先录取，在总成绩和数学成绩都相同时，按照英语成绩录取…… 这里，总成绩排在电子表格的最后一列，数学成绩在倒数第二列，英语成绩在倒数第三列。\n",
    "\n",
    "语法结构如下：\n",
    "```Python\n",
    "numpy.lexsort(keys,axis=-1)\n",
    "```\n",
    "- `keys`：多序列组成的Tuple\n",
    "- Return：返回索引值"
   ]
  },
  {
   "cell_type": "code",
   "execution_count": 44,
   "metadata": {
    "Collapsed": "false",
    "tags": [
     "13"
    ]
   },
   "outputs": [
    {
     "data": {
      "text/plain": [
       "(array([2, 0, 4, 6, 5, 3, 1], dtype=int64),\n",
       " array([0, 2, 4, 3, 5, 6, 1], dtype=int64))"
      ]
     },
     "execution_count": 44,
     "metadata": {},
     "output_type": "execute_result"
    }
   ],
   "source": [
    "a = [1,5,1,4,3,4,4] # First column\n",
    "b = (9,4,0,4,0,2,1) # Second column\n",
    "ind = np.lexsort((b,a)) # Sort by a, then by b\n",
    "ind,np.argsort(a)"
   ]
  },
  {
   "cell_type": "code",
   "execution_count": 45,
   "metadata": {
    "Collapsed": "false",
    "tags": [
     "13"
    ]
   },
   "outputs": [
    {
     "data": {
      "text/plain": [
       "array([2, 0, 4, 6, 5, 3, 1], dtype=int64)"
      ]
     },
     "execution_count": 45,
     "metadata": {},
     "output_type": "execute_result"
    }
   ],
   "source": [
    "# 上例也可以使用argsort函数实现多列排序，只是需要整合a,b序列\n",
    "dt=np.dtype([('a',int),('b',int)])\n",
    "values=[(1,9),(5,4),(1,0),(4,4),(3,0),(4,2),(4,1)]\n",
    "x=np.array(values,dtype=dt)\n",
    "np.argsort(x,order=['a','b'])"
   ]
  },
  {
   "cell_type": "markdown",
   "metadata": {
    "Collapsed": "false"
   },
   "source": [
    "## numpy.sort_complex"
   ]
  },
  {
   "cell_type": "markdown",
   "metadata": {
    "Collapsed": "false"
   },
   "source": [
    "numpy.sort_complex(arr)：对复数按照先实部后虚部排序："
   ]
  },
  {
   "cell_type": "code",
   "execution_count": 49,
   "metadata": {
    "Collapsed": "false",
    "tags": [
     "13"
    ]
   },
   "outputs": [
    {
     "data": {
      "text/plain": [
       "array([1.+2.j, 2.-1.j, 3.-3.j, 3.-2.j, 3.+5.j])"
      ]
     },
     "execution_count": 49,
     "metadata": {},
     "output_type": "execute_result"
    }
   ],
   "source": [
    "np.sort_complex([1 + 2j, 2 - 1j, 3 - 2j, 3 - 3j, 3 + 5j])"
   ]
  },
  {
   "cell_type": "markdown",
   "metadata": {
    "Collapsed": "false"
   },
   "source": [
    "## numpy.partition/argpartition  "
   ]
  },
  {
   "cell_type": "markdown",
   "metadata": {
    "Collapsed": "false"
   },
   "source": [
    "numpy.partition作用是指定一个数，对数组进行分区，返回分区数组副本；argpartition返回的是对应的小标\n",
    "```Python\n",
    "numpy.partition(a, kth, axis=-1, kind='introselect', order=None)\n",
    "```\n",
    "- `kth`：数字或者序列\n",
    "- `kind`：默认采用‘introselect’选择算法（目前只提供了这一种算法）：\n",
    "|kind|speed|worst case|work space|stable|\n",
    "|:----|:----|:----|:----|:----|\n",
    "|`introselect`|1|O(n)|0|no|"
   ]
  },
  {
   "cell_type": "code",
   "execution_count": 51,
   "metadata": {
    "Collapsed": "false",
    "tags": [
     "13"
    ]
   },
   "outputs": [
    {
     "data": {
      "text/plain": [
       "array([2, 1, 3, 4])"
      ]
     },
     "execution_count": 51,
     "metadata": {},
     "output_type": "execute_result"
    }
   ],
   "source": [
    "a = np.array([3, 4, 2, 1])\n",
    "np.partition(a, 3)  # 比3小的放在前面，比3大的放在后面"
   ]
  },
  {
   "cell_type": "code",
   "execution_count": 52,
   "metadata": {
    "Collapsed": "false",
    "tags": [
     "13"
    ]
   },
   "outputs": [
    {
     "data": {
      "text/plain": [
       "array([1, 2, 3, 4])"
      ]
     },
     "execution_count": 52,
     "metadata": {},
     "output_type": "execute_result"
    }
   ],
   "source": [
    "np.partition(a, (1, 3))  # 比1小放前面，内部放中间，比3大放后面"
   ]
  },
  {
   "cell_type": "code",
   "execution_count": 56,
   "metadata": {
    "Collapsed": "false",
    "tags": [
     "13"
    ]
   },
   "outputs": [
    {
     "data": {
      "text/plain": [
       "10"
      ]
     },
     "execution_count": 56,
     "metadata": {},
     "output_type": "execute_result"
    }
   ],
   "source": [
    "# 一些小技巧\n",
    "# 找到非负数数组的第三小的值：\n",
    "arr = np.array([46, 57, 23, 39, 1, 10, 0, 120])\n",
    "arr[np.argpartition(arr, 2)[2]]"
   ]
  },
  {
   "cell_type": "markdown",
   "metadata": {
    "Collapsed": "false"
   },
   "source": [
    "## numpy.argmax/argmin"
   ]
  },
  {
   "cell_type": "markdown",
   "metadata": {
    "Collapsed": "false"
   },
   "source": [
    "统计函数里曾讲过`numpy.amin`和`numpy.amax`，与前者不同，这里的函数返回沿指定轴的**最值索引**，语法结构二者相同：\n",
    "```Python\n",
    "numpy.argmax(a, axis=None, out=None)\n",
    "```\n",
    "`out`：array，若指定，结果将插入这个数组之中"
   ]
  },
  {
   "cell_type": "code",
   "execution_count": 70,
   "metadata": {
    "Collapsed": "false",
    "tags": [
     "13"
    ]
   },
   "outputs": [
    {
     "data": {
      "text/plain": [
       "(array([[30, 40, 70],\n",
       "        [80, 20, 10],\n",
       "        [50, 90, 60]]), 90, array([30, 20, 10]), array([70, 80, 90]))"
      ]
     },
     "execution_count": 70,
     "metadata": {},
     "output_type": "execute_result"
    }
   ],
   "source": [
    "a = np.array([[30,40,70],[80,20,10],[50,90,60]])  \n",
    "a,np.amax(a),np.amin(a,0),np.amax(a,1)"
   ]
  },
  {
   "cell_type": "code",
   "execution_count": 69,
   "metadata": {
    "Collapsed": "false",
    "tags": [
     "13"
    ]
   },
   "outputs": [
    {
     "data": {
      "text/plain": [
       "(7, array([0, 1, 1], dtype=int64), array([2, 0, 1], dtype=int64))"
      ]
     },
     "execution_count": 69,
     "metadata": {},
     "output_type": "execute_result"
    }
   ],
   "source": [
    "np.argmax(a),np.argmin(a,0),np.argmax(a,1)"
   ]
  },
  {
   "cell_type": "code",
   "execution_count": 78,
   "metadata": {
    "Collapsed": "false",
    "tags": [
     "13"
    ]
   },
   "outputs": [
    {
     "data": {
      "text/plain": [
       "array([2, 0, 1])"
      ]
     },
     "execution_count": 78,
     "metadata": {},
     "output_type": "execute_result"
    }
   ],
   "source": [
    "b=np.array([0, 1, 1])\n",
    "np.argmax(a,1,out=b)"
   ]
  },
  {
   "cell_type": "markdown",
   "metadata": {
    "Collapsed": "false"
   },
   "source": [
    "## numpy.nonzero"
   ]
  },
  {
   "cell_type": "markdown",
   "metadata": {
    "Collapsed": "false"
   },
   "source": [
    "numpy.nonzero(a)：返回数组中非零元素的索引，通常推荐使用**布尔索引**代替该函数，如`x[x.astype(bool)]`或`x[x!=0]`，因为他们能更好的处理0维数组"
   ]
  },
  {
   "cell_type": "code",
   "execution_count": 83,
   "metadata": {
    "Collapsed": "false",
    "tags": [
     "13"
    ]
   },
   "outputs": [
    {
     "data": {
      "text/plain": [
       "array([[3, 0, 0],\n",
       "       [0, 4, 0],\n",
       "       [5, 6, 0]])"
      ]
     },
     "execution_count": 83,
     "metadata": {},
     "output_type": "execute_result"
    }
   ],
   "source": [
    "x = np.array([[3, 0, 0], [0, 4, 0], [5, 6, 0]])\n",
    "x"
   ]
  },
  {
   "cell_type": "code",
   "execution_count": 84,
   "metadata": {
    "Collapsed": "false",
    "tags": [
     "13"
    ]
   },
   "outputs": [
    {
     "data": {
      "text/plain": [
       "(array([0, 1, 2, 2], dtype=int64), array([0, 1, 0, 1], dtype=int64))"
      ]
     },
     "execution_count": 84,
     "metadata": {},
     "output_type": "execute_result"
    }
   ],
   "source": [
    "np.nonzero(x) # 以元组的形式返回非零元素在两轴上的索引"
   ]
  },
  {
   "cell_type": "code",
   "execution_count": 85,
   "metadata": {
    "Collapsed": "false",
    "tags": [
     "13"
    ]
   },
   "outputs": [
    {
     "data": {
      "text/plain": [
       "array([3, 4, 5, 6])"
      ]
     },
     "execution_count": 85,
     "metadata": {},
     "output_type": "execute_result"
    }
   ],
   "source": [
    "x[np.nonzero(x)] # 索引找到非零元素"
   ]
  },
  {
   "cell_type": "markdown",
   "metadata": {
    "Collapsed": "false"
   },
   "source": [
    "nonzero函数不仅仅是找到非零数，通常我们用它做更丰富的计算："
   ]
  },
  {
   "cell_type": "code",
   "execution_count": 99,
   "metadata": {
    "Collapsed": "false",
    "tags": [
     "13"
    ]
   },
   "outputs": [
    {
     "data": {
      "text/plain": [
       "array([[False, False, False],\n",
       "       [ True,  True,  True],\n",
       "       [ True,  True,  True]])"
      ]
     },
     "execution_count": 99,
     "metadata": {},
     "output_type": "execute_result"
    }
   ],
   "source": [
    "a = np.array([[1, 2, 3], [4, 5, 6], [7, 8, 9]])\n",
    "# 通过Bool索引找到不小于4的元素：\n",
    "a>=4"
   ]
  },
  {
   "cell_type": "code",
   "execution_count": 94,
   "metadata": {
    "Collapsed": "false",
    "tags": [
     "13"
    ]
   },
   "outputs": [
    {
     "data": {
      "text/plain": [
       "(array([1, 1, 1, 2, 2, 2], dtype=int64),\n",
       " array([0, 1, 2, 0, 1, 2], dtype=int64))"
      ]
     },
     "execution_count": 94,
     "metadata": {},
     "output_type": "execute_result"
    }
   ],
   "source": [
    "# 利用nonzero返回布尔数组的Ture项索引\n",
    "np.nonzero(a >= 4)"
   ]
  },
  {
   "cell_type": "code",
   "execution_count": 95,
   "metadata": {
    "Collapsed": "false",
    "tags": [
     "13"
    ]
   },
   "outputs": [
    {
     "data": {
      "text/plain": [
       "array([4, 5, 6, 7, 8, 9])"
      ]
     },
     "execution_count": 95,
     "metadata": {},
     "output_type": "execute_result"
    }
   ],
   "source": [
    "a[np.nonzero(a>=4)]"
   ]
  },
  {
   "cell_type": "code",
   "execution_count": 102,
   "metadata": {
    "Collapsed": "false"
   },
   "outputs": [
    {
     "data": {
      "text/plain": [
       "array([4, 5, 6, 7, 8, 9])"
      ]
     },
     "execution_count": 102,
     "metadata": {},
     "output_type": "execute_result"
    }
   ],
   "source": [
    "# 当然直接用Boolean索引可以更加简单\n",
    "a[a>=4]"
   ]
  },
  {
   "cell_type": "code",
   "execution_count": 96,
   "metadata": {
    "Collapsed": "false",
    "tags": [
     "13"
    ]
   },
   "outputs": [
    {
     "data": {
      "text/plain": [
       "(array([1, 1, 1, 2, 2, 2], dtype=int64),\n",
       " array([0, 1, 2, 0, 1, 2], dtype=int64))"
      ]
     },
     "execution_count": 96,
     "metadata": {},
     "output_type": "execute_result"
    }
   ],
   "source": [
    "# nonzeron函数还有对应的方法：\n",
    "(a>=4).nonzero()"
   ]
  },
  {
   "cell_type": "markdown",
   "metadata": {
    "Collapsed": "false"
   },
   "source": [
    "##  numpy.where"
   ]
  },
  {
   "cell_type": "markdown",
   "metadata": {
    "Collapsed": "false"
   },
   "source": [
    "返回输入数组(x,y)中满足给定条件(condition)的元素，语句结构如下：\n",
    "```Python\n",
    "numpy.where(condition[, x, y])\n",
    "```\n",
    "- `condiion`：array_like, bool\n",
    "- `x,y`：待选择的数组，要求可广播。\n",
    "- 若三个数组均是1-D，那么这个函数等价于：\n",
    "```Python\n",
    "[argx if c else argy for c,argx,argv in zip(condition,x,y)]\n",
    "```"
   ]
  },
  {
   "cell_type": "code",
   "execution_count": 97,
   "metadata": {
    "Collapsed": "false",
    "tags": [
     "13"
    ]
   },
   "outputs": [
    {
     "data": {
      "text/plain": [
       "array([ 0,  1,  2,  3,  4, 50, 60, 70, 80, 90])"
      ]
     },
     "execution_count": 97,
     "metadata": {},
     "output_type": "execute_result"
    }
   ],
   "source": [
    "a = np.arange(10)\n",
    "np.where(a < 5, a, 10*a)"
   ]
  },
  {
   "cell_type": "code",
   "execution_count": 98,
   "metadata": {
    "Collapsed": "false",
    "tags": [
     "13"
    ]
   },
   "outputs": [
    {
     "data": {
      "text/plain": [
       "array([[1, 8],\n",
       "       [3, 4]])"
      ]
     },
     "execution_count": 98,
     "metadata": {},
     "output_type": "execute_result"
    }
   ],
   "source": [
    "np.where([[True, False], [True, True]],\n",
    "         [[1, 2], [3, 4]],\n",
    "         [[9, 8], [7, 6]])"
   ]
  },
  {
   "cell_type": "markdown",
   "metadata": {
    "Collapsed": "false"
   },
   "source": [
    "## numpy.extract "
   ]
  },
  {
   "cell_type": "markdown",
   "metadata": {
    "Collapsed": "false"
   },
   "source": [
    "从数组arr中提取满足条件的元素\n",
    "```Python\n",
    "numpy.extract(condition, arr)\n",
    "```\n",
    "`condition`：可以是Boolean array或数字数组通过none zero筛选元素"
   ]
  },
  {
   "cell_type": "code",
   "execution_count": 103,
   "metadata": {
    "Collapsed": "false",
    "tags": [
     "13"
    ]
   },
   "outputs": [
    {
     "data": {
      "text/plain": [
       "array([[ 0,  1,  2,  3],\n",
       "       [ 4,  5,  6,  7],\n",
       "       [ 8,  9, 10, 11]])"
      ]
     },
     "execution_count": 103,
     "metadata": {},
     "output_type": "execute_result"
    }
   ],
   "source": [
    "arr = np.arange(12).reshape((3, 4))\n",
    "arr"
   ]
  },
  {
   "cell_type": "code",
   "execution_count": 104,
   "metadata": {
    "Collapsed": "false",
    "tags": [
     "13"
    ]
   },
   "outputs": [
    {
     "data": {
      "text/plain": [
       "array([[ True, False, False,  True],\n",
       "       [False, False,  True, False],\n",
       "       [False,  True, False, False]])"
      ]
     },
     "execution_count": 104,
     "metadata": {},
     "output_type": "execute_result"
    }
   ],
   "source": [
    "condition = np.mod(arr, 3)==0\n",
    "condition"
   ]
  },
  {
   "cell_type": "code",
   "execution_count": 106,
   "metadata": {
    "Collapsed": "false",
    "tags": [
     "13"
    ]
   },
   "outputs": [
    {
     "data": {
      "text/plain": [
       "array([0, 3, 6, 9])"
      ]
     },
     "execution_count": 106,
     "metadata": {},
     "output_type": "execute_result"
    }
   ],
   "source": [
    "np.extract(condition, arr)"
   ]
  },
  {
   "cell_type": "code",
   "execution_count": 107,
   "metadata": {
    "Collapsed": "false",
    "tags": [
     "13"
    ]
   },
   "outputs": [
    {
     "data": {
      "text/plain": [
       "array([0, 3, 6, 9])"
      ]
     },
     "execution_count": 107,
     "metadata": {},
     "output_type": "execute_result"
    }
   ],
   "source": [
    "# 当然可以直接用Boolean索引\n",
    "arr[np.mod(arr,3)==0]"
   ]
  },
  {
   "cell_type": "markdown",
   "metadata": {
    "Collapsed": "false"
   },
   "source": [
    "----"
   ]
  },
  {
   "cell_type": "markdown",
   "metadata": {
    "Collapsed": "false"
   },
   "source": [
    "# 矩阵库Matlib"
   ]
  },
  {
   "cell_type": "markdown",
   "metadata": {
    "Collapsed": "false"
   },
   "source": [
    "NumPy 中包含了一个矩阵库 **numpy.matlib**，该模块中的函数返回的是一个矩阵，而不是 ndarray 对象。"
   ]
  },
  {
   "cell_type": "markdown",
   "metadata": {
    "Collapsed": "false"
   },
   "source": [
    "##  matlib.empty/zeros/ones"
   ]
  },
  {
   "cell_type": "markdown",
   "metadata": {
    "Collapsed": "false"
   },
   "source": [
    "`numpy.matlib.empty()`：返回一个新的矩阵，元素未初始化为随机数\n",
    "```Python\n",
    "numpy.matlib.empty(shape, dtype=None, order='C')\n",
    "```"
   ]
  },
  {
   "cell_type": "code",
   "execution_count": 13,
   "metadata": {
    "Collapsed": "false",
    "tags": [
     "14"
    ]
   },
   "outputs": [
    {
     "data": {
      "text/plain": [
       "(matrix([[0, 0],\n",
       "         [0, 0]], dtype=int8), array([[-16, 108],\n",
       "        [111,  97]], dtype=int8))"
      ]
     },
     "execution_count": 13,
     "metadata": {},
     "output_type": "execute_result"
    }
   ],
   "source": [
    "import numpy as np\n",
    "from numpy import matlib as npm\n",
    "npm.empty((2,2),dtype=np.int8),np.empty((2,2),dtype=np.int8)"
   ]
  },
  {
   "cell_type": "markdown",
   "metadata": {
    "Collapsed": "false"
   },
   "source": [
    "`numpy.matlib.zeros()`：返回元素全是零的矩阵\n",
    "```Python\n",
    "numpy.matlib.zeros(shape, dtype=None, order='C')\n",
    "```"
   ]
  },
  {
   "cell_type": "code",
   "execution_count": 14,
   "metadata": {
    "Collapsed": "false",
    "tags": [
     "14"
    ]
   },
   "outputs": [
    {
     "data": {
      "text/plain": [
       "(matrix([[0., 0., 0.],\n",
       "         [0., 0., 0.]]), array([[0., 0., 0.],\n",
       "        [0., 0., 0.]]))"
      ]
     },
     "execution_count": 14,
     "metadata": {},
     "output_type": "execute_result"
    }
   ],
   "source": [
    "npm.zeros((2,3)),np.zeros((2,3))"
   ]
  },
  {
   "cell_type": "markdown",
   "metadata": {
    "Collapsed": "false"
   },
   "source": [
    "`numpy.matlib.ones()`：返回元素全是1的矩阵\n",
    "```Python\n",
    "numpy.matlib.ones(shape, dtype=None, order='C')\n",
    "```"
   ]
  },
  {
   "cell_type": "code",
   "execution_count": 21,
   "metadata": {
    "Collapsed": "false",
    "tags": [
     "14"
    ]
   },
   "outputs": [
    {
     "data": {
      "text/plain": [
       "(matrix([[1., 1., 1., 1., 1.]]), array([1., 1., 1., 1., 1.]))"
      ]
     },
     "execution_count": 21,
     "metadata": {},
     "output_type": "execute_result"
    }
   ],
   "source": [
    "npm.ones(5),np.ones(5)\n",
    "# 注意前者返回（1，5）一维向量，后者返回0维数组"
   ]
  },
  {
   "cell_type": "markdown",
   "metadata": {
    "Collapsed": "false"
   },
   "source": [
    "##  matlib.eye/identity"
   ]
  },
  {
   "cell_type": "markdown",
   "metadata": {
    "Collapsed": "false"
   },
   "source": [
    "`numpy.matlib.eye`：返回对角阵\n",
    "```Python\n",
    "numpy.matlib.eye(n, M=None, k=0, dtype=<class 'float'>, order='C')\n",
    "```"
   ]
  },
  {
   "cell_type": "code",
   "execution_count": 23,
   "metadata": {
    "Collapsed": "false",
    "tags": [
     "14"
    ]
   },
   "outputs": [
    {
     "data": {
      "text/plain": [
       "(matrix([[0, 1, 0, 0],\n",
       "         [0, 0, 1, 0],\n",
       "         [0, 0, 0, 1]]), array([[0, 1, 0, 0],\n",
       "        [0, 0, 1, 0],\n",
       "        [0, 0, 0, 1]]))"
      ]
     },
     "execution_count": 23,
     "metadata": {},
     "output_type": "execute_result"
    }
   ],
   "source": [
    "npm.eye(3, 4,k=1, dtype=int),np.eye(3,4,k=1,dtype=int)"
   ]
  },
  {
   "cell_type": "markdown",
   "metadata": {
    "Collapsed": "false"
   },
   "source": [
    "`numpy.matlib.identity`：返回单位阵\n",
    "```Python\n",
    "numpy.matlib.identity(n, dtype=None)\n",
    "```"
   ]
  },
  {
   "cell_type": "code",
   "execution_count": 25,
   "metadata": {
    "Collapsed": "false",
    "tags": [
     "14"
    ]
   },
   "outputs": [
    {
     "data": {
      "text/plain": [
       "(matrix([[1, 0, 0],\n",
       "         [0, 1, 0],\n",
       "         [0, 0, 1]]), array([[1, 0, 0],\n",
       "        [0, 1, 0],\n",
       "        [0, 0, 1]]))"
      ]
     },
     "execution_count": 25,
     "metadata": {},
     "output_type": "execute_result"
    }
   ],
   "source": [
    "npm.identity(3, dtype=int),np.identity(3,dtype=int)"
   ]
  },
  {
   "cell_type": "markdown",
   "metadata": {
    "Collapsed": "false"
   },
   "source": [
    "## matlib.rand"
   ]
  },
  {
   "cell_type": "markdown",
   "metadata": {
    "Collapsed": "false"
   },
   "source": [
    "返回随机填充(0~1均匀分布)的矩阵：\n",
    "```\n",
    "numpy.matlib.rand(*args)\n",
    "```\n",
    "`*args`：shape，num or tuple"
   ]
  },
  {
   "cell_type": "code",
   "execution_count": 27,
   "metadata": {
    "Collapsed": "false",
    "tags": [
     "14"
    ]
   },
   "outputs": [
    {
     "data": {
      "text/plain": [
       "(matrix([[0.5602265 , 0.87981748, 0.85309582],\n",
       "         [0.1813142 , 0.0114535 , 0.91565705]]),\n",
       " matrix([[0.88260819, 0.90806818, 0.90779608],\n",
       "         [0.3297573 , 0.44400405, 0.51111301]]))"
      ]
     },
     "execution_count": 27,
     "metadata": {},
     "output_type": "execute_result"
    }
   ],
   "source": [
    "npm.rand(2,3),npm.rand((2,3))"
   ]
  },
  {
   "cell_type": "markdown",
   "metadata": {
    "Collapsed": "false"
   },
   "source": [
    "------"
   ]
  },
  {
   "cell_type": "markdown",
   "metadata": {
    "Collapsed": "false"
   },
   "source": [
    "# 线性代数"
   ]
  },
  {
   "cell_type": "markdown",
   "metadata": {
    "Collapsed": "false"
   },
   "source": [
    "NumPy 提供了线性代数函数库 **linalg**，该库包含了线性代数所需的所有功能，常见如："
   ]
  },
  {
   "cell_type": "markdown",
   "metadata": {
    "Collapsed": "false"
   },
   "source": [
    "|函数|描述|\n",
    "|:----|:----|\n",
    "|dot|两个多维数组相乘|\n",
    "|vdot|两个向量的点积|\n",
    "|inner|两个数组内积|\n",
    "|matmul|两个数组矩阵积|\n",
    "|det|数组的行列式|\n",
    "|solve|求解线形矩阵方程|\n",
    "|inv|计算矩阵的乘法逆矩阵|"
   ]
  },
  {
   "cell_type": "markdown",
   "metadata": {
    "Collapsed": "false"
   },
   "source": [
    "## numpy.dot "
   ]
  },
  {
   "cell_type": "markdown",
   "metadata": {
    "Collapsed": "false"
   },
   "source": [
    "\n",
    "```Python\n",
    "numpy.dot(a, b, out=None) \n",
    "```\n",
    "- 若a,b为零维标量，则返回乘积，建议采用 `numpy.multiply(a,b)` 或 `a*b`\n",
    "- 若a,b为一维数组，则返回向量的内积inner product\n",
    "- 若a,b为二维数组，则返回矩阵的积，建议采用 `numpy.matmul(a,b)` 或 `a@b`\n",
    "- 若a位N维数组，b为M维数组，则为数组a的**最后一维**上的所有元素与数组b的**倒数第二维**上的所有元素的乘积和 \n",
    "    + 可以表示为：`dot(a, b)[i,j,k,m] = sum(a[i,j,:] * b[k,:,m])`"
   ]
  },
  {
   "cell_type": "code",
   "execution_count": 1,
   "metadata": {
    "Collapsed": "false",
    "tags": [
     "15"
    ]
   },
   "outputs": [],
   "source": [
    "import numpy as np\n",
    "from numpy import linalg as npl"
   ]
  },
  {
   "cell_type": "code",
   "execution_count": 39,
   "metadata": {
    "Collapsed": "false",
    "tags": [
     "15"
    ]
   },
   "outputs": [
    {
     "data": {
      "text/plain": [
       "14"
      ]
     },
     "execution_count": 39,
     "metadata": {},
     "output_type": "execute_result"
    }
   ],
   "source": [
    "# 一维向量内积\n",
    "a=np.arange(4)\n",
    "b=np.arange(4)\n",
    "np.dot(a,b)"
   ]
  },
  {
   "cell_type": "code",
   "execution_count": 33,
   "metadata": {
    "Collapsed": "false",
    "tags": [
     "15"
    ]
   },
   "outputs": [
    {
     "data": {
      "text/plain": [
       "array([[10, 13],\n",
       "       [28, 40]])"
      ]
     },
     "execution_count": 33,
     "metadata": {},
     "output_type": "execute_result"
    }
   ],
   "source": [
    "# 二维数组相乘，注意满足矩阵相乘的必要条件，否则报错：ValueError\n",
    "a=np.arange(6).reshape(2,3)\n",
    "b=np.arange(6).reshape(3,2)\n",
    "np.dot(a,b)"
   ]
  },
  {
   "cell_type": "code",
   "execution_count": 44,
   "metadata": {
    "Collapsed": "false",
    "tags": [
     "15"
    ]
   },
   "outputs": [
    {
     "data": {
      "text/plain": [
       "(2, 3, 5, 1, 6)"
      ]
     },
     "execution_count": 44,
     "metadata": {},
     "output_type": "execute_result"
    }
   ],
   "source": [
    "# 多维数组相乘,注意a最后一维的长度要与b倒数第二维的长度一致\n",
    "a=np.arange(24).reshape(2,3,4)\n",
    "b=np.arange(120).reshape(5,1,4,6)\n",
    "np.dot(a,b).shape"
   ]
  },
  {
   "cell_type": "markdown",
   "metadata": {
    "Collapsed": "false"
   },
   "source": [
    "## numpy.vdot"
   ]
  },
  {
   "cell_type": "markdown",
   "metadata": {
    "Collapsed": "false"
   },
   "source": [
    "返回一维向量的点积，注意：vdot也可以以高维数组为参数，但是它是将他们展平成一维向量后再求内积，显然不是数组相乘，因此该函数一般只适用于一维向量"
   ]
  },
  {
   "cell_type": "code",
   "execution_count": 50,
   "metadata": {
    "Collapsed": "false",
    "tags": [
     "15"
    ]
   },
   "outputs": [
    {
     "data": {
      "text/plain": [
       "((70-8j), (-18+68j))"
      ]
     },
     "execution_count": 50,
     "metadata": {},
     "output_type": "execute_result"
    }
   ],
   "source": [
    "# 注意vdot与dot处理复数向量的区别\n",
    "# dot处理复数向量的内积是符合一般情况的\n",
    "# vdot会将第一个复向量转为共轭复向量再进行dot运算\n",
    "a = np.array([1+2j,3+4j])\n",
    "b = np.array([5+6j,7+8j])\n",
    "np.vdot(a,b),np.dot(a,b)"
   ]
  },
  {
   "cell_type": "code",
   "execution_count": 51,
   "metadata": {
    "Collapsed": "false",
    "tags": [
     "15"
    ]
   },
   "outputs": [
    {
     "data": {
      "text/plain": [
       "14"
      ]
     },
     "execution_count": 51,
     "metadata": {},
     "output_type": "execute_result"
    }
   ],
   "source": [
    "a=np.arange(4)\n",
    "b=np.arange(4)\n",
    "np.vdot(a,b)"
   ]
  },
  {
   "cell_type": "markdown",
   "metadata": {
    "Collapsed": "false"
   },
   "source": [
    "## numpy.inner "
   ]
  },
  {
   "cell_type": "markdown",
   "metadata": {
    "Collapsed": "false"
   },
   "source": [
    "- 返回两个一维向量的内积（不转化共轭复向量）\n",
    "- 对于高维数组，维度分别为r和s，计算它们沿最后一轴的乘积和，要求两者在最后一轴的长度相同\n",
    "    + `np.inner(a, b)[i0,...,ir-1,j0,...,js-1]` = `sum(a[i0,...,ir-1,:]*b[j0,...,js-1,:])`"
   ]
  },
  {
   "cell_type": "code",
   "execution_count": 55,
   "metadata": {
    "Collapsed": "false",
    "tags": [
     "15"
    ]
   },
   "outputs": [
    {
     "data": {
      "text/plain": [
       "(array([[[[  5,  14,  23,  32]],\n",
       " \n",
       "         [[ 14,  50,  86, 122]]],\n",
       " \n",
       " \n",
       "        [[[ 23,  86, 149, 212]],\n",
       " \n",
       "         [[ 32, 122, 212, 302]]]]), (2, 2, 1, 4))"
      ]
     },
     "execution_count": 55,
     "metadata": {},
     "output_type": "execute_result"
    }
   ],
   "source": [
    "a=np.arange(12).reshape(2,2,3)\n",
    "b=np.arange(12).reshape(1,4,3)\n",
    "np.inner(a,b),np.inner(a,b).shape\n",
    "# "
   ]
  },
  {
   "cell_type": "markdown",
   "metadata": {
    "Collapsed": "false"
   },
   "source": [
    "## numpy.matmul"
   ]
  },
  {
   "cell_type": "markdown",
   "metadata": {
    "Collapsed": "false"
   },
   "source": [
    "- 0维数组不能作为参数\n",
    "- 返回两个一维向量的内积\n",
    "- 返回两个二维数组的矩阵积\n",
    "- 如果任一参数的维数大于2，则将其视为存在于最后两个索引的矩阵的栈，并进行相应广播\n",
    "- 如果前者为一维向量，则零维长度+1，做完矩阵的乘法后去除\n",
    "- 如果后者为一维向量，则末维长度+1，做完矩阵的乘法后去除"
   ]
  },
  {
   "cell_type": "code",
   "execution_count": 18,
   "metadata": {
    "Collapsed": "false",
    "tags": [
     "15"
    ]
   },
   "outputs": [
    {
     "data": {
      "text/plain": [
       "((2, 3, 5, 1, 6), (5, 2, 3, 6))"
      ]
     },
     "execution_count": 18,
     "metadata": {},
     "output_type": "execute_result"
    }
   ],
   "source": [
    "# 高维数组相乘时，注意与dot函数的区别：\n",
    "#   dot :(a,k),(b,k,c)->(a,b,c),k=4\n",
    "# matmul:(2,3,4),(5,1,4,6)->(5,2,3,4),(5,2,4,6)->(5,2,3,6)\n",
    "a=np.arange(24).reshape(2,3,4)\n",
    "b=np.arange(120).reshape(5,1,4,6)\n",
    "np.dot(a,b).shape, np.matmul(a,b).shape"
   ]
  },
  {
   "cell_type": "code",
   "execution_count": 33,
   "metadata": {
    "Collapsed": "false",
    "tags": [
     "15"
    ]
   },
   "outputs": [
    {
     "data": {
      "text/plain": [
       "(5, 2, 3, 6)"
      ]
     },
     "execution_count": 33,
     "metadata": {},
     "output_type": "execute_result"
    }
   ],
   "source": [
    "# @操作符可以代替matmul函数\n",
    "a=np.arange(24).reshape(2,3,4)\n",
    "b=np.arange(120).reshape(5,1,4,6)\n",
    "c=a@b\n",
    "c.shape"
   ]
  },
  {
   "cell_type": "code",
   "execution_count": 28,
   "metadata": {
    "Collapsed": "false",
    "tags": [
     "15"
    ]
   },
   "outputs": [
    {
     "data": {
      "text/plain": [
       "(array([[15, 15],\n",
       "        [33, 33]]), array([15, 33]))"
      ]
     },
     "execution_count": 28,
     "metadata": {},
     "output_type": "execute_result"
    }
   ],
   "source": [
    "# 如果其中有一个向量，需要进行广播，做完矩阵乘法后去除\n",
    "a = np.array([[1, 2],[3, 4]])\n",
    "b = np.array([3, 6])  # (2,)->(2,1)->(2,)\n",
    "c = np.array([[3, 3],[6, 6]]) \n",
    "np.matmul(a,c),np.matmul(a,b) "
   ]
  },
  {
   "cell_type": "markdown",
   "metadata": {
    "Collapsed": "false"
   },
   "source": [
    "## numpy.linalg.det/inv/solve"
   ]
  },
  {
   "cell_type": "markdown",
   "metadata": {
    "Collapsed": "false"
   },
   "source": [
    "`numpy.linalg.det`：计算数组行列式\n",
    "- 方阵行列式的计算公式是：\n",
    "$$\n",
    "\\left|\\begin{array}{llll}{a_{11}} & {a_{12}} & {\\cdots} & {a_{1 n}} \\\\ {a_{21}} & {a_{22}} & {\\cdots} & {a_{2 n}} \\\\ {\\cdots} & {\\cdots} & {\\cdots} & {\\cdots} \\\\ {a_{n 1}} & {a_{n 2}} & {\\cdots} & {a_{n n}}\\end{array}\\right|=\\sum_{j_{1} j_{2} \\cdots j_{n}}(-1)^{\\tau\\left(j_{1} j_{2} \\cdots j_{n}\\right)} a_{1 j_{1}} a_{2 j_{2}} \\cdots a_{n j_{n}}\n",
    "$$\n",
    "- 对于多维数组a[...,n,n],计算后面两轴的行列式，最终的维度减去2"
   ]
  },
  {
   "cell_type": "code",
   "execution_count": 58,
   "metadata": {
    "Collapsed": "false",
    "tags": [
     "15"
    ]
   },
   "outputs": [
    {
     "data": {
      "text/plain": [
       "-2.0000000000000004"
      ]
     },
     "execution_count": 58,
     "metadata": {},
     "output_type": "execute_result"
    }
   ],
   "source": [
    "a = np.array([[1, 2], [3, 4]])\n",
    "npl.det(a)"
   ]
  },
  {
   "cell_type": "code",
   "execution_count": 64,
   "metadata": {
    "Collapsed": "false",
    "tags": [
     "15"
    ]
   },
   "outputs": [
    {
     "data": {
      "text/plain": [
       "(array([[-2., -2., -2.]]), (1, 3))"
      ]
     },
     "execution_count": 64,
     "metadata": {},
     "output_type": "execute_result"
    }
   ],
   "source": [
    "a = np.arange(12).reshape(1,3,2,2)\n",
    "det_a=npl.det(a)\n",
    "det_a,det_a.shape"
   ]
  },
  {
   "cell_type": "markdown",
   "metadata": {
    "Collapsed": "false"
   },
   "source": [
    "`numpy.linalg.solve()` ：给出了矩阵形式的线性方程的解，比如下面这个线形方程：\n",
    "$$\n",
    "\\left[\\begin{array}{ccc}{1} & {1} & {1} \\\\ {0} & {2} & {5} \\\\ {2} & {5} & {-1}\\end{array}\\right]\\left[\\begin{array}{l}{x} \\\\ {y} \\\\ {z}\\end{array}\\right]=\\left[\\begin{array}{c}{6} \\\\ {-4} \\\\ {27}\\end{array}\\right]\n",
    "$$"
   ]
  },
  {
   "cell_type": "code",
   "execution_count": 35,
   "metadata": {
    "Collapsed": "false",
    "tags": [
     "15"
    ]
   },
   "outputs": [
    {
     "data": {
      "text/plain": [
       "array([ 5.,  3., -2.])"
      ]
     },
     "execution_count": 35,
     "metadata": {},
     "output_type": "execute_result"
    }
   ],
   "source": [
    "a=np.array([[1,1,1],[0,2,5],[2,5,-1]])\n",
    "b=np.array([6,-4,27])\n",
    "npl.solve(a,b)"
   ]
  },
  {
   "cell_type": "markdown",
   "metadata": {
    "Collapsed": "false"
   },
   "source": [
    "`numpy.lianlg.inv()` ：计算逆矩阵"
   ]
  },
  {
   "cell_type": "code",
   "execution_count": 40,
   "metadata": {
    "Collapsed": "false",
    "tags": [
     "15"
    ]
   },
   "outputs": [
    {
     "data": {
      "text/plain": [
       "array([[-1.5,  0.5],\n",
       "       [ 1. ,  0. ]])"
      ]
     },
     "execution_count": 40,
     "metadata": {},
     "output_type": "execute_result"
    }
   ],
   "source": [
    "a=np.arange(4).reshape(2,2)\n",
    "npl.inv(a)"
   ]
  },
  {
   "cell_type": "markdown",
   "metadata": {
    "Collapsed": "false"
   },
   "source": [
    "----"
   ]
  },
  {
   "cell_type": "markdown",
   "metadata": {
    "Collapsed": "false"
   },
   "source": [
    "# IO"
   ]
  },
  {
   "cell_type": "markdown",
   "metadata": {
    "Collapsed": "false"
   },
   "source": [
    "- NumPy 可以读写磁盘上的文本数据或二进制数据 \n",
    "- NumPy 为 ndarray 对象引入了一个简单的文件格式：**`npy`**\n",
    "- **`npy`** 文件用于存储重建 ndarray 所需的数据、图形、dtype 和其他信息\n",
    "- 常用的IO函数有：\n",
    "    + `load` 和 `save` 函数是读写文件数组数据的两个主要函数，默认情况下，数组是以未压缩的原始二进制格式保存在扩展名为 **`.npy`** 的文件中\n",
    "    + `savez` 函数用于将多个数组写入文件，默认情况下，数组是以未压缩的原始二进制格式保存在扩展名为 **`.npz`** 的文件中\n",
    "    + `loadtxt` 和 `savetxt` 函数处理正常的文本文件"
   ]
  },
  {
   "cell_type": "markdown",
   "metadata": {
    "Collapsed": "false"
   },
   "source": [
    "## numpy.save/load"
   ]
  },
  {
   "cell_type": "markdown",
   "metadata": {
    "Collapsed": "false"
   },
   "source": [
    "numpy.save() 函数将数组保存到以 .npy 为扩展名的文件中\n",
    "```Python\n",
    "numpy.save(file, arr, allow_pickle=True, fix_imports=True)\n",
    "```\n",
    "- `file`：要保存的文件，扩展名为 .npy，如果文件路径末尾没有扩展名 .npy，该扩展名会被自动加上\n",
    "- `allow_pickle`：允许使用 **Python pickles** 保存对象数组，Python 中的 pickle 用于在保存到磁盘文件或从磁盘文件读取之前，对对象进行序列化和反序列化\n",
    "- `fix_imports`：为了方便 Pyhton2 中读取 Python3 保存的数据"
   ]
  },
  {
   "cell_type": "code",
   "execution_count": 63,
   "metadata": {
    "Collapsed": "false",
    "tags": [
     "16"
    ]
   },
   "outputs": [],
   "source": [
    "import numpy as np \n",
    "a = np.array([1,2,3,4,5])\n",
    "# 保存到 outfile2.npy 文件上，如果文件路径末尾没有扩展名 .npy，该扩展名会被自动加上\n",
    "np.save('outfile2',a)"
   ]
  },
  {
   "cell_type": "markdown",
   "metadata": {
    "Collapsed": "false"
   },
   "source": [
    "这个文件是 Numpy 专用的二进制格式后的数据，因此普通的文本编辑器无法打开，我们可以用 **`load`** 函数来读取数据"
   ]
  },
  {
   "cell_type": "code",
   "execution_count": 65,
   "metadata": {
    "Collapsed": "false",
    "tags": [
     "16"
    ]
   },
   "outputs": [
    {
     "data": {
      "text/plain": [
       "array([1, 2, 3, 4, 5])"
      ]
     },
     "execution_count": 65,
     "metadata": {},
     "output_type": "execute_result"
    }
   ],
   "source": [
    "np.load('outfile2.npy')"
   ]
  },
  {
   "cell_type": "markdown",
   "metadata": {
    "Collapsed": "false"
   },
   "source": [
    "## numpy.savez"
   ]
  },
  {
   "cell_type": "markdown",
   "metadata": {
    "Collapsed": "false"
   },
   "source": [
    "将多个数组保存到以 npz 为扩展名的文件中：\n",
    "```Python\n",
    "numpy.savez(file, *args, **kwds)\n",
    "```\n",
    "- `file`：要保存的文件，扩展名为 **`.npz`**，如果文件路径末尾没有扩展名 **`.npz`**，该扩展名会被自动加上\n",
    "- `args`：要保存的数组，可以使用关键字参数为数组起一个名字，非关键字参数传递的数组会自动起名为 arr_0, arr_1, …\n",
    "- `kwds`：要保存的数组使用关键字名称"
   ]
  },
  {
   "cell_type": "code",
   "execution_count": 66,
   "metadata": {
    "Collapsed": "false",
    "tags": [
     "16"
    ]
   },
   "outputs": [
    {
     "name": "stdout",
     "output_type": "stream",
     "text": [
      "['sin_array', 'arr_0', 'arr_1']\n",
      "[[1 2 3]\n",
      " [4 5 6]]\n",
      "[0.  0.1 0.2 0.3 0.4 0.5 0.6 0.7 0.8 0.9]\n",
      "[0.         0.09983342 0.19866933 0.29552021 0.38941834 0.47942554\n",
      " 0.56464247 0.64421769 0.71735609 0.78332691]\n"
     ]
    }
   ],
   "source": [
    "a = np.array([[1,2,3],[4,5,6]])\n",
    "b = np.arange(0, 1.0, 0.1)\n",
    "c = np.sin(b)\n",
    "# c 使用了关键字参数 sin_array\n",
    "np.savez(\"runoob.npz\", a, b, sin_array = c)\n",
    "r = np.load(\"runoob.npz\")  \n",
    "print(r.files) # 查看各个数组名称\n",
    "print(r[\"arr_0\"]) # 数组 a\n",
    "print(r[\"arr_1\"]) # 数组 b\n",
    "print(r[\"sin_array\"]) # 数组 c"
   ]
  },
  {
   "cell_type": "markdown",
   "metadata": {
    "Collapsed": "false"
   },
   "source": [
    "## numpy.savetxt/loadtxt"
   ]
  },
  {
   "cell_type": "markdown",
   "metadata": {
    "Collapsed": "false"
   },
   "source": [
    "savetxt() 函数是以简单的文本文件格式存储数据，对应的使用 loadtxt() 函数来获取数据\n",
    "```Python\n",
    "np.loadtxt(FILENAME, dtype=int, delimiter=' ')\n",
    "np.savetxt(FILENAME, a, fmt=\"%d\", delimiter=\",\")\n",
    "```\n",
    "`delimiterdelimiter`：指定各种分隔符、针对特定列的转换器函数、需要跳过的行数等"
   ]
  },
  {
   "cell_type": "code",
   "execution_count": 67,
   "metadata": {
    "Collapsed": "false",
    "tags": [
     "16"
    ]
   },
   "outputs": [
    {
     "data": {
      "text/plain": [
       "array([1., 2., 3., 4., 5.])"
      ]
     },
     "execution_count": 67,
     "metadata": {},
     "output_type": "execute_result"
    }
   ],
   "source": [
    "a = np.array([1,2,3,4,5]) \n",
    "np.savetxt('out.txt',a) \n",
    "np.loadtxt('out.txt') "
   ]
  },
  {
   "cell_type": "code",
   "execution_count": 70,
   "metadata": {
    "Collapsed": "false",
    "tags": [
     "16"
    ]
   },
   "outputs": [
    {
     "data": {
      "text/plain": [
       "array([[0., 1., 2.],\n",
       "       [3., 4., 5.],\n",
       "       [6., 7., 8.]])"
      ]
     },
     "execution_count": 70,
     "metadata": {},
     "output_type": "execute_result"
    }
   ],
   "source": [
    "a=np.arange(9).reshape(3,3)\n",
    "np.savetxt(\"out.txt\",a,fmt=\"%d\",delimiter=\",\") # 改为保存为整数，以逗号分隔\n",
    "np.loadtxt(\"out.txt\",delimiter=\",\") # load 时也要指定为逗号分隔"
   ]
  },
  {
   "cell_type": "markdown",
   "metadata": {
    "Collapsed": "false"
   },
   "source": [
    "----"
   ]
  },
  {
   "cell_type": "markdown",
   "metadata": {
    "Collapsed": "false"
   },
   "source": [
    "#  Matplotlib简介"
   ]
  },
  {
   "cell_type": "markdown",
   "metadata": {
    "Collapsed": "false"
   },
   "source": [
    "- **Matplotlib** 是 Python 的绘图库。 它可与 NumPy 一起使用，提供了一种有效的 MatLab 开源替代方案。 它也可以和图形工具包一起使用，如 **PyQt** 和 **wxPython**\n",
    "- **IPython** 在分析计算领域能够流⾏的原因之⼀是它⾮常好的集成了数据可视化和其它⽤户界⾯库，⽐如matplotlib。\n",
    "- `%matplotlib inline` 魔术命令可以创建多个绘图窗⼝，⽽不会⼲扰控制台session"
   ]
  },
  {
   "cell_type": "code",
   "execution_count": 16,
   "metadata": {
    "Collapsed": "false"
   },
   "outputs": [],
   "source": [
    "%matplotlib inline\n",
    "import numpy as np \n",
    "import matplotlib as mp\n",
    "from matplotlib import pyplot as plt "
   ]
  },
  {
   "cell_type": "markdown",
   "metadata": {
    "Collapsed": "false"
   },
   "source": [
    "Matplotlib 默认情况不支持中文，我们可以使用以下简单的方法来解决：\n",
    "- 找到系统中字体文件的地址，选择一种中文字体\n",
    "- 通过以下代码创建一个字体特性 `heiti` (即黑体)\n",
    "- 以后在标题/横坐标/纵坐标命名中增加一个 `fontproperties` 参数即可"
   ]
  },
  {
   "cell_type": "code",
   "execution_count": 19,
   "metadata": {
    "Collapsed": "false"
   },
   "outputs": [],
   "source": [
    "heiti = mp.font_manager.FontProperties(fname=r\"C:\\Windows\\Fonts\\SimHei.ttf\")"
   ]
  },
  {
   "cell_type": "code",
   "execution_count": 28,
   "metadata": {
    "Collapsed": "false"
   },
   "outputs": [
    {
     "data": {
      "text/plain": [
       "[<matplotlib.lines.Line2D at 0x2032f032cc0>]"
      ]
     },
     "execution_count": 28,
     "metadata": {},
     "output_type": "execute_result"
    },
    {
     "data": {
      "image/png": "[encoded data removed]",
      "text/plain": [
       "<Figure size 432x288 with 1 Axes>"
      ]
     },
     "metadata": {
      "needs_background": "light"
     },
     "output_type": "display_data"
    }
   ],
   "source": [
    "x = np.arange(1,11) \n",
    "y =  2  * x +  5 \n",
    "plt.title(\"Matplotlib测试\",fontproperties=heiti,fontsize=20) \n",
    "plt.xlabel(\"x 轴\",fontproperties=heiti,fontsize=15) \n",
    "plt.ylabel(\"y 轴\",fontproperties=heiti,fontsize=15) \n",
    "plt.plot(x,y)"
   ]
  },
  {
   "cell_type": "markdown",
   "metadata": {
    "Collapsed": "false"
   },
   "source": [
    "类似于Matlab，我们通过参数修改线形、颜色："
   ]
  },
  {
   "cell_type": "markdown",
   "metadata": {
    "Collapsed": "false"
   },
   "source": [
    "|字符|描述|字符|描述|字符|描述|\n",
    "|:----|:----|:----|:----|:----|:----|\n",
    "|`-`|实线|`--`|段横线|`-.`|点划线|\n",
    "|`:`|虚线|`.`|点标记|`,`|像素标记|\n",
    "|`o`|圆标记|`v`|倒三角|`^`|正三角|\n",
    "|`&lt`|左三角|`&gt`|右三角|`1`|下箭头|\n",
    "|`2`|上箭头|`3`|左箭头|`4`|右箭头|\n",
    "|`s`|正方形|`p`|五边形|`*`|星形|\n",
    "|`h`|六边形1|`H`|六边形2|`+`|加号|\n",
    "|`x`|X标记|`D`|菱形|`d`|窄菱形|\n",
    "|`&#124`|竖直线|`_`|水平线|||\n",
    "\n",
    "|颜色|描述|颜色|描述|颜色|描述|\n",
    "|:----|:----|:----|:----|:----|:----|\n",
    "|`b`|蓝|`g`|绿|`r`|红|\n",
    "|`c`|青|`m`|品红|`y`|黄|\n",
    "|`k`|黑色|`w`|白色|||"
   ]
  },
  {
   "cell_type": "code",
   "execution_count": 37,
   "metadata": {
    "Collapsed": "false"
   },
   "outputs": [
    {
     "data": {
      "text/plain": [
       "[<matplotlib.lines.Line2D at 0x203305245c0>]"
      ]
     },
     "execution_count": 37,
     "metadata": {},
     "output_type": "execute_result"
    },
    {
     "data": {
      "image/png": "[encoded data removed]",
      "text/plain": [
       "<Figure size 432x288 with 1 Axes>"
      ]
     },
     "metadata": {
      "needs_background": "light"
     },
     "output_type": "display_data"
    }
   ],
   "source": [
    "plt.plot(x,y,'-.sm') "
   ]
  },
  {
   "cell_type": "markdown",
   "metadata": {
    "Collapsed": "false"
   },
   "source": [
    "## pyplot.subplot"
   ]
  },
  {
   "cell_type": "markdown",
   "metadata": {
    "Collapsed": "false"
   },
   "source": [
    "一张图分成多个格子"
   ]
  },
  {
   "cell_type": "code",
   "execution_count": 40,
   "metadata": {
    "Collapsed": "false"
   },
   "outputs": [
    {
     "data": {
      "text/plain": [
       "[<matplotlib.lines.Line2D at 0x203306c2240>]"
      ]
     },
     "execution_count": 40,
     "metadata": {},
     "output_type": "execute_result"
    },
    {
     "data": {
      "image/png": "[encoded data removed]",
      "text/plain": [
       "<Figure size 432x288 with 2 Axes>"
      ]
     },
     "metadata": {
      "needs_background": "light"
     },
     "output_type": "display_data"
    }
   ],
   "source": [
    "x = np.arange(0,  3  * np.pi,  0.1) \n",
    "y_sin = np.sin(x) \n",
    "y_cos = np.cos(x)  \n",
    "# 建立 subplot 网格，高为 2，宽为 1  \n",
    "# 激活第一个 subplot，并绘制第一个图像\n",
    "plt.subplot(2,  1,  1)  \n",
    "plt.title('Sine') \n",
    "plt.plot(x, y_sin) \n",
    "# 将第二个 subplot 激活，并绘制第二个图像\n",
    "plt.subplot(2,  1,  2) \n",
    "plt.title('Cosine')  \n",
    "plt.plot(x, y_cos) "
   ]
  },
  {
   "cell_type": "code",
   "execution_count": 41,
   "metadata": {
    "Collapsed": "false"
   },
   "outputs": [
    {
     "data": {
      "text/plain": [
       "[<matplotlib.lines.Line2D at 0x2033072c390>]"
      ]
     },
     "execution_count": 41,
     "metadata": {},
     "output_type": "execute_result"
    },
    {
     "data": {
      "image/png": "[encoded data removed]",
      "text/plain": [
       "<Figure size 432x288 with 1 Axes>"
      ]
     },
     "metadata": {
      "needs_background": "light"
     },
     "output_type": "display_data"
    }
   ],
   "source": [
    "# 如果不使用subplot()函数，则所有的曲线会绘制在一张图上：\n",
    "plt.title('Sine') \n",
    "plt.plot(x, y_sin) \n",
    "plt.title('Cosine')  \n",
    "plt.plot(x, y_cos) "
   ]
  },
  {
   "cell_type": "markdown",
   "metadata": {
    "Collapsed": "false"
   },
   "source": [
    "## pyplot.bar"
   ]
  },
  {
   "cell_type": "markdown",
   "metadata": {
    "Collapsed": "false"
   },
   "source": [
    "生成条形图"
   ]
  },
  {
   "cell_type": "code",
   "execution_count": 44,
   "metadata": {
    "Collapsed": "false"
   },
   "outputs": [
    {
     "data": {
      "text/plain": [
       "Text(0.5, 0, 'X axis')"
      ]
     },
     "execution_count": 44,
     "metadata": {},
     "output_type": "execute_result"
    },
    {
     "data": {
      "image/png": "[encoded data removed]",
      "text/plain": [
       "<Figure size 432x288 with 1 Axes>"
      ]
     },
     "metadata": {
      "needs_background": "light"
     },
     "output_type": "display_data"
    }
   ],
   "source": [
    "x =  [5,8,10] \n",
    "y =  [12,16,6] \n",
    "x2 =  [6,9,11] \n",
    "y2 =  [6,15,7] \n",
    "plt.bar(x, y, align =  'center') \n",
    "plt.bar(x2, y2, color =  'g', align =  'center') \n",
    "plt.title('Bar graph') \n",
    "plt.ylabel('Y axis') \n",
    "plt.xlabel('X axis')"
   ]
  },
  {
   "cell_type": "markdown",
   "metadata": {
    "Collapsed": "false"
   },
   "source": [
    "## numpy.histogram/pyplot.hist "
   ]
  },
  {
   "cell_type": "markdown",
   "metadata": {
    "Collapsed": "false"
   },
   "source": [
    "**`numpy.histogram()`** 函数是计算数组在给定区间(**`bins`** 参数)上的频率分布"
   ]
  },
  {
   "cell_type": "code",
   "execution_count": 45,
   "metadata": {
    "Collapsed": "false"
   },
   "outputs": [
    {
     "data": {
      "text/plain": [
       "(array([3, 4, 5, 2, 1], dtype=int64), array([  0,  20,  40,  60,  80, 100]))"
      ]
     },
     "execution_count": 45,
     "metadata": {},
     "output_type": "execute_result"
    }
   ],
   "source": [
    "a = np.array([22,87,5,43,56,73,55,54,11,20,51,5,79,31,27])\n",
    "np.histogram(a,bins =  [0,20,40,60,80,100]) "
   ]
  },
  {
   "cell_type": "code",
   "execution_count": 61,
   "metadata": {
    "Collapsed": "false"
   },
   "outputs": [
    {
     "data": {
      "text/plain": [
       "<BarContainer object of 5 artists>"
      ]
     },
     "execution_count": 61,
     "metadata": {},
     "output_type": "execute_result"
    },
    {
     "data": {
      "image/png": "[encoded data removed]",
      "text/plain": [
       "<Figure size 432x288 with 1 Axes>"
      ]
     },
     "metadata": {
      "needs_background": "light"
     },
     "output_type": "display_data"
    }
   ],
   "source": [
    "# 利用前述直方图函数bar绘出频率分布图\n",
    "y,x=np.histogram(a,bins =  [0,20,40,60,80,100]) \n",
    "x1=x[1:]/2\n",
    "plt.bar(x1, y) "
   ]
  },
  {
   "cell_type": "markdown",
   "metadata": {
    "Collapsed": "false"
   },
   "source": [
    "**`matplotlib.pyplot.hist`** 简化了上述步骤，而直接绘出频率分布直方图"
   ]
  },
  {
   "cell_type": "code",
   "execution_count": 62,
   "metadata": {
    "Collapsed": "false"
   },
   "outputs": [
    {
     "data": {
      "text/plain": [
       "(array([3., 4., 5., 2., 1.]),\n",
       " array([  0,  20,  40,  60,  80, 100]),\n",
       " <a list of 5 Patch objects>)"
      ]
     },
     "execution_count": 62,
     "metadata": {},
     "output_type": "execute_result"
    },
    {
     "data": {
      "image/png": "[encoded data removed]",
      "text/plain": [
       "<Figure size 432x288 with 1 Axes>"
      ]
     },
     "metadata": {
      "needs_background": "light"
     },
     "output_type": "display_data"
    }
   ],
   "source": [
    "plt.hist(a, bins =  [0,20,40,60,80,100]) "
   ]
  },
  {
   "cell_type": "markdown",
   "metadata": {
    "Collapsed": "false"
   },
   "source": [
    "----"
   ]
  }
 ],
 "metadata": {
  "kernelspec": {
   "display_name": "Python 3",
   "language": "python",
   "name": "python3"
  },
  "language_info": {
   "codemirror_mode": {
    "name": "ipython",
    "version": 3
   },
   "file_extension": ".py",
   "mimetype": "text/x-python",
   "name": "python",
   "nbconvert_exporter": "python",
   "pygments_lexer": "ipython3",
   "version": "3.7.3"
  },
  "toc-autonumbering": true,
  "toc-showcode": false,
  "toc-showmarkdowntxt": false,
  "toc-showtags": false,
  "varInspector": {
   "cols": {
    "lenName": 16,
    "lenType": 16,
    "lenVar": 40
   },
   "kernels_config": {
    "python": {
     "delete_cmd_postfix": "",
     "delete_cmd_prefix": "del ",
     "library": "var_list.py",
     "varRefreshCmd": "print(var_dic_list())"
    },
    "r": {
     "delete_cmd_postfix": ") ",
     "delete_cmd_prefix": "rm(",
     "library": "var_list.r",
     "varRefreshCmd": "cat(var_dic_list()) "
    }
   },
   "types_to_exclude": [
    "module",
    "function",
    "builtin_function_or_method",
    "instance",
    "_Feature"
   ],
   "window_display": false
  }
 },
 "nbformat": 4,
 "nbformat_minor": 4
}
